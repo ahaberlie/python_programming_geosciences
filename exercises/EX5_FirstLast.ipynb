{
 "cells": [
  {
   "cell_type": "markdown",
   "id": "af0e1888-6991-4b11-abac-50487f0003ee",
   "metadata": {},
   "source": [
    "# Exercise 5 - if / elif / else statements\n",
    "\n",
    "**5 total points**"
   ]
  },
  {
   "cell_type": "markdown",
   "id": "d5dd6de0-4a58-45a9-8f04-1a955aa0923e",
   "metadata": {},
   "source": [
    "## Directions\n",
    "\n",
    "- Due: **10/06/2025 @ 11:59 p.m.**\n",
    "- Change the name of your notebook to EX5_FirstLast.ipynb, where First is your first name and Last is your last name.\n",
    "- For each of the following prompts, write or modify Python code that fulfills the requirements. "
   ]
  },
  {
   "cell_type": "markdown",
   "id": "771dc193-4fa1-4285-b96a-7ab60537a6a1",
   "metadata": {},
   "source": [
    "### Translating a set of instructions to an ```if / elif / else``` statement\n",
    "\n",
    "#### Problem statement:\n",
    "\n",
    "A user wants a program that takes an a variable named temperature and print out the following information:\n",
    "\n",
    "1. \"The temperature is x, \" where x is the value in temperature. It must be inserted into the string using an f-string.\n",
    "\n",
    "2. Add a second part to the message based on the following conditions:\n",
    "\n",
    "    - If the number is greater than 100, add \"and it is Very Hot!\"\n",
    "\n",
    "    - If the number is greater than 90 and less than or equal to 100, add \"and it is Hot!\"\n",
    "\n",
    "    - If the number is greater than 70 and less than or equal to 90, add \"and it is Warm!\"\n",
    "\n",
    "    - If the number is greater than 32 and less than or equal to 70, add \"and it is Cool!\"\n",
    "\n",
    "    - If the number is less than or equal to 32, add \"and it is Freezing!\"\n",
    "\n",
    "**We want to print ONLY one sentence each time the program is ran**\n",
    "\n",
    "Things to think about:\n",
    "\n",
    "1. How can you make your life easier? What specific flow control mechanism should you use?\n",
    "\n",
    "2. Less than is not the same as less than or equal to\n",
    "\n",
    "3. Greater than is not the same as greater than or equal to\n",
    "\n",
    "\n",
    "Examples:\n",
    "\n",
    "```\n",
    "temperature = 80\n",
    "\n",
    "# create your message\n",
    "\n",
    "print(message)\n",
    "```\n",
    "output should be:\n",
    "\n",
    "```\n",
    "\"The temperature is 80, and it is Warm!\"\n",
    "```\n",
    "\n",
    "Examples:\n",
    "\n",
    "```\n",
    "temperature = 105\n",
    "\n",
    "# create your message\n",
    "\n",
    "print(message)\n",
    "```\n",
    "output should be:\n",
    "\n",
    "```\n",
    "\"The temperature is 105, and it is Very Hot!\"\n",
    "```"
   ]
  },
  {
   "cell_type": "code",
   "execution_count": null,
   "id": "3dda0de0-c723-48b0-bfed-7bfd4c9b9066",
   "metadata": {},
   "outputs": [],
   "source": [
    "temperature = 85\n",
    "\n",
    "# create your message\n",
    "\n",
    "print(message)"
   ]
  }
 ],
 "metadata": {
  "kernelspec": {
   "display_name": "Python [conda env:mamba-geo] *",
   "language": "python",
   "name": "conda-env-mamba-geo-py"
  },
  "language_info": {
   "codemirror_mode": {
    "name": "ipython",
    "version": 3
   },
   "file_extension": ".py",
   "mimetype": "text/x-python",
   "name": "python",
   "nbconvert_exporter": "python",
   "pygments_lexer": "ipython3",
   "version": "3.12.11"
  }
 },
 "nbformat": 4,
 "nbformat_minor": 5
}
