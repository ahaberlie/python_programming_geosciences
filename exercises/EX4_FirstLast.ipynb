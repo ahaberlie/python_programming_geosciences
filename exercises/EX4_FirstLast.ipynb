{
 "cells": [
  {
   "cell_type": "markdown",
   "id": "af0e1888-6991-4b11-abac-50487f0003ee",
   "metadata": {},
   "source": [
    "# Exercise 4 - Composite Data Types\n",
    "\n",
    "**5 total points**"
   ]
  },
  {
   "cell_type": "markdown",
   "id": "375ced2a-5dbf-4651-b769-0b390fcfe77f",
   "metadata": {},
   "source": [
    "## Directions\n",
    "\n",
    "- Due: **9/28/2025 @ 11:59 p.m.**\n",
    "- Change the name of your notebook to EX4_FirstLast.ipynb, where First is your first name and Last is your last name.\n",
    "- For each of the following prompts, write or modify Python code that fulfills the requirements. "
   ]
  },
  {
   "cell_type": "markdown",
   "id": "347a8c23-043c-4f98-979c-e689fb48a943",
   "metadata": {},
   "source": [
    "## Important information to remember\n",
    "\n",
    "- Periodically, you should click File -> Save Notebook\n",
    "- When you are done working for the day, click File -> Log Out\n",
    "- When you are finished, download the notebook and upload it to the submission link\n",
    "- I will reset the notebook and run each code block on its own. You will receive half credit if you rely on a variable from a previous or subsequent code block."
   ]
  },
  {
   "cell_type": "markdown",
   "id": "771dc193-4fa1-4285-b96a-7ab60537a6a1",
   "metadata": {},
   "source": [
    "## Setting variables to composite data types\n",
    "\n",
    "### Problem 1\n",
    "\n",
    "Set a variable named ```a``` to a ```string``` (0.5 pts)"
   ]
  },
  {
   "cell_type": "code",
   "execution_count": null,
   "id": "3dda0de0-c723-48b0-bfed-7bfd4c9b9066",
   "metadata": {},
   "outputs": [],
   "source": []
  },
  {
   "cell_type": "markdown",
   "id": "0b5d30a1-8566-4119-91d9-507c65e947ea",
   "metadata": {},
   "source": [
    "### Problem 2\n",
    "\n",
    "Set a variable named ```b``` to a ```tuple``` (0.5 pts)"
   ]
  },
  {
   "cell_type": "code",
   "execution_count": null,
   "id": "9ae25e00-a955-4eae-a811-7fa2d9c9127f",
   "metadata": {},
   "outputs": [],
   "source": []
  },
  {
   "cell_type": "markdown",
   "id": "6ecea335-35fa-4dd8-a9a0-ceae7d2aff1c",
   "metadata": {},
   "source": [
    "### Problem 3\n",
    "\n",
    "Set a variable named ```c``` to a ```list``` (0.5 pts)"
   ]
  },
  {
   "cell_type": "code",
   "execution_count": null,
   "id": "cce3544a-bc86-4737-a0a9-a73594e8e257",
   "metadata": {},
   "outputs": [],
   "source": []
  },
  {
   "cell_type": "markdown",
   "id": "9e50f60e-697e-4cbd-9d5f-f7126d41b473",
   "metadata": {},
   "source": [
    "### Problem 4\n",
    "\n",
    "Set a variable named ```d``` to a tuple of 3 ```floats``` named ```fa``` ```fb``` ```fc``` (0.5 pts)"
   ]
  },
  {
   "cell_type": "code",
   "execution_count": null,
   "id": "ae78070b-fcf7-4b97-91b5-0d2234045ba8",
   "metadata": {},
   "outputs": [],
   "source": []
  },
  {
   "cell_type": "markdown",
   "id": "a63174ff-4f9f-4b73-8d68-50e73a6a860e",
   "metadata": {},
   "source": [
    "### Problem 5\n",
    "\n",
    "Set a variable named ```e``` to a ```list``` of 3 ```strings``` named ```sa``` ```sb``` ```sc``` (0.5 pts)"
   ]
  },
  {
   "cell_type": "code",
   "execution_count": null,
   "id": "3e218a2e-8d04-4b47-8fb3-bc53ea8ce905",
   "metadata": {},
   "outputs": [],
   "source": []
  },
  {
   "cell_type": "markdown",
   "id": "78c7d88d-549f-4d8f-a5a8-397d5d8cea48",
   "metadata": {},
   "source": [
    "### Problem 6\n",
    "\n",
    "Set a variable named ```f``` to a ```dictionary``` that has a ```string``` as an index for a ```list``` of 3 ```integers``` named ```ia``` ```ib``` ```ic``` (0.5 pts)"
   ]
  },
  {
   "cell_type": "code",
   "execution_count": null,
   "id": "88171527-d7f5-4aa3-86ee-ddf81cc29ccd",
   "metadata": {},
   "outputs": [],
   "source": []
  },
  {
   "cell_type": "markdown",
   "id": "b353d8a9-82bb-489b-9a59-a57cb8834d95",
   "metadata": {
    "tags": []
   },
   "source": [
    "### Problem 7\n",
    "\n",
    "Set a variable named ```g``` to a ```dictionary``` that has 3 ```string``` indexes, and each index has a ```list``` with three values in them.\n",
    "\n",
    "One ```list``` has 3 ```strings``` named ```sa``` ```sb``` ```sc``` one ```list``` has 3 ```floats``` named ```fa``` ```fb``` ```fc``` , and one list has 3 ```booleans``` named ```ba``` ```bb``` ```bc``` (1 pt)"
   ]
  },
  {
   "cell_type": "code",
   "execution_count": null,
   "id": "c8630f60-4a54-489d-82b5-3d63b195fba3",
   "metadata": {},
   "outputs": [],
   "source": []
  },
  {
   "cell_type": "markdown",
   "id": "37aead92-8a74-44b5-a6ac-ada909eb2810",
   "metadata": {},
   "source": [
    "### Problem 8\n",
    "\n",
    "Create a dictionary named ```observation``` that has 2 indexes for 2 ```lists```. The indexes should be named ```high temperature``` and ```low temperature``` (0.5 pts)\n",
    "\n",
    "The ```list``` associated with ```high temperature``` should have two ```integers``` named ```ia``` ```ib``` that are larger than those associated with low temperature (0.25 pts)\n",
    "\n",
    "The ```list``` associated with ```low temperature``` should have two ```integers``` named ```ic``` ```id``` that are smaller than those associated with high temperature (0.25 pts)"
   ]
  },
  {
   "cell_type": "code",
   "execution_count": null,
   "id": "a96403b0-edf7-433c-9973-ff4b97dbc63d",
   "metadata": {},
   "outputs": [],
   "source": []
  }
 ],
 "metadata": {
  "kernelspec": {
   "display_name": "Python 3 (ipykernel)",
   "language": "python",
   "name": "python3"
  },
  "language_info": {
   "codemirror_mode": {
    "name": "ipython",
    "version": 3
   },
   "file_extension": ".py",
   "mimetype": "text/x-python",
   "name": "python",
   "nbconvert_exporter": "python",
   "pygments_lexer": "ipython3",
   "version": "3.12.11"
  }
 },
 "nbformat": 4,
 "nbformat_minor": 5
}
