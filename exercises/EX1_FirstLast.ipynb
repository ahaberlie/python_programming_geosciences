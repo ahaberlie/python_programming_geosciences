{
 "cells": [
  {
   "cell_type": "markdown",
   "id": "32ad4b62-ec0b-4ad3-942e-0759fd29a834",
   "metadata": {},
   "source": [
    "# Exercise 1 - Jupyter Introduction\n",
    "\n",
    "**5 total points**"
   ]
  },
  {
   "cell_type": "markdown",
   "id": "de534b90-7cba-4b98-91c6-b2eced5b6e2c",
   "metadata": {},
   "source": [
    "## Directions\n",
    "\n",
    "- Due: TBD\n",
    "- Change the name of your notebook to EX1_FirstLast.ipynb, where First is your first name and Last is your last name.\n",
    "- For each of the following prompts, write or modify Python (or Markdown) code that fulfills the requirements. "
   ]
  },
  {
   "cell_type": "markdown",
   "id": "49c978b7-5b3c-48e5-9859-d22b9fc59719",
   "metadata": {},
   "source": [
    "## Important information to remember\n",
    "\n",
    "- Periodically, you should click File -> Save Notebook\n",
    "- When you are done working for the day, click File -> Log Out\n",
    "- When you are finished, download the notebook and upload it to the submission link\n",
    "- I will reset the notebook and run each code block on its own. You will receive half credit if you rely on a variable from a previous or subsequent code block."
   ]
  },
  {
   "cell_type": "markdown",
   "id": "323bd2e9-8cde-47db-ab9d-aaa4f623dc33",
   "metadata": {},
   "source": [
    "## Problem 1 \n",
    "\n",
    "Recreate the following text demonstrated in the image below exactly as it appears using Markdown code in a Markdown cell immediately after this cell (0.5 pts). \n",
    "\n",
    "Replace the placeholder text with your information (i.e., what is *your* name? what is *your* major? etc.) (0.5 pts).\n",
    "\n",
    "### First Last\n",
    "\n",
    "**Year**: Junior\n",
    "\n",
    "**Major**: Earth, Atmosphere and Environment\n",
    "\n",
    "**Emphasis**: Climate Science"
   ]
  },
  {
   "cell_type": "markdown",
   "id": "006ae7b5-9a00-42b9-a550-fdd52c3a8c3d",
   "metadata": {},
   "source": [
    "[Problem 1 Answer]"
   ]
  },
  {
   "cell_type": "markdown",
   "id": "eac90edb-c9e1-4e0c-b8c5-0cd7347354b3",
   "metadata": {},
   "source": [
    "## Problem 2\n",
    "\n",
    "Recreate the following text and picture demonstrated in the image below exactly as it appears using Markdown code in a Markdown cell immediately after this cell (0.5 pts). Change the text for your favorite team and their logo (0.5 pts).\n",
    "\n",
    "**Favorite Sports Team**: NIU Huskies\n",
    "\n",
    "![sportz](https://upload.wikimedia.org/wikipedia/en/thumb/8/87/Northern_Illinois_Huskies_logo.svg/640px-Northern_Illinois_Huskies_logo.svg.png)"
   ]
  },
  {
   "cell_type": "markdown",
   "id": "d25be4b4-6105-41e9-b271-dacd84607ebd",
   "metadata": {},
   "source": [
    "[Problem 2 Answer]"
   ]
  },
  {
   "cell_type": "markdown",
   "id": "2dd01905-a6ed-40c3-8035-1d2b3c47b152",
   "metadata": {},
   "source": [
    "## Problem 3\n",
    "\n",
    "Recreate the following text and picture demonstrated in the image below exactly as it appears using Markdown code in a Markdown cell immediately after this cell (0.5 pts). Change the text for your favorite natural phenomenon and a picture of that phenomenon (0.5 pts).\n",
    "\n",
    "**Favorite Natural Phenomenon**: Thunderstorm\n",
    "\n",
    "![sportz](https://upload.wikimedia.org/wikipedia/commons/9/93/Fly00890_-_Flickr_-_NOAA_Photo_Library.jpg)"
   ]
  },
  {
   "cell_type": "markdown",
   "id": "2ed006ea-111e-4e99-aafc-88925f0720d5",
   "metadata": {},
   "source": [
    "[Problem 3 Answer]"
   ]
  },
  {
   "cell_type": "markdown",
   "id": "ca30c224-bbf0-4517-b606-75ca8db7dca3",
   "metadata": {},
   "source": [
    "## Problem 4\n",
    "\n",
    "Recreate the following text and picture demonstrated in the image below exactly as it appears using Markdown code in a Markdown cell immediately after this cell (0.5 pts). Change the text to represent your most ideal career after graduation, where 1 is top career. Change the color of the top career text to red and make the text bold (0.5 pts).\n",
    "\n",
    "1. <font color=red>**PGA Tour**</font>\n",
    "2. Professor\n",
    "3. Research Scientist"
   ]
  },
  {
   "cell_type": "markdown",
   "id": "aa9187a1-45c2-4006-b381-86e29392b059",
   "metadata": {},
   "source": [
    "[Problem 4 Answer]"
   ]
  },
  {
   "cell_type": "markdown",
   "id": "a8f38291-36d3-4308-9333-25617aa644f9",
   "metadata": {},
   "source": [
    "## Problem 5\n",
    "\n",
    "Open ended. Create a Markdown cell that describes your experience with programming, what you want to get out of this course, and how you think it will help you in your future career (1 pt)"
   ]
  },
  {
   "cell_type": "markdown",
   "id": "5c479831-0be4-4d1a-ae6d-f6b597a22497",
   "metadata": {},
   "source": [
    "[Problem 5 Answer]"
   ]
  }
 ],
 "metadata": {
  "kernelspec": {
   "display_name": "Python [conda env:geo] *",
   "language": "python",
   "name": "conda-env-geo-py"
  },
  "language_info": {
   "codemirror_mode": {
    "name": "ipython",
    "version": 3
   },
   "file_extension": ".py",
   "mimetype": "text/x-python",
   "name": "python",
   "nbconvert_exporter": "python",
   "pygments_lexer": "ipython3",
   "version": "3.11.10"
  }
 },
 "nbformat": 4,
 "nbformat_minor": 5
}
