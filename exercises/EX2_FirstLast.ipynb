{
 "cells": [
  {
   "cell_type": "markdown",
   "id": "af0e1888-6991-4b11-abac-50487f0003ee",
   "metadata": {},
   "source": [
    "# Exercise 2 - Basic Syntax"
   ]
  },
  {
   "cell_type": "markdown",
   "id": "469e5f4a-09c8-4be1-be50-04ffd9eccc8f",
   "metadata": {},
   "source": [
    "## Directions\n",
    "\n",
    "- Due: TBD\n",
    "- Change the name of your notebook to EX2_FirstLast.ipynb, where First is your first name and Last is your last name.\n",
    "- For each of the following prompts, write or modify Python code that fulfills the requirements. "
   ]
  },
  {
   "cell_type": "markdown",
   "id": "eaf95853-e7bd-4399-990f-7da08d3a596e",
   "metadata": {},
   "source": [
    "## Important information to remember\n",
    "\n",
    "- Periodically, you should click File -> Save Notebook\n",
    "- When you are done working for the day, click File -> Log Out\n",
    "- When you are finished, download the notebook and upload it to the submission link\n",
    "- I will reset the notebook and run each code block on its own. You will receive half credit if you rely on a variable from a previous or subsequent code block."
   ]
  },
  {
   "cell_type": "markdown",
   "id": "771dc193-4fa1-4285-b96a-7ab60537a6a1",
   "metadata": {},
   "source": [
    "## Assigning and printing variables"
   ]
  },
  {
   "cell_type": "markdown",
   "id": "defbee8d-f27d-4e6b-97ce-9f0c57b917e9",
   "metadata": {},
   "source": [
    "### Problem 1\n",
    "\n",
    "Set a variable named ```a``` to the value 10 and print the value associated with variable ```a``` using the variable ```a```"
   ]
  },
  {
   "cell_type": "code",
   "execution_count": null,
   "id": "37e9f3da-6473-4e9b-a300-cbeb96bb084a",
   "metadata": {},
   "outputs": [],
   "source": []
  },
  {
   "cell_type": "markdown",
   "id": "0b5d30a1-8566-4119-91d9-507c65e947ea",
   "metadata": {},
   "source": [
    "### Problem 2\n",
    "\n",
    "Print the math operation ```10 + 5``` without using any variables"
   ]
  },
  {
   "cell_type": "code",
   "execution_count": null,
   "id": "9ae25e00-a955-4eae-a811-7fa2d9c9127f",
   "metadata": {},
   "outputs": [],
   "source": []
  },
  {
   "cell_type": "markdown",
   "id": "6ecea335-35fa-4dd8-a9a0-ceae7d2aff1c",
   "metadata": {},
   "source": [
    "### Problem 3\n",
    "\n",
    "Set the result of the operation ```10 + 5``` equal to a variable named ```b``` and then print value associated the variable ```b``` using the variable ```b```"
   ]
  },
  {
   "cell_type": "code",
   "execution_count": null,
   "id": "cce3544a-bc86-4737-a0a9-a73594e8e257",
   "metadata": {},
   "outputs": [],
   "source": []
  },
  {
   "cell_type": "markdown",
   "id": "9e50f60e-697e-4cbd-9d5f-f7126d41b473",
   "metadata": {},
   "source": [
    "### Problem 4\n",
    "\n",
    "Set a variable named ```c``` equal to 5, and a variable named ```d``` equal to 10; then print the result of the operation ```c + d```"
   ]
  },
  {
   "cell_type": "code",
   "execution_count": null,
   "id": "ae78070b-fcf7-4b97-91b5-0d2234045ba8",
   "metadata": {},
   "outputs": [],
   "source": []
  },
  {
   "cell_type": "markdown",
   "id": "78c7d88d-549f-4d8f-a5a8-397d5d8cea48",
   "metadata": {},
   "source": [
    "### Problem 5\n",
    "\n",
    "Change the following code so the print statement produces the output \"12\""
   ]
  },
  {
   "cell_type": "code",
   "execution_count": null,
   "id": "88171527-d7f5-4aa3-86ee-ddf81cc29ccd",
   "metadata": {},
   "outputs": [],
   "source": [
    "e = 10\n",
    "f = 15\n",
    "\n",
    "result = e + f\n",
    "\n",
    "print(result)"
   ]
  },
  {
   "cell_type": "markdown",
   "id": "b02833e4-8adf-4026-bb29-6aff9ada1828",
   "metadata": {},
   "source": [
    "# Using variables in equations"
   ]
  },
  {
   "cell_type": "markdown",
   "id": "27ca926b-b0b5-4422-b747-3f3fa0ff6db7",
   "metadata": {},
   "source": [
    "### Problem 6\n",
    "\n",
    "Implement the linear equation ```y = mx + b``` in Python code. Your slope should be 2, your intersect should be 5, and your x position should be 1.\n",
    "\n",
    "The output from two print statements should be exactly equal to the following. You must use the variables ```m```, ```x```, ```b```, and ```y``` to print:\n",
    "\n",
    "```\n",
    "m: 2 x: 1 b: 5\n",
    "The resulting y value is 7\n",
    "```\n",
    "\n",
    "Do not reuse variable definitions from previous problems. Explicitly set the required variables in the following code block.\n",
    "\n",
    "HINT: Use the error message to find any bugs in your code."
   ]
  },
  {
   "cell_type": "code",
   "execution_count": null,
   "id": "680c9e64-c34c-4fd7-9823-745b420ac0fd",
   "metadata": {},
   "outputs": [],
   "source": [
    "# place your code below this line\n",
    "\n",
    "\n",
    "# do not change anything below this line\n",
    "print(\"m:\", m, \"x:\", x, \"b:\", b)\n",
    "print(\"The resulting y value is\", y)"
   ]
  },
  {
   "cell_type": "markdown",
   "id": "9487244e-b988-4888-8307-7e4fdb83f353",
   "metadata": {},
   "source": [
    "# Math operations\n",
    "\n",
    "Use the clues in the print statement text below to change the operations (and only the operations) if needed. The answers you must match are given for each problem."
   ]
  },
  {
   "cell_type": "markdown",
   "id": "34702ee2-50db-4e03-99db-cca03dca5469",
   "metadata": {},
   "source": [
    "### Problem 7\n",
    "\n",
    "Reproduce the following output *exactly*: ```Sum is 4```"
   ]
  },
  {
   "cell_type": "code",
   "execution_count": null,
   "id": "77bc2ac5-c890-4526-940a-971db54e0bea",
   "metadata": {},
   "outputs": [],
   "source": [
    "a = 2\n",
    "b = 2\n",
    "\n",
    "print(\"Sum is\", a % b)"
   ]
  },
  {
   "cell_type": "markdown",
   "id": "2f39aef7-c9fa-4853-ae4e-f79617f4cdcf",
   "metadata": {},
   "source": [
    "### Problem 8\n",
    "\n",
    "Reproduce the following output *exactly*: ```Difference is -1```"
   ]
  },
  {
   "cell_type": "code",
   "execution_count": null,
   "id": "e3fd8ad3-726b-4db9-8094-c7280709d6bb",
   "metadata": {},
   "outputs": [],
   "source": [
    "a = 1\n",
    "b = 2\n",
    "\n",
    "print(\"Difference is\", a * b)"
   ]
  },
  {
   "cell_type": "markdown",
   "id": "d1423d4e-f61b-4321-b4fb-845a839d3986",
   "metadata": {},
   "source": [
    "### Problem 9\n",
    "\n",
    "Reproduce the following output *exactly*: ```Product is 2```"
   ]
  },
  {
   "cell_type": "code",
   "execution_count": null,
   "id": "ffb03be0-aaba-4385-ba5d-c162a1663254",
   "metadata": {},
   "outputs": [],
   "source": [
    "a = 1\n",
    "b = 2\n",
    "\n",
    "print(\"Product is\", a ** b)"
   ]
  },
  {
   "cell_type": "markdown",
   "id": "7fe03e05-608a-45d6-80d7-c129f1494a7b",
   "metadata": {},
   "source": [
    "### Problem 10\n",
    "\n",
    "Reproduce the following output *exactly*: "
   ]
  },
  {
   "cell_type": "code",
   "execution_count": null,
   "id": "1974200d-e81c-42b7-9e53-acd7e9167673",
   "metadata": {},
   "outputs": [],
   "source": [
    "a = 1\n",
    "b = 2\n",
    "\n",
    "print(\"Quotient is\", a + b)"
   ]
  },
  {
   "cell_type": "markdown",
   "id": "e041fd28-41e5-4cc6-ad18-a7dc29b8fbe6",
   "metadata": {},
   "source": [
    "### Problem 11\n",
    "\n",
    "Reproduce the following output *exactly*: "
   ]
  },
  {
   "cell_type": "code",
   "execution_count": null,
   "id": "11d0520e-258c-41a2-8341-ed54d9bfa197",
   "metadata": {},
   "outputs": [],
   "source": [
    "a = 2\n",
    "b = 2\n",
    "\n",
    "print(\"Exponential is\", a - b)"
   ]
  },
  {
   "cell_type": "markdown",
   "id": "c1bf4d5c-38bc-4868-9b8c-3f393b05cbfd",
   "metadata": {},
   "source": [
    "### Problem 12\n",
    "\n",
    "Reproduce the following output *exactly*: "
   ]
  },
  {
   "cell_type": "code",
   "execution_count": null,
   "id": "9c430f7a-76a9-4e67-b83c-296dcf843621",
   "metadata": {},
   "outputs": [],
   "source": [
    "a = 7\n",
    "b = 4\n",
    "\n",
    "print(\"Remainder is\", a / b)"
   ]
  },
  {
   "cell_type": "markdown",
   "id": "09a143d5-c077-42bf-a9e1-fbdc1a189678",
   "metadata": {},
   "source": [
    "# Order of operations"
   ]
  },
  {
   "cell_type": "markdown",
   "id": "f54c4026-6f74-477d-850d-b043f7cabdb9",
   "metadata": {},
   "source": [
    "### Problem 13\n",
    "\n",
    "Given the following four equations, add parentheses (and only parentheses) to get a different result each time. Do not change anything else about the equation."
   ]
  },
  {
   "cell_type": "code",
   "execution_count": null,
   "id": "b81ef6f9-e9c5-408b-a8e7-33382665442d",
   "metadata": {},
   "outputs": [],
   "source": [
    "result1 = 1 + 5 * 4 - 2 + 2**2 / 4\n",
    "\n",
    "result2 = 1 + 5 * 4 - 2 + 2**2 / 4\n",
    "\n",
    "result3 = 1 + 5 * 4 - 2 + 2**2 / 4\n",
    "\n",
    "result4 = 1 + 5 * 4 - 2 + 2**2 / 4\n",
    "\n",
    "print(\"result1 =\", result1)\n",
    "print(\"result2 =\", result2)\n",
    "print(\"result3 =\", result3)\n",
    "print(\"result4 =\", result4)"
   ]
  },
  {
   "cell_type": "markdown",
   "id": "82e9a1cb-a5f1-49e3-9216-7e27cafe15ef",
   "metadata": {},
   "source": [
    "### Problem 14 \n",
    "\n",
    "Calculating the mean of 2 or more numbers requires two steps:\n",
    "\n",
    "1. Find the sum of the numbers\n",
    "2. Divide by the count of numbers\n",
    "\n",
    "The equation below is your first try. Is this correct? If not change it so it is correct using order of operations."
   ]
  },
  {
   "cell_type": "code",
   "execution_count": null,
   "id": "70800594-ccbe-4eab-aecf-fd33b31c3208",
   "metadata": {},
   "outputs": [],
   "source": [
    "a = 1\n",
    "b = 2\n",
    "c = 3\n",
    "d = 4\n",
    "e = 5\n",
    "\n",
    "mean_first_try = a + b + c + d + e / 5\n",
    "\n",
    "print(mean_first_try)"
   ]
  },
  {
   "cell_type": "markdown",
   "id": "7f043a33-ec46-4502-a553-3d5d17754eaf",
   "metadata": {},
   "source": [
    "# Printing text and inserting \"comments\""
   ]
  },
  {
   "cell_type": "markdown",
   "id": "1137d780-d501-464d-87f4-6befff7081f6",
   "metadata": {},
   "source": [
    "### Problem 15\n",
    "\n",
    "Change the following code so it prints \"5\" instead of \"10\" using a Python comment and only a Python comment."
   ]
  },
  {
   "cell_type": "code",
   "execution_count": null,
   "id": "105b0f30-2537-459d-8c67-2779eb283bd3",
   "metadata": {},
   "outputs": [],
   "source": [
    "a = 5\n",
    "\n",
    "a = 10\n",
    "\n",
    "print(a)"
   ]
  },
  {
   "cell_type": "markdown",
   "id": "f75a608f-6a03-41f7-94e2-19d4f249d7ab",
   "metadata": {},
   "source": [
    "### Problem 16\n",
    "\n",
    "Print the string \"explicit\" using the print statement"
   ]
  },
  {
   "cell_type": "code",
   "execution_count": null,
   "id": "f9185b5c-9d00-4492-8cdf-173b18f30cf0",
   "metadata": {},
   "outputs": [],
   "source": []
  },
  {
   "cell_type": "markdown",
   "id": "6c4faba2-1379-4ecc-a827-e01f79e37cec",
   "metadata": {},
   "source": [
    "### Problem 17\n",
    "\n",
    "Set the string \"implicit\" equal to a variable named ```example```, and then print the value of ```example``` using ```example```"
   ]
  },
  {
   "cell_type": "code",
   "execution_count": null,
   "id": "6b89aaba-6f9f-458a-99e4-cde0b35615c1",
   "metadata": {},
   "outputs": [],
   "source": []
  },
  {
   "cell_type": "markdown",
   "id": "f5ae7eca-51e3-4a96-a743-6d47ec5e4771",
   "metadata": {},
   "source": [
    "### Problem 18\n",
    "\n",
    "Use one print statment to create a formatted message equal to the following:\n",
    "\n",
    "\"The temperature is 80 and the dewpoint is 70\"\n",
    "\n",
    "You must use a variable named ```temp``` for the temperature and ```dew``` for the dewpont in the print statement."
   ]
  },
  {
   "cell_type": "code",
   "execution_count": null,
   "id": "f8776dcd-5dae-4dbb-9194-d67807cc8843",
   "metadata": {},
   "outputs": [],
   "source": []
  }
 ],
 "metadata": {
  "kernelspec": {
   "display_name": "Python [conda env:geo]",
   "language": "python",
   "name": "conda-env-geo-py"
  },
  "language_info": {
   "codemirror_mode": {
    "name": "ipython",
    "version": 3
   },
   "file_extension": ".py",
   "mimetype": "text/x-python",
   "name": "python",
   "nbconvert_exporter": "python",
   "pygments_lexer": "ipython3",
   "version": "3.11.10"
  }
 },
 "nbformat": 4,
 "nbformat_minor": 5
}
