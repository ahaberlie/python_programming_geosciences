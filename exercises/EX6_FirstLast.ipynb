{
 "cells": [
  {
   "cell_type": "markdown",
   "id": "af0e1888-6991-4b11-abac-50487f0003ee",
   "metadata": {},
   "source": [
    "# Exercise 6 - loops\n",
    "\n",
    "**5 total points**"
   ]
  },
  {
   "cell_type": "markdown",
   "id": "d5dd6de0-4a58-45a9-8f04-1a955aa0923e",
   "metadata": {},
   "source": [
    "## Directions\n",
    "\n",
    "- Due: **10/12/2025 @ 11:59 p.m.**\n",
    "- Change the name of your notebook to EX6_FirstLast.ipynb, where First is your first name and Last is your last name.\n",
    "- For each of the following prompts, write or modify Python code that fulfills the requirements.\n",
    "\n",
    "### Loop troubleshooting\n",
    "\n",
    "If you start running a ```while``` loop and it does not immediately print the output and stop, you likely have an \"infinite loop\".\n",
    "\n",
    "The best way to stop this is to press the \"stop\" button repeatedly, or to click on the top right dropdown menu by \"RAM and Disk\" and click Disconnect and Delete Runtime. You can then restart the notebook by pressing the \"Go\" arrow again after you make changes to your code.\n",
    "\n",
    "```for``` loops will not have this problem (unless you make them extremely large)."
   ]
  },
  {
   "cell_type": "markdown",
   "id": "771dc193-4fa1-4285-b96a-7ab60537a6a1",
   "metadata": {},
   "source": [
    "## ```while``` loops\n",
    "\n",
    "### Problem 1\n",
    "\n",
    "Modify the initialization variable ```i``` so that only ```2, 3, 4, 5``` is printed (0.5 pts)."
   ]
  },
  {
   "cell_type": "code",
   "execution_count": 1,
   "id": "eb3cb9f8-05ec-4901-8fc1-a35f7f20490f",
   "metadata": {},
   "outputs": [
    {
     "name": "stdout",
     "output_type": "stream",
     "text": [
      "1\n",
      "2\n",
      "3\n",
      "4\n",
      "5\n"
     ]
    }
   ],
   "source": [
    "i = 1\n",
    "\n",
    "while i < 6:\n",
    "\n",
    "    print(i)\n",
    "    i = i + 1"
   ]
  },
  {
   "cell_type": "markdown",
   "id": "5528d2da-f43d-4132-aec5-eca1944f3311",
   "metadata": {},
   "source": [
    "### Problem 2\n",
    "\n",
    "Move the increment code ```i = i + 1``` so that ```2, 3, 4, 5, 6``` is printed. Only move the line, do not change the code (0.5 pts)."
   ]
  },
  {
   "cell_type": "code",
   "execution_count": 2,
   "id": "cb706d25-34f2-42c6-87c7-b7158f07d3d5",
   "metadata": {},
   "outputs": [
    {
     "name": "stdout",
     "output_type": "stream",
     "text": [
      "1\n",
      "2\n",
      "3\n",
      "4\n",
      "5\n"
     ]
    }
   ],
   "source": [
    "i = 1\n",
    "\n",
    "while i < 6:\n",
    "\n",
    "    print(i)\n",
    "    i = i + 1"
   ]
  },
  {
   "cell_type": "markdown",
   "id": "660c4452-05be-4ecc-aa09-be620f31969d",
   "metadata": {},
   "source": [
    "### Problem 3\n",
    "\n",
    "Write a while loop that prints out the numbers ```0, 3, 5, 7``` by modifying the following example (0.5 pts)."
   ]
  },
  {
   "cell_type": "code",
   "execution_count": 3,
   "id": "9e4d7155-a195-4774-94ed-fd6b800f71e1",
   "metadata": {},
   "outputs": [
    {
     "name": "stdout",
     "output_type": "stream",
     "text": [
      "0\n",
      "1\n",
      "2\n",
      "3\n",
      "4\n",
      "5\n"
     ]
    }
   ],
   "source": [
    "i = 0\n",
    "\n",
    "while i < 6:\n",
    "\n",
    "    print(i)\n",
    "    i = i + 1"
   ]
  },
  {
   "cell_type": "markdown",
   "id": "2d3dc257-5bea-4bcf-929c-e7c496def0d2",
   "metadata": {},
   "source": [
    "## ```for``` loops\n",
    "\n",
    "### Problem 4\n",
    "\n",
    "Modify the ```list``` (and only the list) so that only the numbers ```1, 2, 3, 4``` are printed (0.5 pts)."
   ]
  },
  {
   "cell_type": "code",
   "execution_count": 4,
   "id": "6395697b-7b08-429c-9203-5590da7512a7",
   "metadata": {},
   "outputs": [
    {
     "name": "stdout",
     "output_type": "stream",
     "text": [
      "1\n",
      "2\n",
      "3\n",
      "4\n",
      "5\n"
     ]
    }
   ],
   "source": [
    "a = [1, 2, 3, 4, 5]\n",
    "\n",
    "for i in a:\n",
    "    print(i)"
   ]
  },
  {
   "cell_type": "markdown",
   "id": "0a1c6d0c-2a7e-4953-86bb-222f66a27691",
   "metadata": {},
   "source": [
    "### Problem 5\n",
    "\n",
    "Use ```range``` to print all ```int``` numbers 1 through 10 (0.5 pts)."
   ]
  },
  {
   "cell_type": "code",
   "execution_count": null,
   "id": "0450b889-b802-4513-a85e-28f283178a05",
   "metadata": {},
   "outputs": [],
   "source": []
  },
  {
   "cell_type": "markdown",
   "id": "7a14c30a-30b7-4f6e-87fb-40d8cf7544e7",
   "metadata": {},
   "source": [
    "### Problem 6\n",
    "\n",
    "Add ```enumerate``` to the following loop example to print out the index if the iteration value is equal to 5 using an ```if / else``` statement (0.5 pts)."
   ]
  },
  {
   "cell_type": "code",
   "execution_count": 5,
   "id": "a126d8d2-0625-4813-991e-f2a19db7c95d",
   "metadata": {},
   "outputs": [
    {
     "name": "stdout",
     "output_type": "stream",
     "text": [
      "1\n",
      "2\n",
      "3\n",
      "4\n",
      "5\n"
     ]
    }
   ],
   "source": [
    "a = [1, 2, 3, 4, 5]\n",
    "\n",
    "for i in a:\n",
    "\n",
    "    print(i)"
   ]
  },
  {
   "cell_type": "markdown",
   "id": "314fbefc-24a9-47ce-b25b-b3db492ad357",
   "metadata": {},
   "source": [
    "## ```dict``` iterators\n",
    "\n",
    "In the following problems, you must use **one** of these dictionary iterators: ```keys```, ```values```, or ```items```. \n",
    "\n",
    "You must include the message building code within the loop, and it should work for any sized ```dict```.\n",
    "\n",
    "### Problem 7\n",
    "\n",
    "Use **one iterator loop** using the defined ```dict``` named ```obs``` to print out the following messages (1 pt):\n",
    "\n",
    "```\n",
    "The temperature on Jan 1 was 15 F\n",
    "The temperature on Jan 2 was 16 F\n",
    "The temperature on Jan 3 was 17 F\n",
    "```"
   ]
  },
  {
   "cell_type": "code",
   "execution_count": 6,
   "id": "1878c3e5-cd18-4828-8a76-9e625fefbdd3",
   "metadata": {},
   "outputs": [],
   "source": [
    "obs = {'Jan 1': 15, 'Jan 2': 16, 'Jan 3': 17}\n",
    "\n"
   ]
  },
  {
   "cell_type": "markdown",
   "id": "5d6f91e5-61df-4111-8f67-723813509359",
   "metadata": {},
   "source": [
    "### Problem 8\n",
    "\n",
    "Use **one iterator loop** using the defined ```dict``` named ```obs``` to print out the following conditional messages using an ```if / else``` statement (1 pt):\n",
    "\n",
    "```\n",
    "The temperature on Jan 1 was 45 F\n",
    "The temperature on Jan 2 was 32 F. It was freezing!\n",
    "The temperature on Jan 3 was 15 F. It was freezing!\n",
    "```"
   ]
  },
  {
   "cell_type": "code",
   "execution_count": 7,
   "id": "dcf5468b-a35b-411b-ba83-ccfc03b2daa4",
   "metadata": {},
   "outputs": [],
   "source": [
    "obs = {'Jan 1': 45, 'Jan 2': 32, 'Jan 3': 15}\n",
    "\n"
   ]
  }
 ],
 "metadata": {
  "kernelspec": {
   "display_name": "Python 3 (ipykernel)",
   "language": "python",
   "name": "python3"
  },
  "language_info": {
   "codemirror_mode": {
    "name": "ipython",
    "version": 3
   },
   "file_extension": ".py",
   "mimetype": "text/x-python",
   "name": "python",
   "nbconvert_exporter": "python",
   "pygments_lexer": "ipython3",
   "version": "3.13.7"
  }
 },
 "nbformat": 4,
 "nbformat_minor": 5
}
