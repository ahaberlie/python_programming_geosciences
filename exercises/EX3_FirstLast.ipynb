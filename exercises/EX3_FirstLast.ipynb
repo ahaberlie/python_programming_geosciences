{
 "cells": [
  {
   "cell_type": "markdown",
   "id": "af0e1888-6991-4b11-abac-50487f0003ee",
   "metadata": {},
   "source": [
    "# Exercise 3 - Primitive Data Types\n",
    "\n",
    "**5 total points**"
   ]
  },
  {
   "cell_type": "markdown",
   "id": "bbb17b9b-96b7-4468-8d19-86c296ad8966",
   "metadata": {},
   "source": [
    "## Directions\n",
    "\n",
    "- Due: **9/21/2025 @ 11:59 p.m.**\n",
    "- Change the name of your notebook to EX3_FirstLast.ipynb, where First is your first name and Last is your last name.\n",
    "- For each of the following prompts, write or modify Python code that fulfills the requirements. "
   ]
  },
  {
   "cell_type": "markdown",
   "id": "5b7a99df-2ef6-45a1-b77c-56cc42a3235d",
   "metadata": {},
   "source": [
    "## Important information to remember\n",
    "\n",
    "- Periodically, you should click File -> Save Notebook\n",
    "- When you are done working for the day, click File -> Log Out\n",
    "- When you are finished, download the notebook and upload it to the submission link\n",
    "- I will reset the notebook and run each code block on its own. You will receive half credit if you rely on a variable from a previous or subsequent code block."
   ]
  },
  {
   "cell_type": "markdown",
   "id": "771dc193-4fa1-4285-b96a-7ab60537a6a1",
   "metadata": {},
   "source": [
    "## Setting variables to primitive data types \n",
    "\n",
    "Each problem should be answered with one line of code unless otherwise specified.\n",
    "\n",
    "### Problem 1\n",
    "\n",
    "Set a variable named ```a``` to an ```int``` (*0.5 pts*)"
   ]
  },
  {
   "cell_type": "code",
   "execution_count": null,
   "id": "3dda0de0-c723-48b0-bfed-7bfd4c9b9066",
   "metadata": {},
   "outputs": [],
   "source": []
  },
  {
   "cell_type": "markdown",
   "id": "0b5d30a1-8566-4119-91d9-507c65e947ea",
   "metadata": {},
   "source": [
    "### Problem 2\n",
    "\n",
    "Set a variable named ```b``` to a ```float``` (*0.5 pts*)"
   ]
  },
  {
   "cell_type": "code",
   "execution_count": null,
   "id": "9ae25e00-a955-4eae-a811-7fa2d9c9127f",
   "metadata": {},
   "outputs": [],
   "source": []
  },
  {
   "cell_type": "markdown",
   "id": "6ecea335-35fa-4dd8-a9a0-ceae7d2aff1c",
   "metadata": {},
   "source": [
    "### Problem 3\n",
    "\n",
    "Set a variable named ```c``` to a ```bool``` (*0.5 pts*)"
   ]
  },
  {
   "cell_type": "code",
   "execution_count": null,
   "id": "cce3544a-bc86-4737-a0a9-a73594e8e257",
   "metadata": {},
   "outputs": [],
   "source": []
  },
  {
   "cell_type": "markdown",
   "id": "9e50f60e-697e-4cbd-9d5f-f7126d41b473",
   "metadata": {},
   "source": [
    "### Problem 4\n",
    "\n",
    "*This answer requires three lines of code*\n",
    "\n",
    "4.1 - Set a variable named ```d1``` to an ```int``` (0.15 pts)\n",
    "\n",
    "4.2 - Set a variable named ```d2``` to an ```int``` (0.15 pts)\n",
    "\n",
    "4.3 - Set a variable named ```d``` to a ```float``` using only ```d1``` and ```d2``` (0.2 pts)"
   ]
  },
  {
   "cell_type": "code",
   "execution_count": null,
   "id": "ae78070b-fcf7-4b97-91b5-0d2234045ba8",
   "metadata": {},
   "outputs": [],
   "source": []
  },
  {
   "cell_type": "markdown",
   "id": "a63174ff-4f9f-4b73-8d68-50e73a6a860e",
   "metadata": {},
   "source": [
    "### Problem 5\n",
    "\n",
    "*This answer requires three lines of code*\n",
    "\n",
    "5.1 - Set a variable named ```e1``` to an ```int``` (0.15 pts)\n",
    "\n",
    "5.2 - Set a variable named ```e2``` to a ```float``` (0.15 pts)\n",
    "\n",
    "5.3 - Set a variable named ```e``` to a ```float``` using only ```e1``` and ```e2``` (0.2 pts)"
   ]
  },
  {
   "cell_type": "code",
   "execution_count": null,
   "id": "3e218a2e-8d04-4b47-8fb3-bc53ea8ce905",
   "metadata": {},
   "outputs": [],
   "source": []
  },
  {
   "cell_type": "markdown",
   "id": "78c7d88d-549f-4d8f-a5a8-397d5d8cea48",
   "metadata": {},
   "source": [
    "### Problem 6\n",
    "\n",
    "*This answer requires three lines of code*\n",
    "\n",
    "6.1 - Set a variable named ```f1``` to a ```float``` (0.15 pts)\n",
    "\n",
    "6.2 - Set a variable named ```f2``` to a ```float``` (0.15 pts)\n",
    "\n",
    "6.3 - Set a variable named ```f``` to a ```bool``` using only ```f1``` and ```f2```  (0.2 pts)"
   ]
  },
  {
   "cell_type": "code",
   "execution_count": null,
   "id": "88171527-d7f5-4aa3-86ee-ddf81cc29ccd",
   "metadata": {},
   "outputs": [],
   "source": []
  },
  {
   "cell_type": "markdown",
   "id": "b353d8a9-82bb-489b-9a59-a57cb8834d95",
   "metadata": {},
   "source": [
    "### Problem 7\n",
    "\n",
    "*This answer requires three lines of code*\n",
    "\n",
    "7.1 - Set a variable named ```g1``` to an ```int``` (0.15 pts)\n",
    "\n",
    "7.2 - Set a variable named ```g2``` to an ```int``` (0.15 pts)\n",
    "\n",
    "7.3 - Set a variable named ```g``` to a ```bool``` using only ```g1``` and ```g2```  (0.2 pts)"
   ]
  },
  {
   "cell_type": "code",
   "execution_count": null,
   "id": "c8630f60-4a54-489d-82b5-3d63b195fba3",
   "metadata": {},
   "outputs": [],
   "source": []
  },
  {
   "cell_type": "markdown",
   "id": "37aead92-8a74-44b5-a6ac-ada909eb2810",
   "metadata": {},
   "source": [
    "### Problem 8\n",
    "\n",
    "*This answer requires three lines of code*\n",
    "\n",
    "8.1 - Set a variable named ```h1``` to a ```int``` (0.15 pts)\n",
    "\n",
    "8.2 - Set a variable named ```h2``` to a ```float``` (0.15 pts)\n",
    "\n",
    "8.3 - Set a variable named ```h``` to a ```bool``` using only ```h1``` and ```h2```  (0.2 pts)"
   ]
  },
  {
   "cell_type": "code",
   "execution_count": null,
   "id": "a96403b0-edf7-433c-9973-ff4b97dbc63d",
   "metadata": {},
   "outputs": [],
   "source": []
  },
  {
   "cell_type": "markdown",
   "id": "50079fbe-612c-4aa6-9eee-cd2b494dfaf5",
   "metadata": {},
   "source": [
    "### Problem 9\n",
    "\n",
    "*This answer requires three lines of code*\n",
    "\n",
    "9.1 - Set a variable named ```i1``` to the result of a bitwise operator test (0.15 pts)\n",
    "\n",
    "9.2 - Set a variable named ```i2``` to the result of a bitwise operator test (0.15 pts)\n",
    "\n",
    "9.3 - Set a variable named ```i``` to a ```bool``` using the result of an \"OR\" bitwise operator test using ```i1``` and ```i2``` (0.2 pts)"
   ]
  },
  {
   "cell_type": "code",
   "execution_count": null,
   "id": "93bc5c74-8a39-4329-b62b-62b1f100c9ae",
   "metadata": {},
   "outputs": [],
   "source": []
  },
  {
   "cell_type": "markdown",
   "id": "a3ecbcad-84f3-4da4-b481-e9567d60c164",
   "metadata": {},
   "source": [
    "### Problem 10\n",
    "\n",
    "*This answer requires three lines of code*\n",
    "\n",
    "10.1 - Set a variable named ```j1``` to the result of a bitwise operator test (0.15 pts)\n",
    "\n",
    "10.2 - Set a variable named ```j2``` to the result of a bitwise operator test (0.15 pts)\n",
    "\n",
    "10.3 - Set a variable named ```j``` to a ```bool``` using the result of an \"AND\" bitwise operator test using ```j1``` and ```j2``` (0.2 pts)"
   ]
  },
  {
   "cell_type": "code",
   "execution_count": null,
   "id": "b811ba5e-d8c1-4394-8c4a-7fb152f6d258",
   "metadata": {},
   "outputs": [],
   "source": []
  }
 ],
 "metadata": {
  "kernelspec": {
   "display_name": "Python 3 (ipykernel)",
   "language": "python",
   "name": "python3"
  },
  "language_info": {
   "codemirror_mode": {
    "name": "ipython",
    "version": 3
   },
   "file_extension": ".py",
   "mimetype": "text/x-python",
   "name": "python",
   "nbconvert_exporter": "python",
   "pygments_lexer": "ipython3",
   "version": "3.12.11"
  }
 },
 "nbformat": 4,
 "nbformat_minor": 5
}
