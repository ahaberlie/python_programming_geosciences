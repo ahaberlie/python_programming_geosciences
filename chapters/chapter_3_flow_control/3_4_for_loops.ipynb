{
 "cells": [
  {
   "cell_type": "markdown",
   "id": "10381c1b-1ab4-463d-9d2e-c90a77c4f5be",
   "metadata": {
    "tags": []
   },
   "source": [
    "# Chapter 3.4 - For loops\n",
    "\n",
    "Like while loops, for loops will execute an indented code block as long as a condition is met.\n",
    "\n",
    "The useful aspect of for loops is that this logic does not need to be explicitly determined by the coder. And, you can avoid infinite loops!\n",
    "\n",
    "## Chapter 3.4.1 - Basic ```for``` loop syntax:\n",
    "\n",
    "```\n",
    "my_list = [1, 2, 3, 4, 5]\n",
    "\n",
    "for i in my_list:\n",
    "    print(i)\n",
    "    # do something with i\n",
    "```\n",
    "\n",
    "Each for loop has 3 major components:\n",
    "\n",
    "1. ```iterable```: a data type that is able to interface with a ```for``` loop and has multiple values within it. \n",
    "2. ```iteration```: each step in the loop, where the ```iteration``` variable set by the programmer is modified based on values in the ```iterable```.\n",
    "3. ```iterator```: the mechanism that works behind the scenes to set values and determine if the loop should continue\n",
    "\n",
    "The preconditions for a ```for``` loop require an ```iterable``` data type. These types include (but are not limited to):\n",
    "\n",
    "1. ```list```\n",
    "2. ```tuple```\n",
    "3. ```dict```\n",
    "\n",
    "Each of these composite data types are considered ```iterable```, which is just a fancy way of saying that they contain multiple items and a for loop can automatically serve up each item that it contains. For example, an ```int``` is not an ```iterable``` because it is only one value, but a list of ```int``` variables within a ```list``` can be served to a ```for``` loop through the ```list``` that contains these variables.\n",
    "\n",
    "Each step of the loop (i.e., each time the indented code block is executed) is called an ```iteration```. During an ```iteration```, the value served by the for loop changes in the order the values appear in the list. \n",
    "\n",
    "For example, the following list (which is an ```iterable```):\n",
    "\n",
    "```\n",
    "my_list = [1, 2, 3, 4]\n",
    "```\n",
    "\n",
    "Would serve to the ```for``` loop the value 1 during the first ```iteration```. The second ```iteration``` would serve the value 2, and so on.\n",
    "\n",
    "The ```iterator``` is the magic that occurs in the background of a for loop that does multiple things for you:\n",
    "\n",
    "1. It checks to see if there are more items to visit in the ```iterable```. If not, the loop ends\n",
    "\n",
    "2. During each ```iteration```, it accesses the values in the ```iterable``` at each index in the order in which they appear. The ```iterator``` then sets this value equal to a variable that is named by the programmer that can be used in the current ```iteration```\n",
    "\n",
    "Consider the above ```for``` loop:\n",
    "\n",
    "```\n",
    "my_list = [1, 2, 3, 4, 5]\n",
    "\n",
    "for i in my_list:\n",
    "    print(i)\n",
    "    # do something with i\n",
    "```\n",
    "\n",
    "The equivalent process can be explicitly demonstrated by a ```while``` loop:\n",
    "\n",
    "```\n",
    "my_list = [1, 2, 3, 4, 5]\n",
    "\n",
    "index = 0\n",
    "\n",
    "while (index < len(my_list)):\n",
    "\n",
    "    i = my_list[index]\n",
    "    \n",
    "    print(i)\n",
    "    \n",
    "    # do something with i\n",
    "    \n",
    "    index = index + 1\n",
    "```\n",
    "\n",
    "Notice the extra steps in the ```while``` loop:\n",
    "\n",
    "1. setting an ```index``` variable to 0 to start at the beginning of the list\n",
    "2. determining a condition (i.e., ```index < len(my_list```) when the loop should stop\n",
    "3. accessing each value in the list based on the ```index``` variable and setting it equal to i\n",
    "4. incrementing the ```index``` by 1 to visit the next item in the list, or to cause the ```while``` loop condition to result in False and stop the loop.\n",
    "\n",
    "\n",
    "Thus, for most cases, we would want to use a ```for``` loop to avoid all of the potential pitfalls and bugs that could pop up when using a ```while``` loop.\n",
    "\n",
    "Examples of the ```for``` and ```while``` loops above.\n",
    "\n",
    "```while``` loop:"
   ]
  },
  {
   "cell_type": "code",
   "execution_count": 1,
   "id": "2155bed4-7df4-4cc3-845f-608ec962a5a9",
   "metadata": {},
   "outputs": [
    {
     "name": "stdout",
     "output_type": "stream",
     "text": [
      "1\n",
      "2\n",
      "3\n",
      "4\n",
      "5\n"
     ]
    }
   ],
   "source": [
    "my_list = [1, 2, 3, 4, 5]\n",
    "\n",
    "index = 0\n",
    "\n",
    "while (index < len(my_list)):\n",
    "\n",
    "    i = my_list[index]\n",
    "    \n",
    "    print(i)\n",
    "    \n",
    "    # do something with i\n",
    "    \n",
    "    index = index + 1"
   ]
  },
  {
   "cell_type": "markdown",
   "id": "03b3da35-6e40-4d57-a1cb-b8a189ad203a",
   "metadata": {},
   "source": [
    "```for``` loop equivalent"
   ]
  },
  {
   "cell_type": "code",
   "execution_count": 2,
   "id": "6d6c76df-8856-46ff-a7e5-ad149213bf44",
   "metadata": {},
   "outputs": [
    {
     "name": "stdout",
     "output_type": "stream",
     "text": [
      "1\n",
      "2\n",
      "3\n",
      "4\n",
      "5\n"
     ]
    }
   ],
   "source": [
    "my_list = [1, 2, 3, 4, 5]\n",
    "\n",
    "for i in my_list:\n",
    "    print(i)\n",
    "    # do something with i"
   ]
  },
  {
   "cell_type": "markdown",
   "id": "783d1320-427b-4f44-a06b-1708a8845181",
   "metadata": {},
   "source": [
    "## Chapter 3.4.2 - Iterators\n",
    "\n",
    "There are multiple built-in iterators that are incredibly useful and very common in Python programs. These iterators typically encapsulate common use-cases for steping through iterables (e.g., a ```list```). \n",
    "\n",
    "### [```range```](https://docs.python.org/3/library/stdtypes.html#typesseq-range)\n",
    "\n",
    "One common iteration is to step through a sequence of numbers. For example, you may want to visit all numbers between 1 and 100. Using the code pattern associated with the ```for``` loop above, you might start writing the following code:\n",
    "\n",
    "```\n",
    "numbers = [1, 2, 3, 4, 5, 6, 7, 8, 9, 10, 11, 12, 13, 14 .....]\n",
    "```\n",
    "\n",
    "You immediately recognize that would require typing many numbers. If you have any case where you need 1000, 10000, or 1000000000 number sequences, you can see where this approach would be limiting.\n",
    "\n",
    "However, Python has a solution--the built-in ```range``` data type. This is a special type of ```list``` that contain a list of ```int``` values with attributes defined by the programmer. Specifically, the programmer can provide the start, end, and steps (i.e., spacing between numbers). This allows you to type as few as two numbers to produce a sequence of many ```int``` values.\n",
    "\n",
    "The following pattern is associated with ```range```:\n",
    "\n",
    "```\n",
    "for number in range(start, finish, step):\n",
    "    print(number)\n",
    "    # do stuff with number\n",
    "```\n",
    "\n",
    "Here is a working version below. Modify the start, finish, and step values by typing an ```int``` and pressing enter when prompted below:"
   ]
  },
  {
   "cell_type": "code",
   "execution_count": 9,
   "id": "274b8da8-244f-4bcc-839f-d7462e2eb086",
   "metadata": {},
   "outputs": [
    {
     "name": "stdin",
     "output_type": "stream",
     "text": [
      "start (int):  1\n",
      "finish (int):  10\n",
      "step (int):  2\n"
     ]
    },
    {
     "name": "stdout",
     "output_type": "stream",
     "text": [
      "for loop output for this loop: for number in range(1, 10, 2)\n",
      "number = 1\n",
      "number = 3\n",
      "number = 5\n",
      "number = 7\n",
      "number = 9\n"
     ]
    }
   ],
   "source": [
    "start = int(input(\"start (int): \"))\n",
    "finish = int(input(\"finish (int): \"))\n",
    "step = int(input(\"step (int): \"))\n",
    "\n",
    "print(f\"for loop output for this loop: for number in range({start}, {finish}, {step})\")\n",
    "for number in range(start, finish, step):\n",
    "    print(\"number =\", number)\n",
    "    # do \n",
    "    # stuff \n",
    "    # with \n",
    "    # number"
   ]
  },
  {
   "cell_type": "markdown",
   "id": "46aa3394-a1c3-414f-bce4-d11e0f041052",
   "metadata": {},
   "source": [
    "Example: # iterate through a list of integers that go from 0 to 10\n",
    "\n",
    "By default, python will treat using only one number as\n",
    "the \"finish\" number, and the first number will default to 0\n",
    "and the step will default to one. The following iterator\n",
    "is equivalent to range(0, 11, 1)"
   ]
  },
  {
   "cell_type": "code",
   "execution_count": 10,
   "id": "47de68a7-a624-4d63-a806-c412b921cf9f",
   "metadata": {},
   "outputs": [
    {
     "name": "stdout",
     "output_type": "stream",
     "text": [
      "for number in range(11):\n",
      "0\n",
      "1\n",
      "2\n",
      "3\n",
      "4\n",
      "5\n",
      "6\n",
      "7\n",
      "8\n",
      "9\n",
      "10\n"
     ]
    }
   ],
   "source": [
    "print(\"for number in range(11):\")\n",
    "for number in range(11):\n",
    "    print(number)"
   ]
  },
  {
   "cell_type": "markdown",
   "id": "8d5ab300-2559-4ecc-878d-eb7f77871d4a",
   "metadata": {},
   "source": [
    "that is much easier than this:"
   ]
  },
  {
   "cell_type": "code",
   "execution_count": 11,
   "id": "7176dfd3-eca2-4915-a89c-cac3c4bda037",
   "metadata": {},
   "outputs": [
    {
     "name": "stdout",
     "output_type": "stream",
     "text": [
      "for number in [0, 1, 2, 3, 4, 5, 6, 7, 8, 9, 10]:\n",
      "0\n",
      "1\n",
      "2\n",
      "3\n",
      "4\n",
      "5\n",
      "6\n",
      "7\n",
      "8\n",
      "9\n",
      "10\n",
      "---\n"
     ]
    }
   ],
   "source": [
    "print(\"for number in [0, 1, 2, 3, 4, 5, 6, 7, 8, 9, 10]:\")\n",
    "for number in [0, 1, 2, 3, 4, 5, 6, 7, 8, 9, 10]:\n",
    "    print(number)\n",
    "\n",
    "print(\"---\")"
   ]
  },
  {
   "cell_type": "markdown",
   "id": "6687f202-360f-4f7f-bf0d-1f4f51f3004b",
   "metadata": {},
   "source": [
    "Example: iterate through a list of every 10th integer from 0 to 100"
   ]
  },
  {
   "cell_type": "code",
   "execution_count": 12,
   "id": "909ac3b5-275f-43ca-9aa7-7afee5290e77",
   "metadata": {},
   "outputs": [
    {
     "name": "stdout",
     "output_type": "stream",
     "text": [
      "Output from for number in range(0, 100, 10)\n",
      "0\n",
      "10\n",
      "20\n",
      "30\n",
      "40\n",
      "50\n",
      "60\n",
      "70\n",
      "80\n",
      "90\n"
     ]
    }
   ],
   "source": [
    "print(\"Output from for number in range(0, 100, 10)\")\n",
    "for number in range(0, 100, 10):\n",
    "    print(number)"
   ]
  },
  {
   "cell_type": "markdown",
   "id": "d3bb1c8c-b5ad-4856-811d-a93795f44dea",
   "metadata": {},
   "source": [
    "### ```enumerate```\n",
    "\n",
    "Another common pattern is to keep track of how many times the loop has executed. For example, you might have a list of data from hours or days, and you want to print out that the data are from \"Day 1\" or \"Day 2\".\n",
    "\n",
    "```enumerate``` will keep track of this information and provide the value during each iteration. This can also be useful for identifying the index associated with each value.\n",
    "\n",
    "Here is the interactive example above, except with ```enumerate``` included and wrapped around ```range```:"
   ]
  },
  {
   "cell_type": "code",
   "execution_count": 16,
   "id": "ef69d3ea-5060-48fc-91c9-f72d751e8aa9",
   "metadata": {},
   "outputs": [
    {
     "name": "stdin",
     "output_type": "stream",
     "text": [
      "start (int):  1\n",
      "finish (int):  10\n",
      "step (int):  2\n"
     ]
    },
    {
     "name": "stdout",
     "output_type": "stream",
     "text": [
      "for loop output for this loop: for number in range(1, 10, 2)\n",
      "For iteration #0, the value of number is 1\n",
      "For iteration #1, the value of number is 3\n",
      "For iteration #2, the value of number is 5\n",
      "For iteration #3, the value of number is 7\n",
      "For iteration #4, the value of number is 9\n"
     ]
    }
   ],
   "source": [
    "start = int(input(\"start (int): \"))\n",
    "finish = int(input(\"finish (int): \"))\n",
    "step = int(input(\"step (int): \"))\n",
    "\n",
    "print(f\"for loop output for this loop: for number in range({start}, {finish}, {step})\")\n",
    "for idx, number in enumerate(range(start, finish, step)):\n",
    "    print(f\"For iteration #{idx}, the value of number is {number}\")\n",
    "    # do \n",
    "    # stuff \n",
    "    # with \n",
    "    # number"
   ]
  },
  {
   "cell_type": "markdown",
   "id": "ae15b008-40bc-4d6a-ba43-3864fab28a52",
   "metadata": {},
   "source": [
    "## Chapter 3.4.3 - Stacks and queues\n",
    "\n",
    "These are special types of ```list``` that are used for a specific purpose and various algorithms. This approach uses the ```pop()``` function to remove the last item that was added to the lift (last in, first out) and set it equal to a variable.\n",
    "\n",
    "### Stacks\n",
    "\n",
    "The premise of a stack is Last In First Out (LIFO)\n",
    "\n",
    "Rules of a stack:\n",
    "\n",
    "1. allow values to be added at any time\n",
    "2. the last value to be added will be the first to be removed when the stack is accessed"
   ]
  },
  {
   "cell_type": "code",
   "execution_count": 8,
   "id": "27e1cf18-cd66-4394-9bc1-27adc4b83ab1",
   "metadata": {},
   "outputs": [
    {
     "name": "stdout",
     "output_type": "stream",
     "text": [
      "Empty stack []\n",
      "Stack with 5 values [5, 4, 3, 2, 1]\n",
      "First value accesed from stack: 1\n",
      "Stack after pop() [5, 4, 3, 2]\n"
     ]
    }
   ],
   "source": [
    "stack = []\n",
    "\n",
    "# print empty stack\n",
    "print(\"Empty stack\", stack)\n",
    "\n",
    "# add values to a stack\n",
    "stack.append(5)\n",
    "stack.append(4)\n",
    "stack.append(3)\n",
    "stack.append(2)\n",
    "stack.append(1)\n",
    "\n",
    "# print empty stack\n",
    "print(\"Stack with 5 values\", stack)\n",
    "\n",
    "# access values from stack using LIFO\n",
    "print(\"First value accesed from stack:\", stack.pop())\n",
    "print(\"Stack after pop()\", stack)"
   ]
  },
  {
   "cell_type": "markdown",
   "id": "c84994b3-6c46-41ee-9d3e-7924a2d5e091",
   "metadata": {},
   "source": [
    "### Queue\n",
    "\n",
    "The same as a stack, except the premise of a queue is First in First Out (LIFO)\n",
    "\n",
    "Rules of a queue:\n",
    "\n",
    "1. allow values to be added at any time\n",
    "2. the first value to be added will be the first to be removed when the queue is accessed (pop(0))"
   ]
  },
  {
   "cell_type": "code",
   "execution_count": 9,
   "id": "062a9fc4-c4ce-4107-ab5f-d56b295ca5b0",
   "metadata": {},
   "outputs": [
    {
     "name": "stdout",
     "output_type": "stream",
     "text": [
      "Empty queue []\n",
      "queue with 5 values [5, 4, 3, 2, 1]\n",
      "First value accesed from queue: 5\n",
      "Queue after pop() [4, 3, 2, 1]\n"
     ]
    }
   ],
   "source": [
    "queue = []\n",
    "\n",
    "# print empty queue\n",
    "print(\"Empty queue\", queue) # prints []\n",
    "\n",
    "# add values to a queue\n",
    "queue.append(5)\n",
    "queue.append(4)\n",
    "queue.append(3)\n",
    "queue.append(2)\n",
    "queue.append(1)\n",
    "\n",
    "# print empty queue\n",
    "print(\"queue with 5 values\", queue) # prints [5, 4, 3, 2, 1]\n",
    "\n",
    "# access values from queue using FIFO\n",
    "print(\"First value accesed from queue:\", queue.pop(0)) # prints 5\n",
    "print(\"Queue after pop()\", queue) # prints [5, 4, 3, 2]"
   ]
  },
  {
   "cell_type": "markdown",
   "id": "d85c7d75-d8df-4491-841c-02851df87440",
   "metadata": {},
   "source": [
    "## Chapter 3.4.5 - Dictionary iterators\n",
    "\n",
    "These follow the same rules as the above examples, except they have different ```iterator``` keywords that need to be explicitly written out:\n",
    "\n",
    "1. ```.keys()```: iterate through only the keys in the dictionary\n",
    "2. ```.values()```: iterate only though the values and not the keys in the dictionary\n",
    "3. ```.items()```: iterate through BOTH the keys and values\n",
    "\n",
    "### Basic dictionary iterator example:"
   ]
  },
  {
   "cell_type": "code",
   "execution_count": 10,
   "id": "272b766d-0c5d-4cd0-9ae9-b4a455139234",
   "metadata": {},
   "outputs": [
    {
     "name": "stdout",
     "output_type": "stream",
     "text": [
      "test\n",
      "1\n",
      "test 1\n",
      "---\n"
     ]
    }
   ],
   "source": [
    "## Basic dictionary iterator example\n",
    "dict_name = {'test': 1}\n",
    "\n",
    "for key in dict_name.keys():\n",
    "    print(key) # prints test\n",
    "\n",
    "for value in dict_name.values():\n",
    "    print(value) # prints 1\n",
    "\n",
    "for key, values in dict_name.items():\n",
    "    print(key, value) # prints test 1\n",
    "\n",
    "print(\"---\")"
   ]
  },
  {
   "cell_type": "markdown",
   "id": "2b1d1bf3-94bd-4388-a0c9-6224501979e3",
   "metadata": {},
   "source": [
    "**Example: A weather related use-case that iterates through both keys and values in a dictionary to print a message.**"
   ]
  },
  {
   "cell_type": "code",
   "execution_count": 11,
   "id": "3c0091dc-1b7a-4596-a181-79c80ffa48e2",
   "metadata": {},
   "outputs": [
    {
     "name": "stdout",
     "output_type": "stream",
     "text": [
      "The temperature is 42 F and you should not expect ice!\n",
      "The temperature in celisus is 5.56 C and the temperature in Kelvin is 278.71 K\n",
      "\n",
      "The temperature is 53 F and you should not expect ice!\n",
      "The temperature in celisus is 11.67 C and the temperature in Kelvin is 284.82 K\n",
      "\n",
      "The temperature is 23 F and you should expect ice!\n",
      "The temperature in celisus is -5.00 C and the temperature in Kelvin is 268.15 K\n",
      "\n",
      "The temperature is 59 F and you should not expect ice!\n",
      "The temperature in celisus is 15.00 C and the temperature in Kelvin is 288.15 K\n",
      "\n",
      "The temperature is 60 F and you should not expect ice!\n",
      "The temperature in celisus is 15.56 C and the temperature in Kelvin is 288.71 K\n",
      "\n",
      "The dew point is 33 F and you should not expect ice!\n",
      "The temperature in celisus is 0.56 C and the temperature in Kelvin is 273.71 K\n",
      "\n",
      "The dew point is 45 F and you should not expect ice!\n",
      "The temperature in celisus is 7.22 C and the temperature in Kelvin is 280.37 K\n",
      "\n",
      "The dew point is 15 F and you should expect ice!\n",
      "The temperature in celisus is -9.44 C and the temperature in Kelvin is 263.71 K\n",
      "\n",
      "The dew point is 50 F and you should not expect ice!\n",
      "The temperature in celisus is 10.00 C and the temperature in Kelvin is 283.15 K\n",
      "\n",
      "The dew point is 50 F and you should not expect ice!\n",
      "The temperature in celisus is 10.00 C and the temperature in Kelvin is 283.15 K\n",
      "\n"
     ]
    }
   ],
   "source": [
    "observations = {'temperature': [42, 53, 23, 59, 60], 'dew point': [33, 45, 15, 50, 50]}\n",
    "\n",
    "for variable, observations in observations.items():\n",
    "\n",
    "    # observations is now a list and can be treated like a list\n",
    "    for temperature in observations:\n",
    "\n",
    "        if temperature >= 32:\n",
    "            print(f\"The {variable} is {temperature} F and you should not expect ice!\")\n",
    "        else:\n",
    "            print(f\"The {variable} is {temperature} F and you should expect ice!\")\n",
    "\n",
    "        C = (temperature - 32) * 5/9\n",
    "        K = C + 273.15\n",
    "\n",
    "        print(f\"The temperature in celisus is {C:.2f} C and the temperature in Kelvin is {K:.2f} K\")\n",
    "        print(\"\")"
   ]
  },
  {
   "cell_type": "markdown",
   "id": "600571d6-31ba-41ab-853b-e5c14680cd38",
   "metadata": {},
   "source": [
    "## Chapter 3.4.6 - Practice\n",
    "\n",
    "Create a ```dictionary``` of rock or cloud names, where each name has their affiliated descriptions and a date when you saw the rock or cloud.\n",
    "\n",
    "Once you complete the ```dict```, use the ```dict``` iterator to print a message similar to the following:\n",
    "\n",
    "```\n",
    "The cirrus cloud looks wispy and feathery and is usually high in the sky. I saw a cirrus cloud on 09/06/2025.\n",
    "The obsidian rock is black and shiny and is formed by volcanoes. I saw an obsidian rock on 09/20/2025.\n",
    "```"
   ]
  }
 ],
 "metadata": {
  "kernelspec": {
   "display_name": "Python [conda env:mamba-geo] *",
   "language": "python",
   "name": "conda-env-mamba-geo-py"
  },
  "language_info": {
   "codemirror_mode": {
    "name": "ipython",
    "version": 3
   },
   "file_extension": ".py",
   "mimetype": "text/x-python",
   "name": "python",
   "nbconvert_exporter": "python",
   "pygments_lexer": "ipython3",
   "version": "3.12.11"
  }
 },
 "nbformat": 4,
 "nbformat_minor": 5
}
