{
 "cells": [
  {
   "cell_type": "markdown",
   "id": "10381c1b-1ab4-463d-9d2e-c90a77c4f5be",
   "metadata": {
    "tags": []
   },
   "source": [
    "# Chapter 3.3 - Loops\n",
    "\n",
    "When you see the words \"loops\" or \"looping\" in the context of coding, it refers to a specific type of flow control that allows the program to run the same lines of code many times.\n",
    "\n",
    "Loops are a foundational part of almost all programming languages, and Python is no exception. It also allows programs to process immense amounts of data much faster than a human ever could. Thus, understanding loops is *incredibly* important for any non-trivial Python program. Examples of daily software tasks that use loops include reading and/or downloading data, serving a website, and producing graphics in a video game.\n",
    "\n",
    "## Chapter 3.3.1 - Loop Example: Reading image files\n",
    "\n",
    "Data is often stored on your harddrive in a format that is not readable to humans if they were to visually inspect the data in a text editor.\n",
    "\n",
    "For example, a \"png\" image of a cat might look like this:\n",
    "\n",
    "![png](https://upload.wikimedia.org/wikipedia/commons/1/17/PNG-Gradient_hex.png)\n",
    "\n",
    "A software package or web browser looks up the \"specifications\" of the file type (e.g. 'png') and then decodes the file into a representation that is interpretable by humans. The \"psuedocode\", or \"fake\" code that describes the process without implementing the actual, working code, would look like this:\n",
    "\n",
    "```\n",
    "while not end of file\n",
    "\n",
    "    read line\n",
    "    \n",
    "    if line data is a header\n",
    "        process header\n",
    "    elif line is image data\n",
    "        decode image data\n",
    "        add image data to a list\n",
    "    else\n",
    "        tell user there is an error\n",
    "        \n",
    "plot combined image data\n",
    "```\n",
    "\n",
    "In other words, the \"decoder\" would read every one of the lines in the file and use \"flags\" (instructions) in the data to decide what to do inside an if/elif/else structure. It would continue to do this until it read a \"end of file\" flag, at which point, it would stop reading the file. During the loop, the results would be saved to a composite data type like a ```list```. After the loop, the resulting data is then displayed as an image for the user.\n",
    "\n",
    "## Chapter 3.3.2 - Loop Example: Serving a website\n",
    "\n",
    "Code running on a web server that \"serves\" a website is a form of an \"event loop\". It continually checks for requests (events), and then executes code that can fulfill those requests. Depending on the scale of the server, it can check for requests many times a second. For example, the Amazon AWS system processes <a href=https://aws.amazon.com/blogs/aws/happy-10th-birthday-aws-identity-and-access-management/>400 million requests *per second*</a>. \n",
    "\n",
    "Psuedocode for a web server:\n",
    "\n",
    "```\n",
    "while the server is online\n",
    "\n",
    "    check for a request\n",
    "    \n",
    "    if there is a request\n",
    "    \n",
    "        read in the request code\n",
    "        \n",
    "        if web page request\n",
    "        \n",
    "           send the html and javascript needed for the browser to display the website\n",
    "           \n",
    "        elif file request\n",
    "        \n",
    "            send the requested file to the user\n",
    "            \n",
    "        ... (many other possible requests)\n",
    "    \n",
    "        else\n",
    "            this request is not possible\n",
    "    else \n",
    "        check again\n",
    "\n",
    "```\n",
    "\n",
    "<a href=https://en.wikipedia.org/wiki/List_of_HTTP_status_codes>other http codes</a>\n",
    "\n",
    "## Chapter 3.3.3 - Loop Example: Running a video game\n",
    "\n",
    "Video game code is similar to website code in that it also has an \"event loop\". It continually checks for requests (events), and then executes code that can fulfill those requests. For example, a user may want to jump, and the code that displays the scene in the game must update the perspective of the 3D environment. Many games are \"60 FPS\", which requires the loop to update the scene 60 times a second (or more). If the scenes are complex or the computer is not up to the task, you will notice a \"lag\" where the change in the perspective is not as smooth as it would be in \"real life\". This could be due to complex scenarios (many characters or objects on the screen) or just normal variability in the GPU related to heat or background processes.\n",
    "\n",
    "Psuedocode for a game server:\n",
    "\n",
    "```\n",
    "while the game is being played\n",
    "\n",
    "    check for user input\n",
    "    \n",
    "    if there is a request\n",
    "    \n",
    "        read in the request code\n",
    "        \n",
    "        if move request\n",
    "        \n",
    "           move in that direction using the speed input by the player\n",
    "           check if it hits wall, other player, ground, etc.\n",
    "           update the 3D position and central field of vision\n",
    "           update the perspective for pitch (up/down), roll (tilt), and yaw (side to side)\n",
    "           draw the graphics based on this new perspective\n",
    "           \n",
    "        elif button request\n",
    "        \n",
    "            if button is a:\n",
    "                throw rock animation\n",
    "            elif button is b:\n",
    "                move request to kneel down and pick something up\n",
    "                add item to inventory (list-like)\n",
    "            \n",
    "        ... (many other possible requests)\n",
    "    \n",
    "        else\n",
    "            this request is not possible\n",
    "    else \n",
    "        check again\n",
    "\n",
    "```\n",
    "\n",
    "<a href=https://en.wikipedia.org/wiki/Video_game_programming>coding video games</a>\n",
    "\n",
    "\n",
    "## Chapter 3.3.4 - ```while``` loops\n",
    "\n",
    "What you may have noticed in each case is that there is a pattern of \"do something while something is true\".\n",
    "\n",
    "The *something* is Python code, and \"while something is true\" is a condition. So we already know most of what we need for a ```while``` loop!\n",
    "\n",
    "The typical control structure associated with a ```while``` loop is very similar to an ```if``` statement.\n",
    "\n",
    "psuedocode:\n",
    "\n",
    "```\n",
    "while (condition is True):\n",
    "\n",
    "    #run code in a loop\n",
    "    \n",
    "    #modify the condition so the loop eventually ends\n",
    "```\n",
    "\n",
    "For example, we could print all numbers between 1 and 10. What do we need to do?\n",
    "\n",
    "### Steps for creating a loop\n",
    "\n",
    "*Brainstorm*: what would the output look like?\n",
    "\n",
    "```\n",
    "1\n",
    "2\n",
    "3\n",
    "4\n",
    "5\n",
    "6\n",
    "7\n",
    "8\n",
    "9\n",
    "```\n",
    "\n",
    "*Implement in a way you know*: Create a basic solution in \"regular\" Python."
   ]
  },
  {
   "cell_type": "code",
   "execution_count": 1,
   "id": "2155bed4-7df4-4cc3-845f-608ec962a5a9",
   "metadata": {},
   "outputs": [
    {
     "name": "stdout",
     "output_type": "stream",
     "text": [
      "1\n",
      "2\n",
      "3\n",
      "4\n",
      "5\n",
      "6\n",
      "7\n",
      "8\n",
      "9\n",
      "10\n"
     ]
    }
   ],
   "source": [
    "print(1)\n",
    "print(2)\n",
    "print(3)\n",
    "print(4)\n",
    "print(5)\n",
    "print(6)\n",
    "print(7)\n",
    "print(8)\n",
    "print(9)\n",
    "print(10)"
   ]
  },
  {
   "cell_type": "markdown",
   "id": "46aa3394-a1c3-414f-bce4-d11e0f041052",
   "metadata": {},
   "source": [
    "*Add complexity*: how would you use only 1 variable?"
   ]
  },
  {
   "cell_type": "code",
   "execution_count": 2,
   "id": "47de68a7-a624-4d63-a806-c412b921cf9f",
   "metadata": {},
   "outputs": [
    {
     "name": "stdout",
     "output_type": "stream",
     "text": [
      "1\n",
      "2\n",
      "3\n",
      "4\n",
      "5\n",
      "6\n",
      "7\n",
      "8\n",
      "9\n",
      "10\n"
     ]
    }
   ],
   "source": [
    "a = 1\n",
    "print(a)\n",
    "a = a + 1\n",
    "print(a)\n",
    "a = a + 1\n",
    "print(a)\n",
    "a = a + 1\n",
    "print(a)\n",
    "a = a + 1\n",
    "print(a)\n",
    "a = a + 1\n",
    "print(a)\n",
    "a = a + 1\n",
    "print(a)\n",
    "a = a + 1\n",
    "print(a)\n",
    "a = a + 1\n",
    "print(a)\n",
    "a = a + 1\n",
    "print(a)"
   ]
  },
  {
   "cell_type": "markdown",
   "id": "8d5ab300-2559-4ecc-878d-eb7f77871d4a",
   "metadata": {},
   "source": [
    "*Recognize the patterns*: do you notice any repeating code? Try to identify the fewest lines that describe the step of printing a single number and then adding 1 to that number."
   ]
  },
  {
   "cell_type": "code",
   "execution_count": 3,
   "id": "7176dfd3-eca2-4915-a89c-cac3c4bda037",
   "metadata": {},
   "outputs": [
    {
     "name": "stdout",
     "output_type": "stream",
     "text": [
      "1\n"
     ]
    }
   ],
   "source": [
    "a = 1\n",
    "print(a)\n",
    "a = a + 1"
   ]
  },
  {
   "cell_type": "markdown",
   "id": "6687f202-360f-4f7f-bf0d-1f4f51f3004b",
   "metadata": {},
   "source": [
    "So we know that the *first step* needs to print 1, so ```a``` should be set equal to 1 as an *initialization step*.\n",
    "\n",
    "Next, we need to implement the ```while``` block. We can first create psuedocode to get an idea of what it might look like:\n",
    "\n",
    "psuedocode (this is not meant to be runnable Python code)\n",
    "\n",
    "```\n",
    "set a equal to 1\n",
    "\n",
    "while a is 10 or less\n",
    "\n",
    "    print a\n",
    "\n",
    "    add 1 to a\n",
    "\n",
    "```\n",
    "\n",
    "At this point, the only complexity is deciding on the condition. After the code below the ```while``` loop is executed, the condition is checked again. If it is ```False``` the loop is over, if it is ```True``` the code is run again.\n",
    "\n",
    "The condition in this case would then be:\n",
    "\n",
    "```\n",
    "a <= 10\n",
    "```\n",
    "\n",
    "which is True when ```a``` is equal to 1, 2, 3, 4, 5, 6, 7, 8, 9 and 10\n",
    "\n",
    "combining the condition with the psuedocode prototype gives us the following working Python code:"
   ]
  },
  {
   "cell_type": "code",
   "execution_count": 4,
   "id": "909ac3b5-275f-43ca-9aa7-7afee5290e77",
   "metadata": {},
   "outputs": [
    {
     "name": "stdout",
     "output_type": "stream",
     "text": [
      "1\n",
      "2\n",
      "3\n",
      "4\n",
      "5\n",
      "6\n",
      "7\n",
      "8\n",
      "9\n",
      "10\n"
     ]
    }
   ],
   "source": [
    "a = 1\n",
    "\n",
    "while (a <= 10):\n",
    "    \n",
    "    print(a)\n",
    "    \n",
    "    a = a + 1\n"
   ]
  },
  {
   "cell_type": "markdown",
   "id": "d3bb1c8c-b5ad-4856-811d-a93795f44dea",
   "metadata": {},
   "source": [
    "We can even print the test each step to see what happens. Since the last line in the ```while``` loop code is the last thing to happen before the condition is tested, we can place ```print(a <= 10)``` in the last line to simulate what the ```while``` loop does in the next step:"
   ]
  },
  {
   "cell_type": "code",
   "execution_count": 5,
   "id": "ef69d3ea-5060-48fc-91c9-f72d751e8aa9",
   "metadata": {},
   "outputs": [
    {
     "name": "stdout",
     "output_type": "stream",
     "text": [
      "1\n",
      "True\n",
      "2\n",
      "True\n",
      "3\n",
      "True\n",
      "4\n",
      "True\n",
      "5\n",
      "True\n",
      "6\n",
      "True\n",
      "7\n",
      "True\n",
      "8\n",
      "True\n",
      "9\n",
      "True\n",
      "10\n",
      "False\n"
     ]
    }
   ],
   "source": [
    "a = 1\n",
    "\n",
    "while (a <= 10):\n",
    "    \n",
    "    print(a)\n",
    "    \n",
    "    a = a + 1\n",
    "    \n",
    "    print(a <= 10)"
   ]
  },
  {
   "cell_type": "markdown",
   "id": "ae15b008-40bc-4d6a-ba43-3864fab28a52",
   "metadata": {},
   "source": [
    "Notice that the first time ```(a <= 10)``` is ```False```, no number is printed afterwards. The ```while``` loop was exited.\n",
    "\n",
    "NOTE: Some of these examples will run forever, so you will need to press the stop sign above.\n",
    "\n",
    "## Chapter 3.3.5 - Common issues with while loops\n",
    "\n",
    "**1. Infinite loops**\n",
    "\n",
    "Infinite loops occur when the code that belongs to the while loop makes it impossible for the condition to ever be ```False```. Thus, as the name suggests, the loop will continue on forever (or until you restart the kernel or press the stop button above). This is usually **not** desired behavior, and should be avoided. ***Always*** include a line of code that modifies variables associated with the condition in a way that eventually the test will \"fail\" (result in ```False```).\n",
    "\n",
    "There are a few ways that can result in an infinite loop. We will use the above example to illustrate. Please press the stop button above when you are convinced it is an infinite loop (the black square above the notebook). I suggest you press it multiple times immediately after pressing run or you will get 100s of lines of output. Python is running in that code block as long as there is a [*] instead of a [number].\n",
    "\n",
    "1. You do not modify a variable within the test. If the test is True and nothing changes in the test, it will continue on forever. I am using ```pass``` as a placeholder for your code since you do not create 10s of thousands of lines of output and crash your computer. If the loop finishes, you should have printed out \"Finished!\" based on the ```print``` statement after the ```while``` loop block."
   ]
  },
  {
   "cell_type": "code",
   "execution_count": 6,
   "id": "27e1cf18-cd66-4394-9bc1-27adc4b83ab1",
   "metadata": {},
   "outputs": [
    {
     "ename": "KeyboardInterrupt",
     "evalue": "",
     "output_type": "error",
     "traceback": [
      "\u001b[0;31m---------------------------------------------------------------------------\u001b[0m",
      "\u001b[0;31mKeyboardInterrupt\u001b[0m                         Traceback (most recent call last)",
      "Cell \u001b[0;32mIn[6], line 5\u001b[0m\n\u001b[1;32m      1\u001b[0m a \u001b[38;5;241m=\u001b[39m \u001b[38;5;241m1\u001b[39m\n\u001b[1;32m      3\u001b[0m \u001b[38;5;28;01mwhile\u001b[39;00m (a \u001b[38;5;241m<\u001b[39m\u001b[38;5;241m=\u001b[39m \u001b[38;5;241m10\u001b[39m):\n\u001b[0;32m----> 5\u001b[0m     \u001b[38;5;28;01mpass\u001b[39;00m \u001b[38;5;66;03m# placeholder for print(a) so we don't crash you computer\u001b[39;00m\n\u001b[1;32m      7\u001b[0m \u001b[38;5;28mprint\u001b[39m(\u001b[38;5;124m\"\u001b[39m\u001b[38;5;124mFinished!\u001b[39m\u001b[38;5;124m\"\u001b[39m)\n",
      "\u001b[0;31mKeyboardInterrupt\u001b[0m: "
     ]
    }
   ],
   "source": [
    "a = 1\n",
    "\n",
    "while (a <= 10):\n",
    "    \n",
    "    pass # placeholder for print(a) so we don't crash you computer\n",
    "\n",
    "print(\"Finished!\")"
   ]
  },
  {
   "cell_type": "markdown",
   "id": "c84994b3-6c46-41ee-9d3e-7924a2d5e091",
   "metadata": {},
   "source": [
    "2. You do modify a variable within the test, but in a way in which the test will never be ```False```, so it will continue on forever."
   ]
  },
  {
   "cell_type": "code",
   "execution_count": 7,
   "id": "062a9fc4-c4ce-4107-ab5f-d56b295ca5b0",
   "metadata": {},
   "outputs": [
    {
     "ename": "KeyboardInterrupt",
     "evalue": "",
     "output_type": "error",
     "traceback": [
      "\u001b[0;31m---------------------------------------------------------------------------\u001b[0m",
      "\u001b[0;31mKeyboardInterrupt\u001b[0m                         Traceback (most recent call last)",
      "Cell \u001b[0;32mIn[7], line 7\u001b[0m\n\u001b[1;32m      3\u001b[0m \u001b[38;5;28;01mwhile\u001b[39;00m (a \u001b[38;5;241m<\u001b[39m\u001b[38;5;241m=\u001b[39m \u001b[38;5;241m10\u001b[39m):\n\u001b[1;32m      5\u001b[0m     \u001b[38;5;28;01mpass\u001b[39;00m \u001b[38;5;66;03m# placeholder for print(a) so we don't crash you computer\u001b[39;00m\n\u001b[0;32m----> 7\u001b[0m     a \u001b[38;5;241m=\u001b[39m a \u001b[38;5;241m-\u001b[39m \u001b[38;5;241m1\u001b[39m\n\u001b[1;32m      9\u001b[0m \u001b[38;5;28mprint\u001b[39m(\u001b[38;5;124m\"\u001b[39m\u001b[38;5;124mFinished!\u001b[39m\u001b[38;5;124m\"\u001b[39m)\n",
      "\u001b[0;31mKeyboardInterrupt\u001b[0m: "
     ]
    }
   ],
   "source": [
    "a = 1\n",
    "\n",
    "while (a <= 10):\n",
    "    \n",
    "    pass # placeholder for print(a) so we don't crash you computer\n",
    "    \n",
    "    a = a - 1\n",
    "    \n",
    "print(\"Finished!\")"
   ]
  },
  {
   "cell_type": "markdown",
   "id": "d85c7d75-d8df-4491-841c-02851df87440",
   "metadata": {},
   "source": [
    "3. You modify a variable within the test as required, but the test is created in a way that it will never result in ```False```"
   ]
  },
  {
   "cell_type": "code",
   "execution_count": 8,
   "id": "272b766d-0c5d-4cd0-9ae9-b4a455139234",
   "metadata": {},
   "outputs": [
    {
     "ename": "KeyboardInterrupt",
     "evalue": "",
     "output_type": "error",
     "traceback": [
      "\u001b[0;31m---------------------------------------------------------------------------\u001b[0m",
      "\u001b[0;31mKeyboardInterrupt\u001b[0m                         Traceback (most recent call last)",
      "Cell \u001b[0;32mIn[8], line 3\u001b[0m\n\u001b[1;32m      1\u001b[0m a \u001b[38;5;241m=\u001b[39m \u001b[38;5;241m1\u001b[39m\n\u001b[0;32m----> 3\u001b[0m \u001b[38;5;28;01mwhile\u001b[39;00m (\u001b[43ma\u001b[49m \u001b[38;5;241m>\u001b[39m\u001b[38;5;241m=\u001b[39m \u001b[38;5;241m1\u001b[39m):\n\u001b[1;32m      5\u001b[0m     \u001b[38;5;28;01mpass\u001b[39;00m \u001b[38;5;66;03m# placeholder for print(a) so we don't crash you computer\u001b[39;00m\n\u001b[1;32m      7\u001b[0m     a \u001b[38;5;241m=\u001b[39m a \u001b[38;5;241m+\u001b[39m \u001b[38;5;241m1\u001b[39m\n",
      "\u001b[0;31mKeyboardInterrupt\u001b[0m: "
     ]
    }
   ],
   "source": [
    "a = 1\n",
    "\n",
    "while (a >= 1):\n",
    "    \n",
    "    pass # placeholder for print(a) so we don't crash you computer\n",
    "    \n",
    "    a = a + 1\n",
    "    \n",
    "print(\"Finished!\")"
   ]
  },
  {
   "cell_type": "markdown",
   "id": "2b1d1bf3-94bd-4388-a0c9-6224501979e3",
   "metadata": {},
   "source": [
    "**2. Your ```while``` loop does not run because the condition is *never* ```True```**\n",
    "\n",
    "You can have the opposite issue when you set up a ```while``` loop where the test is never ```True```:"
   ]
  },
  {
   "cell_type": "code",
   "execution_count": 9,
   "id": "3c0091dc-1b7a-4596-a181-79c80ffa48e2",
   "metadata": {},
   "outputs": [
    {
     "name": "stdout",
     "output_type": "stream",
     "text": [
      "Finished!\n"
     ]
    }
   ],
   "source": [
    "a = 1\n",
    "\n",
    "while (a > 10):\n",
    "    \n",
    "    print(a)\n",
    "    \n",
    "    a = a + 1\n",
    "    \n",
    "print(\"Finished!\")"
   ]
  },
  {
   "cell_type": "markdown",
   "id": "b917b4e8-afb5-46c8-9ed0-fd87abeb829c",
   "metadata": {},
   "source": [
    "**3. Your ```while``` loop is *almost* right, but you are \"one off\"**\n",
    "\n",
    "This happens when you use the wrong test or initialization value.\n",
    "\n",
    "Using the other example above, a small change to the test from ```(a <= 10)``` to ```(a < 10)``` will result in printing only 9 numbers:"
   ]
  },
  {
   "cell_type": "code",
   "execution_count": 10,
   "id": "ded518ed-ceca-44f1-870f-94cbb4a909d8",
   "metadata": {},
   "outputs": [
    {
     "name": "stdout",
     "output_type": "stream",
     "text": [
      "1\n",
      "2\n",
      "3\n",
      "4\n",
      "5\n",
      "6\n",
      "7\n",
      "8\n",
      "9\n"
     ]
    }
   ],
   "source": [
    "a = 1\n",
    "\n",
    "while (a < 10):\n",
    "    \n",
    "    print(a)\n",
    "    \n",
    "    a = a + 1"
   ]
  },
  {
   "cell_type": "markdown",
   "id": "45fbdb4f-57f1-4c66-82d5-15b96ada7906",
   "metadata": {},
   "source": [
    "**4. You modify your counter variable at the wrong time.**\n",
    "\n",
    "We know that code is run from top to bottom, and this is true within a ```while``` loop as well.\n",
    "\n",
    "If you modify ```a``` in the previous example too early, this can result in undesired results!"
   ]
  },
  {
   "cell_type": "code",
   "execution_count": 11,
   "id": "b250769a-ac81-4be1-96f9-d98722133e81",
   "metadata": {},
   "outputs": [
    {
     "name": "stdout",
     "output_type": "stream",
     "text": [
      "2\n",
      "3\n",
      "4\n",
      "5\n",
      "6\n",
      "7\n",
      "8\n",
      "9\n",
      "10\n"
     ]
    }
   ],
   "source": [
    "a = 1\n",
    "\n",
    "while (a < 10):\n",
    "    \n",
    "    a = a + 1\n",
    "    \n",
    "    print(a)"
   ]
  },
  {
   "cell_type": "markdown",
   "id": "3e92e629-f500-4aa2-93b8-15ffb02194f8",
   "metadata": {},
   "source": [
    "# Practice\n",
    "\n",
    "1. Write a loop that loops until i is greater than 5. Set i initially to 0."
   ]
  },
  {
   "cell_type": "code",
   "execution_count": null,
   "id": "1646c401-0c1d-4d49-a8b2-7e7d23b93efb",
   "metadata": {},
   "outputs": [],
   "source": []
  },
  {
   "cell_type": "markdown",
   "id": "9b75aedb-e2c4-4782-bd8d-c5be1f6d84fe",
   "metadata": {},
   "source": [
    "2. Write a loop that loops until i is greater than or equal to 5. Set i initially to 0."
   ]
  },
  {
   "cell_type": "code",
   "execution_count": null,
   "id": "c43c3cd3-ab6e-41c8-ba1d-dccbab2f9b7a",
   "metadata": {},
   "outputs": [],
   "source": []
  },
  {
   "cell_type": "markdown",
   "id": "e32ea55d-4876-482c-9bc1-96db899a7eb9",
   "metadata": {},
   "source": [
    "3. Write a loop that loops until i is equal to 5"
   ]
  },
  {
   "cell_type": "code",
   "execution_count": null,
   "id": "06591838-73c7-40d6-b3d7-c9fd8da4db57",
   "metadata": {},
   "outputs": [],
   "source": []
  },
  {
   "cell_type": "markdown",
   "id": "9aa14e5d-2462-42c4-862a-a369c5be1cb7",
   "metadata": {},
   "source": [
    "4. Write a loop that loops as long as i is not equal to 5"
   ]
  },
  {
   "cell_type": "code",
   "execution_count": null,
   "id": "3bc6a1be-bf35-4e67-a54b-859fa1f1ba80",
   "metadata": {},
   "outputs": [],
   "source": []
  },
  {
   "cell_type": "markdown",
   "id": "d5d40cac-5a82-473f-bf9a-32165fd661eb",
   "metadata": {},
   "source": [
    "5. Write a while loop that loops while i is less than the length of the following list and then adds 1 to i at each step after starting at 0:"
   ]
  },
  {
   "cell_type": "code",
   "execution_count": null,
   "id": "927ad67c-e226-4825-aa65-a11b551c32bf",
   "metadata": {},
   "outputs": [],
   "source": [
    "my_list = [5, 4, 3, 2, 1]\n",
    "\n"
   ]
  },
  {
   "cell_type": "markdown",
   "id": "fa432833-50b4-4f0a-8d14-58938849237a",
   "metadata": {},
   "source": [
    "6. Write a while loop that loops while i is less than the length of the following list, and then access the value at the **index** corresponding to the value of ```i``` at each step and then adds 1 to i at each step after starting at 0:"
   ]
  },
  {
   "cell_type": "code",
   "execution_count": null,
   "id": "ec1ec554-4916-4abe-a274-4125b7fc14ac",
   "metadata": {},
   "outputs": [],
   "source": [
    "my_list = [5, 4, 3, 2, 1]"
   ]
  }
 ],
 "metadata": {
  "kernelspec": {
   "display_name": "Python 3 (ipykernel)",
   "language": "python",
   "name": "python3"
  },
  "language_info": {
   "codemirror_mode": {
    "name": "ipython",
    "version": 3
   },
   "file_extension": ".py",
   "mimetype": "text/x-python",
   "name": "python",
   "nbconvert_exporter": "python",
   "pygments_lexer": "ipython3",
   "version": "3.12.11"
  }
 },
 "nbformat": 4,
 "nbformat_minor": 5
}
