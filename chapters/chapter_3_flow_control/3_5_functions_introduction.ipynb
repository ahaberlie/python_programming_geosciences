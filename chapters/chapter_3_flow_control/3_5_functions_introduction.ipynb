{
 "cells": [
  {
   "cell_type": "markdown",
   "metadata": {},
   "source": [
    "# Chapter 3.5 - Functions\n",
    "\n",
    "[Functions](https://en.wikipedia.org/wiki/Function_(computer_programming)) are another way for a programmer to control the flow of their program. They provide an [interface](https://en.wikipedia.org/wiki/Interface_(computing)) that simplifies the execution of useful code blocks.\n",
    "\n",
    "Outside of programming, we take advantage of interfaces every day. Imagine if you had to *code* the ATM or the phone you use to text a friend. Think about the steps involved in each case:\n",
    "\n",
    "**Getting cash from an ATM**\n",
    "  1. Recognizing the card\n",
    "  2. Reading the card\n",
    "  3. Validating the PIN\n",
    "  4. etc. etc.\n",
    "\n",
    "**Texting a friend**\n",
    "  1. Waiting for touchscreen events\n",
    "  2. Getting screen coordinates of touches\n",
    "  3. Translating those coordinates to letters, emojis, etc.\n",
    "  4. etc., etc.\n",
    "  \n",
    "What we gain in simplicity, we lose in flexibility. The phone's operating system limits our interactions with its programs by providing a narrow set of possible inputs. For example, if we want to make a call, we can only use numbers and a few symbols. These inputs are called [*parameters*](https://en.wikipedia.org/wiki/Parameter_(computer_programming)) when talking about functions in Python and other programming languages. \n",
    "\n",
    "Imagine that you have to write code to capture numbers and symbols for a phone call. You might not even be able to start the program because you do not know how to read data or input from an interactive program. Luckily, Python has a function that can do this for us!\n",
    "\n",
    "Let's start out by using the ```input``` function. All you need to do is provide an *argument* to place within the parentheses for ```input(......)```. Python then automatically prompts the user to provide some typed input based on your message, captures that input, and provides the values to you that you can use to define a variable."
   ]
  },
  {
   "cell_type": "code",
   "execution_count": 1,
   "metadata": {},
   "outputs": [
    {
     "name": "stdin",
     "output_type": "stream",
     "text": [
      "Please input a phone number: 5558675309\n"
     ]
    },
    {
     "name": "stdout",
     "output_type": "stream",
     "text": [
      "Calling... 5558675309\n"
     ]
    }
   ],
   "source": [
    "number_to_call = input(\"Please input a phone number:\")\n",
    "\n",
    "print(\"Calling...\", number_to_call)"
   ]
  },
  {
   "cell_type": "markdown",
   "metadata": {},
   "source": [
    "Many of you provided valid input (i.e., a normal phone number). But what if someone messes up the number and tries to make a call? What tests do you think we should run to validate the phone number? \n",
    "\n",
    "Let's list a few possible formats of normal phone numbers using the hit 1980s song:\n",
    "\n",
    "```\n",
    "5558675309\n",
    "555-867-5309\n",
    "555.867.5309\n",
    "555 867 5309\n",
    "1-555 867 5309\n",
    "```\n",
    "\n",
    "We could go on forever! This makes it extremely difficult to validate the numbers because there are so many possible ways a person could input a phone number. Since we definitely need to make sure it is right (what if someone confesses their love, only to hear \"Sir, this is a Wendy's\"), all steps should be taken to throughly test the input values.\n",
    "\n",
    "We can define general rules:\n",
    "\n",
    "1. The input data must be numeric (let's ignore \"#\" for now!)\n",
    "2. The input data must have 10 numbers in it\n",
    "\n"
   ]
  },
  {
   "cell_type": "code",
   "execution_count": 2,
   "metadata": {},
   "outputs": [
    {
     "name": "stdin",
     "output_type": "stream",
     "text": [
      "Please input a phone number:       sadasd 555 asda 234 asd as ff 8765\n"
     ]
    },
    {
     "name": "stdout",
     "output_type": "stream",
     "text": [
      "The number you are trying to reach is not in service. Please check the number and dial again!\n"
     ]
    }
   ],
   "source": [
    "number_to_call = input(\"Please input a phone number:\")\n",
    "\n",
    "if number_to_call.isnumeric() and len(number_to_call) == 10:\n",
    "    print(\"Calling...\", number_to_call)\n",
    "else:\n",
    "    print(\"The number you are trying to reach is not in service. Please check the number and dial again!\")"
   ]
  },
  {
   "cell_type": "markdown",
   "metadata": {},
   "source": [
    "Did anyone type in a phone number that seemed OK to you, but did not work? You might have included dashes or even spaces! This would be maddening to the person trying to make an important and timely call. Let's try to \"sanitize\" the input by removing common extra characters. I will provide a complex case instead of using ```input```.\n",
    "\n",
    "This case below is challenging, because there are letters, numbers, and spaces to either keep or remove. We can use the following ```str``` functions to fix our numbers. These functions are placed at the end of a ```str``` or ```str``` variable.\n",
    "\n",
    "1. ```.strip()```:  This removes whitespace at the beginning or end of a string\n",
    "2. ```.replace(remove_str, replace_str)```: This removes any strings matching the first parameter with the second parameter.\n",
    "3. ```.isdigit()```: This tests to see if a character is a number or not. The result will be ```True``` if it is a number, ```False``` otherwise.\n",
    "\n",
    "Setting the \"phone number\":"
   ]
  },
  {
   "cell_type": "code",
   "execution_count": 3,
   "metadata": {},
   "outputs": [
    {
     "name": "stdout",
     "output_type": "stream",
     "text": [
      "original number '   asdasd555asdasda555 asdasdads5623   '\n"
     ]
    }
   ],
   "source": [
    "number_to_call = \"   asdasd555asdasda555 asdasdads5623   \"\n",
    "print(f\"original number '{number_to_call}'\")"
   ]
  },
  {
   "cell_type": "markdown",
   "metadata": {},
   "source": [
    "Removing leading and trailing whitespace:"
   ]
  },
  {
   "cell_type": "code",
   "execution_count": 4,
   "metadata": {},
   "outputs": [
    {
     "name": "stdout",
     "output_type": "stream",
     "text": [
      "after strip() 'asdasd555asdasda555 asdasdads5623'\n"
     ]
    }
   ],
   "source": [
    "number_to_call = number_to_call.strip()\n",
    "print(f\"after strip() '{number_to_call}'\")"
   ]
  },
  {
   "cell_type": "markdown",
   "metadata": {},
   "source": [
    "Replace all whitespace with an empty character:"
   ]
  },
  {
   "cell_type": "code",
   "execution_count": 5,
   "metadata": {},
   "outputs": [
    {
     "name": "stdout",
     "output_type": "stream",
     "text": [
      "after .replace(\" \", \"\") 'asdasd555asdasda555asdasdads5623'\n"
     ]
    }
   ],
   "source": [
    "number_to_call = number_to_call.replace(\" \", \"\")\n",
    "print(f\"after {'.replace(\" \", \"\")'} '{number_to_call}'\")"
   ]
  },
  {
   "cell_type": "markdown",
   "metadata": {},
   "source": [
    "Check to see if each character is a digit or not. If it is, add it to the string, if not, ignore it \n",
    "\n",
    "This allows us to remove the ```is_numeric()``` test in the ```if``` statement."
   ]
  },
  {
   "cell_type": "code",
   "execution_count": 6,
   "metadata": {},
   "outputs": [
    {
     "name": "stdout",
     "output_type": "stream",
     "text": [
      "after the loop with isdigit() '5555555623'\n"
     ]
    }
   ],
   "source": [
    "temp_number = \"\"\n",
    "\n",
    "for i in range(len(number_to_call)):\n",
    "\n",
    "    test_char = number_to_call[i]\n",
    "\n",
    "    if test_char.isdigit():\n",
    "        temp_number = temp_number + test_char\n",
    "\n",
    "number_to_call = temp_number\n",
    "\n",
    "print(f\"after the loop with isdigit() '{number_to_call}'\")"
   ]
  },
  {
   "cell_type": "markdown",
   "metadata": {},
   "source": [
    "Looks good! Let's try the call:"
   ]
  },
  {
   "cell_type": "code",
   "execution_count": 7,
   "metadata": {},
   "outputs": [
    {
     "name": "stdout",
     "output_type": "stream",
     "text": [
      "Calling... 5555555623\n"
     ]
    }
   ],
   "source": [
    "if len(number_to_call) == 10:\n",
    "    print(\"Calling...\", number_to_call)\n",
    "else:\n",
    "    print(\"The number you are trying to reach is not in service. Please check the number and dial again!\")"
   ]
  },
  {
   "cell_type": "markdown",
   "metadata": {},
   "source": [
    "Alright! Try to see if you can find a number that should work but does not work."
   ]
  },
  {
   "cell_type": "code",
   "execution_count": 8,
   "metadata": {},
   "outputs": [
    {
     "name": "stdin",
     "output_type": "stream",
     "text": [
      "Please input a phone number:      asdd555 asdd jjfjjfjf 867 asdasda 5l3l0as9\n"
     ]
    },
    {
     "name": "stdout",
     "output_type": "stream",
     "text": [
      "Calling... 5558675309\n"
     ]
    }
   ],
   "source": [
    "number_to_call = input(\"Please input a phone number:\")\n",
    "number_to_call = number_to_call.strip()\n",
    "number_to_call = number_to_call.replace(\" \", \"\")\n",
    "\n",
    "temp_number = \"\"\n",
    "\n",
    "for i in range(len(number_to_call)):\n",
    "\n",
    "    test_char = number_to_call[i]\n",
    "\n",
    "    if test_char.isdigit():\n",
    "        temp_number = temp_number + test_char\n",
    "\n",
    "number_to_call = temp_number\n",
    "\n",
    "if len(number_to_call) == 10:\n",
    "    print(\"Calling...\", number_to_call)\n",
    "else:\n",
    "    print(\"The number you are trying to reach is not in service. Please check the number and dial again!\")"
   ]
  },
  {
   "cell_type": "markdown",
   "metadata": {},
   "source": [
    "This does a pretty good job. But, if we had to copy and paste it thousands or millions of times to check each number we input, that would be quite a lot of code.\n",
    "\n",
    "Instead, we should try to place this all within a function and provide an *interface* for users of your phone system.\n",
    "\n",
    "## Chapter 3.5.1 - Defining a function"
   ]
  },
  {
   "cell_type": "code",
   "execution_count": 18,
   "metadata": {},
   "outputs": [
    {
     "name": "stdin",
     "output_type": "stream",
     "text": [
      "Please input a phone number: asdd 666 asdasd 8ddd6  7    5  sa3 ll 0asdsd 9   \n"
     ]
    },
    {
     "name": "stdout",
     "output_type": "stream",
     "text": [
      "6668675309\n",
      "Calling... 6668675309\n"
     ]
    }
   ],
   "source": [
    "def phone_call(input_number):\n",
    "\n",
    "    input_number = input_number.strip()\n",
    "    input_number = input_number.replace(\" \", \"\")\n",
    "\n",
    "    tmp_ = \"\"\n",
    "\n",
    "    for i in range(len(input_number)):\n",
    "        tmp_char = input_number[i]\n",
    "    \n",
    "        if tmp_char.isdigit():\n",
    "            tmp_ = tmp_ + tmp_char\n",
    "    \n",
    "    input_number = tmp_\n",
    "\n",
    "    return input_number\n",
    "\n",
    "number_to_call = input(\"Please input a phone number:\")\n",
    "\n",
    "number_to_call = phone_call(number_to_call)\n",
    "print(number_to_call)\n",
    "if len(number_to_call) == 10:\n",
    "    print(\"Calling...\", number_to_call)\n",
    "else:\n",
    "    print(\"The number you are trying to reach is not in service. Please check the number and dial again!\")"
   ]
  },
  {
   "cell_type": "markdown",
   "metadata": {},
   "source": [
    "### Chapter 3.5.1.1 - Main parts of the function definition above:\n",
    "\n",
    "1) **```def```** - this tells Python that what follows is a function definition\n",
    "2) **```phone_call```** - after one space, the text that follows is the function name. This is much like defining a variable.\n",
    "3) **```(input_number):```** - immediately after the function name, you see parentheses with text inside it. These are called *parameters*. \n",
    "4) *parameters* - these are variables that are *only* available within the function, but are required for the function to run properly. You can have no arguments ( ```funct_name()``` ) or many arguments that are separated by commas ( ```funct_name(a, b, c, d, e, f)```).\n",
    "5) *indented code* - the indented code places code within the *scope* of the function. In other words, all indented code \"belongs\" to the function.\n",
    "6) **```return input_number```** - also indented, so it belongs to the function. This line returns the result of the function back to where it was \"called\". In this case, it returns the value associated with the function variable ```input_number```.\n",
    "7) **```number_to_call = phone_call(number_to_call)```** - the right side of this equation is an example of \"calling\" a function. The function call requires you to correctly name a defined function ( ```phone_call```) and to provide it with the required *parameters*. In this case, ```number_to_call``` is used to set the value of the *parameter* outside of the function. Inside the function, ```input_number``` is set to the value of ```number_to_call``` immediately when the function is called. For all indented code, ```input_number``` is now available to use just like if you explicitly defined it that way (e.g., ```input_number = number_to_call```). The left side of the equation is set equal to the result from ```return input_number```"
   ]
  },
  {
   "cell_type": "markdown",
   "metadata": {},
   "source": [
    "Here is another case. Say that we want to convert temperatures in Fahrenheit to Kelvin. The equation is very basic, so it should not be a problem, right?"
   ]
  },
  {
   "cell_type": "code",
   "execution_count": 10,
   "metadata": {},
   "outputs": [
    {
     "name": "stdin",
     "output_type": "stream",
     "text": [
      "Give me multiple temperatures in F with commas between them 50, 60, 70, 80\n"
     ]
    },
    {
     "name": "stdout",
     "output_type": "stream",
     "text": [
      "50.00 F = 283.15 K\n",
      "60.00 F = 288.71 K\n",
      "70.00 F = 294.26 K\n",
      "80.00 F = 299.82 K\n"
     ]
    }
   ],
   "source": [
    "temperatures_in_f = input(\"Give me multiple temperatures in F with commas between them\").split(\",\")\n",
    "\n",
    "for temperatureF in temperatures_in_f:\n",
    "\n",
    "    # cast from input string to float\n",
    "    temperatureF = float(temperatureF)\n",
    "\n",
    "    temperatureK = (temperatureF + 459.67) * (5/9)\n",
    "\n",
    "    print(f\"{temperatureF:.2f} F = {temperatureK:.2f} K\")"
   ]
  },
  {
   "cell_type": "markdown",
   "metadata": {},
   "source": [
    "**You might ask, why should we use functions if we can just make a loop in many cases?**\n",
    "\n",
    "1) What if you need to do that temperature conversion in multiple places?\n",
    "2) You may want to test to assure that just your temperature conversion is working as expected. This requires functions to test.\n",
    "3) Functions are a great way to generalize the code we create so it works in many different situations.\n",
    "4) Functions can be used to limit the potential inputs to make the code more efficient and readable.\n",
    "\n",
    "We can write a function that replaces some of the code above. This immediately makes the code look more organized."
   ]
  },
  {
   "cell_type": "code",
   "execution_count": 11,
   "metadata": {},
   "outputs": [
    {
     "name": "stdout",
     "output_type": "stream",
     "text": [
      "56.78 F is 286.92 K\n"
     ]
    }
   ],
   "source": [
    "def F_to_K(F):\n",
    "\n",
    "    K = (F + 459.67) * (5/9)\n",
    "\n",
    "    return K\n",
    "\n",
    "temperatureF = 56.78\n",
    "temperatureK = F_to_K(temperatureF)\n",
    "\n",
    "print(f\"{temperatureF:.2f} F is {temperatureK:.2f} K\")"
   ]
  },
  {
   "cell_type": "markdown",
   "metadata": {},
   "source": [
    "**Main parts of the function definition above**:\n",
    "1) **def** - this tells Python that what follows is a function definition\n",
    "2) **F_to_K** - after one space, the text that follows is the function name. This is much like defining a variable (e.g., F_to_K = 1)\n",
    "3) **(F):** - immediately after the function name, you see parentheses with text inside it. These are called *arguments*. \n",
    "4) *arguments* - these are variables that are *only* available within the function, but are required for the function to run properly. You can have no arguments ( ```funct_name()``` ) or many arguments that are separated by commas ( ```funct_name(a, b, c, d, e, f)```).\n",
    "5) *indented code* - the indented code places code within the *scope* of the function. In other words, all indented code \"belongs\" to the function.\n",
    "6) **return K** - also indented, so it belongs to the function. This line returns the result of the function back to where it was \"called\". In this case, it returns the variable \"K\" and the value to which it was set.\n",
    "7) **temperatureK = F_to_K(temperatureF)** - the right side of this equation is an example of \"calling\" a function. The function call requires you to correctly name a defined function ( ```F_to_K```) and to provide it with the required *argument or arguments* (also called parameter or parameters). In this case, ```temperatureF``` is used to set the value of the *argument* variable named F. In this case, F is now set to 56.78 immediately when the function is called. For all indented code, ```F = 56.78``` is now available to use just like if you explicitly defined it that way. The left side of the equation is set equal to the result from **return K**"
   ]
  },
  {
   "cell_type": "markdown",
   "metadata": {},
   "source": [
    "## Chapter 3.5.2 - Putting it all together\n",
    "\n",
    "We can use both functions and loops to convert many numbers in the exact same way.\n",
    "\n",
    "Run the following code. You will notice that the numbers are different every time due to the random number generator.\n",
    "\n",
    "This shows that this approach:\n",
    "\n",
    "1) can convert any float from F to K and then print it out.\n",
    "2) can do this with millions of numbers."
   ]
  },
  {
   "cell_type": "code",
   "execution_count": 12,
   "metadata": {},
   "outputs": [
    {
     "name": "stdout",
     "output_type": "stream",
     "text": [
      "0.00 F is 255.37 K\n",
      "5.00 F is 258.15 K\n",
      "10.00 F is 260.93 K\n",
      "15.00 F is 263.71 K\n",
      "20.00 F is 266.48 K\n",
      "25.00 F is 269.26 K\n",
      "30.00 F is 272.04 K\n",
      "35.00 F is 274.82 K\n",
      "40.00 F is 277.59 K\n",
      "45.00 F is 280.37 K\n",
      "50.00 F is 283.15 K\n",
      "55.00 F is 285.93 K\n",
      "60.00 F is 288.71 K\n",
      "65.00 F is 291.48 K\n",
      "70.00 F is 294.26 K\n",
      "75.00 F is 297.04 K\n",
      "80.00 F is 299.82 K\n",
      "85.00 F is 302.59 K\n",
      "90.00 F is 305.37 K\n",
      "95.00 F is 308.15 K\n",
      "100.00 F is 310.93 K\n"
     ]
    }
   ],
   "source": [
    "def F_to_K(F):\n",
    "\n",
    "    K = (temperatureF + 459.67) * (5/9)\n",
    "\n",
    "    return K\n",
    "\n",
    "# iterate through every 5th int between 0 and 100\n",
    "for temperatureF in range(0, 105, 5):\n",
    "\n",
    "    temperatureK = F_to_K(temperatureF)\n",
    "\n",
    "    print(f\"{temperatureF:.2f} F is {temperatureK:.2f} K\")"
   ]
  },
  {
   "cell_type": "markdown",
   "metadata": {},
   "source": [
    "## Chapter 3.5.3 - Application: Law of Large Numbers\n",
    "\n",
    "**[Inferential statistics](https://en.wikipedia.org/wiki/Statistical_inference)**\n",
    "\n",
    "One major assumption when using *inferential* statistical approaches is that a sample of observations can be used to make generalizations about the overall population of observations. For example, you might survey 10 students in EAE 493 and find that 8 are tired. You might then infer that 24 students (~80%) of the class is tired. This is useful because we may not be able to survey everyone in the class in a reasonable amount of time.\n",
    "\n",
    "**Inferential statistics in climatology**\n",
    "\n",
    "This same concept applies to climatology. When we record an observation of high temperatures on one sunny August day, we might start to make inferences about all August days. If we then make an observation of a high temperature on a rainy day, our inferential model of August days based on one sunny day observation might seem wildly inaccurate:\n",
    "\n",
    "| August date | High Temperature | Inference                   | Error |\n",
    "| ----------- | ---------------- | ----------------------------| ----- |\n",
    "| 08/01/1991  | 85               | August days have highs of 85|   -   |\n",
    "| 08/02/1991  | 65               | August days have highs of 65|  20 F |\n",
    "\n",
    "If we continue to seesaw between what happened just on the previous day, our statistical model will be hopelessly chasing a moving target:\n",
    "\n",
    "| August date | High Temperature | Inference                   | Error |\n",
    "| ----------- | ---------------- | ----------------------------| ----- |\n",
    "| 08/01/1991  | 85               |             -               |   -   |\n",
    "| 08/02/1991  | 65               | August days have highs of 85|  20 F |\n",
    "| 08/03/1991  | 75               | August days have highs of 65|  10 F |\n",
    "\n",
    "However, if we use the *mean* of August days, we can start to create a more useful model that blends what we know about multiple August days:\n",
    "\n",
    "| August date | High Temperature | Inference (mean)            | Error |\n",
    "| ----------- | ---------------- | ----------------------------| ----- |\n",
    "| 08/01/1991  | 85               |             -               |   -   |\n",
    "| 08/02/1991  | 65               | August days have highs of 85|  20 F |\n",
    "| 08/03/1991  | 75               | August days have highs of 75|  0  F |\n",
    "\n",
    "Of course, nature does not always play nicely:\n",
    "\n",
    "| August date | High Temperature | Inference (mean)            | Error |\n",
    "| ----------- | ---------------- | ----------------------------| ----- |\n",
    "| 08/01/1991  | 85               |             -               |   -   |\n",
    "| 08/02/1991  | 65               | August days have highs of 85|  20 F |\n",
    "| 08/03/1991  | 75               | August days have highs of 75|  0  F |\n",
    "| 08/04/1991  | 100              | August days have highs of 75|  25  F|\n",
    "\n",
    "**The importance of climate science (domain) knowledge**\n",
    "\n",
    "We can use our knowledge of climate to know that August temperatures have a tendency to be relatively warm. We can draw this conclusion in two ways:\n",
    "1) Experience -- we know the location well and have expectations of August high temperatures.\n",
    "2) Energy Balance Models -- we understand the physics behind balancing insolation and terrestrial radiation and how relatively high solar angles in August would result in a higher equilibrium temperature during August afternoons.\n",
    "\n",
    "**Temperature distributions**\n",
    "\n",
    "We would not expect a high of 32, nor would we expect a high of 150. This suggests that the *distribution* of temperatures is not random. Furthermore, even high temperatures within the range of what is possible (e.g., 50 or 110) intuitively seem less likely to occur than other high temperatures (e.g., 80). This suggests that the distribution of August temperatures has a *central tendency* with *outliers* both above and below. In other words, the *mean* of all observations might have a relatively high probability of being the actual observation. But how do you determine these values?\n",
    "\n",
    "**Large numbers**\n",
    "\n",
    "Going back to the survey on tired students in class, we intuitively know that if we ask too few people if they are tired, this may not be representative of the entire class. Student Alex might always be tired. So if he is the only survey respondant, we might assume 100% of the class is tired. In other words, *sample size* matters, and a sufficient amount of observations is needed to produce a useful inferential model.\n",
    "\n",
    "**Climate Normals**\n",
    "\n",
    "We generally report long-term averages of various weather observations based on 30 years of data. We can simulate *why* this is important in the following code.\n",
    "\n",
    "First, we can define a random number generator that can produce a distribution of values (e.g., temperatures). Modify the **parameters** of the ```get_random_floats``` call to get different numbers."
   ]
  },
  {
   "cell_type": "code",
   "execution_count": 13,
   "metadata": {},
   "outputs": [
    {
     "name": "stdout",
     "output_type": "stream",
     "text": [
      "[77.13645427983894, 103.74044681482222, 77.44062059532749, 74.64162209103554, 73.43229756637668]\n"
     ]
    }
   ],
   "source": [
    "import random\n",
    "\n",
    "def get_random_floats(mean_value, std_value, count):\n",
    "    \n",
    "    random_numbers = []\n",
    "\n",
    "    for i in range(count):\n",
    "    \n",
    "        random_float = random.gauss(mu=mean_value, sigma=std_value)\n",
    "\n",
    "        random_numbers.append(random_float)\n",
    "\n",
    "    return random_numbers\n",
    "\n",
    "random_floats = get_random_floats(80, 10, 5)\n",
    "\n",
    "print(random_floats)"
   ]
  },
  {
   "cell_type": "markdown",
   "metadata": {},
   "source": [
    "Next, we can create a function that calculates the mean of a list. Change the values in the list to get a different mean."
   ]
  },
  {
   "cell_type": "code",
   "execution_count": 14,
   "metadata": {},
   "outputs": [
    {
     "name": "stdout",
     "output_type": "stream",
     "text": [
      "mean of [75, 85, 95, 105] is 90.0\n"
     ]
    }
   ],
   "source": [
    "def get_mean_of_list(list_name):\n",
    "    return sum(list_name) / len(list_name)\n",
    "   \n",
    "a = [75, 85, 95, 105]\n",
    "\n",
    "a_mean = get_mean_of_list(a)\n",
    "\n",
    "print(f\"mean of {a} is {a_mean}\")"
   ]
  },
  {
   "cell_type": "markdown",
   "metadata": {},
   "source": [
    "Finally, we can use both functions to simulate how a different count of years used to calculate normals could influence the accuracy of that statistic.\n",
    "\n",
    "If the actual normal temperature in August is 80 F, and the standard deviation of August temperatures is 6 F, we can simulate potential August temperatures you might see in 1 year, 5 years, 10 years, or 30 years:"
   ]
  },
  {
   "cell_type": "code",
   "execution_count": 15,
   "metadata": {},
   "outputs": [
    {
     "name": "stdout",
     "output_type": "stream",
     "text": [
      "Mean of normal distribution is: 80 st.d. is: 6\n",
      "The mean temperature of the list is: 81.90 for 1 August mean temperatures\n",
      "The mean temperature of the list is: 83.19 for 5 August mean temperatures\n",
      "The mean temperature of the list is: 81.74 for 10 August mean temperatures\n",
      "The mean temperature of the list is: 77.61 for 30 August mean temperatures\n"
     ]
    }
   ],
   "source": [
    "aug_climate_mean = 80\n",
    "std_of_aug_temperatures = 6\n",
    "\n",
    "print(\"Mean of normal distribution is:\", aug_climate_mean, \"st.d. is:\", std_of_aug_temperatures)\n",
    "\n",
    "for count_of_numbers in [1, 5, 10, 30]:\n",
    "\n",
    "    random_floats = get_random_floats(aug_climate_mean, std_of_aug_temperatures, count_of_numbers)\n",
    "\n",
    "    random_float_mean = get_mean_of_list(random_floats)\n",
    "\n",
    "    print(f\"The mean temperature of the list is: {random_float_mean:.2f} for {count_of_numbers:d} August mean temperatures\")"
   ]
  },
  {
   "cell_type": "markdown",
   "metadata": {},
   "source": [
    "**Experiment**\n",
    "\n",
    "1) Change ```std_of_aug_temperatures```. What do you notice about the results?\n",
    "2) Change ```aug_climate_mean```. What do you notice about the results?\n",
    "3) Add larger numbers to this list: ```for count_of_numbers in [1, 5, 10, 30]:```. Compare the results of small counts to large counts.\n",
    "\n",
    "**Normal Distributions**\n",
    "\n",
    "The above example randomly generates numbers based on defining a *known* distribution around a mean defined by ```aug_climate_mean``` and ```std_of_aug_temperatures```. This simulates a situation where we know the actual distribution of August temperatures. In reality, we are just slowly building statistical confidence with each year of August observations. Our job will never be complete! In fact, *nonstationarity* may make what we know about August temperatures irrelevant as we experience the influence of climate change on those values.\n",
    "\n",
    "The following plot visualizes the above example. Modify the standard deviation and mean to see how this changes the plot:\n",
    "\n",
    "NOTE: Make sure you have run all of the code examples in **Chapter 3.5.3** before you run this code block."
   ]
  },
  {
   "cell_type": "code",
   "execution_count": 16,
   "metadata": {},
   "outputs": [
    {
     "data": {
      "text/plain": [
       "<matplotlib.legend.Legend at 0x70408ce0b770>"
      ]
     },
     "execution_count": 16,
     "metadata": {},
     "output_type": "execute_result"
    },
    {
     "data": {
      "image/png": "[encoded data removed]",
      "text/plain": [
       "<Figure size 640x480 with 1 Axes>"
      ]
     },
     "metadata": {},
     "output_type": "display_data"
    }
   ],
   "source": [
    "import matplotlib.pyplot as plt\n",
    "%matplotlib inline\n",
    "\n",
    "aug_climate_mean = 80\n",
    "std_of_aug_temperatures = 60\n",
    "observation_count_range = range(1, 500)\n",
    "\n",
    "plt.plot(observation_count_range, [aug_climate_mean]*len(observation_count_range), 'k--', label='actual mean', zorder=10)\n",
    "plt.ylabel(\"High Temperature (F)\")\n",
    "plt.xlabel(\"Count of Observations (Years)\")\n",
    "\n",
    "mean_result = []\n",
    "\n",
    "for count_of_numbers in observation_count_range:\n",
    "\n",
    "    random_floats = get_random_floats(aug_climate_mean, std_of_aug_temperatures, count_of_numbers)\n",
    "\n",
    "    random_float_mean = get_mean_of_list(random_floats)\n",
    "\n",
    "    mean_result.append(random_float_mean)\n",
    "\n",
    "plt.plot(observation_count_range, mean_result, '-', label='sample mean')\n",
    "\n",
    "plt.legend()"
   ]
  },
  {
   "cell_type": "markdown",
   "metadata": {},
   "source": [
    "**Experiment**\n",
    "\n",
    "1) Change ```std_of_aug_temperatures```. What do you notice about the plot?\n",
    "2) Change ```aug_climate_mean```. What do you notice about the plot?\n",
    "3) Does adding more years help? At what point are there diminishing returns?"
   ]
  }
 ],
 "metadata": {
  "kernelspec": {
   "display_name": "Python 3 (ipykernel)",
   "language": "python",
   "name": "python3"
  },
  "language_info": {
   "codemirror_mode": {
    "name": "ipython",
    "version": 3
   },
   "file_extension": ".py",
   "mimetype": "text/x-python",
   "name": "python",
   "nbconvert_exporter": "python",
   "pygments_lexer": "ipython3",
   "version": "3.13.7"
  }
 },
 "nbformat": 4,
 "nbformat_minor": 4
}
