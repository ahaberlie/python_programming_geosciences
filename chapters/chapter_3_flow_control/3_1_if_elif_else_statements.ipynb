{
 "cells": [
  {
   "cell_type": "markdown",
   "id": "10381c1b-1ab4-463d-9d2e-c90a77c4f5be",
   "metadata": {
    "tags": []
   },
   "source": [
    "# Chapter 3.1 - if / elif / else statements\n",
    "\n",
    "## Chapter 3.1.1 - ```if``` statements\n",
    "\n",
    "The most basic ```if``` statements are used for conditional execution of python code using a single test that generates a ```bool```. If the ```bool``` is ```True``` the code that \"belongs\" to the ```if``` statement is executed. If the ```bool``` is ```False```, the code is ignored.\n",
    "\n",
    "The syntax is as follows:\n",
    "\n",
    "1. Add the keyword ```if``` to your code: ```if```\n",
    "2. Add a space and then a test that is within parentheses: ```if (test)```\n",
    "3. Add a ```:``` immediately after the test: ```if (test):```\n",
    "4. Press enter and add code that starts 4 spaces from the left margin:\n",
    "\n",
    "```\n",
    "if (test):\n",
    "    code\n",
    "```\n",
    "\n",
    "In this example, ```code``` will only run if ```test``` is True.\n",
    "\n",
    "This addition changes our program type from sequential to conditional. In other words, not every line of code will be executed. What lines are or are not executed are based on the requirements of your program and the logic assocated with those requirements.\n",
    "\n",
    "For example, say you have a version of Blackboard that sends you a message saying \"Great job!\" whenever you get an assignment score above 90%.\n",
    "\n",
    "```\n",
    "score = 85\n",
    "\n",
    "print(\"Great job!\")\n",
    "```\n",
    "\n",
    "If you wrote a simple sequential program like the one above, there would be no way to control if the message is sent or not. This would result in some students who did not score a 90% to get the message.\n",
    "\n",
    "Instead, we want to conditionally execute lines of code using ```if``` statements.\n",
    "\n",
    "Back to the previous example, the requirement of the program is that \"Great job!\" is only sent when an assignment score exceeds 90%. This is the \"english\" version of the requirements. To convert this into a Python version, you need to translate what \"exceeds 90%\" means, and note that you should probably use a ```>``` operator. Once you figure this out, you need to determine what goes on the left of the operator and what goes on the right. Typically, we put the variable or value being \"tested\" on the left, and the value it is being tested against on the right:\n",
    "\n",
    "```score > 90```\n",
    "\n",
    "Recalling our discussion on ```bool```, the following examples would result in either True or False.\n",
    "\n",
    "1. ```False``` if score is 90 or less:\n",
    "\n",
    "```\n",
    "score = 85\n",
    "\n",
    "print(score > 90) #output is False, since 85 is not greater than 90\n",
    "```\n",
    "\n",
    "2. ```True``` if score is greater than 90:\n",
    "\n",
    "```\n",
    "score = 95\n",
    "\n",
    "print(score > 90) #output is True, since 95 is greater than 90\n",
    "```\n",
    "\n",
    "Next we need to add the test to the ```if``` syntax as defined above and add indented code below the ```if``` statement:\n",
    "\n",
    "```\n",
    "score = 95\n",
    "\n",
    "if (score > 90):\n",
    "    print(\"Great job!\")\n",
    "\n",
    "```\n",
    "\n",
    "Here is the code in action. Change ```score``` to print \"Great job!\":"
   ]
  },
  {
   "cell_type": "code",
   "execution_count": 1,
   "id": "9775889b-649e-4df9-8638-695e021a48b8",
   "metadata": {},
   "outputs": [],
   "source": [
    "score = 80\n",
    "\n",
    "if (score > 90):\n",
    "    print(\"Great job!\")"
   ]
  },
  {
   "cell_type": "markdown",
   "id": "cb35c678-cb2c-438a-9d19-47ada5e63c2f",
   "metadata": {},
   "source": [
    "Notice that **nothing happens** if the score is not greater than 90. This is because Python ignores any code under the ```if``` statement if the condition does not result in a ```bool``` equal to True.\n",
    "\n",
    "If we want to add code that always runs, we just add unindented code below or above the ```if``` statement:"
   ]
  },
  {
   "cell_type": "code",
   "execution_count": 2,
   "id": "38a3a2da-b359-4153-b12b-0b153a69873b",
   "metadata": {},
   "outputs": [
    {
     "name": "stdout",
     "output_type": "stream",
     "text": [
      "Your score was 95%\n",
      "Great job!\n",
      "That is all for now!\n"
     ]
    }
   ],
   "source": [
    "score = 95\n",
    "\n",
    "print(f\"Your score was {score}%\")\n",
    "\n",
    "if (score > 90):\n",
    "    print(\"Great job!\")\n",
    "    \n",
    "print(\"That is all for now!\")"
   ]
  },
  {
   "cell_type": "markdown",
   "id": "cd97b74b-894d-4ec9-a84e-56077a82112b",
   "metadata": {},
   "source": [
    "Notice that the variable definition and the two print statements both ran even if you changed ```score``` to something less than or equal to 90.\n",
    "\n",
    "This can become complicated if you change a variable within the ```if``` statement:"
   ]
  },
  {
   "cell_type": "code",
   "execution_count": 3,
   "id": "b9d8299c-e1a2-4ae3-b6b1-554107a135ee",
   "metadata": {},
   "outputs": [
    {
     "name": "stdout",
     "output_type": "stream",
     "text": [
      "Great job!\n",
      "Your score was 85%\n",
      "That is all for now!\n"
     ]
    }
   ],
   "source": [
    "score = 95\n",
    "\n",
    "if (score > 90):\n",
    "    print(\"Great job!\")\n",
    "    score = score - 10\n",
    "    \n",
    "print(f\"Your score was {score}%\")\n",
    "    \n",
    "print(\"That is all for now!\")"
   ]
  },
  {
   "cell_type": "markdown",
   "id": "4344abef-13e9-401a-9c29-eff4e62fa330",
   "metadata": {},
   "source": [
    "We can use ```print``` statements to follow what is happening to ```score```.\n",
    "\n",
    "We see that when score is greater than 90, ```score > 90``` is ```True```, so the indented code is executed. It is only after the indented code is executed that the score is set equal to itself minus 10. This has no influence on the ```if``` statement at that point."
   ]
  },
  {
   "cell_type": "code",
   "execution_count": 4,
   "id": "933f052e-ef3a-4b40-8ff1-191a788da5ab",
   "metadata": {},
   "outputs": [
    {
     "name": "stdout",
     "output_type": "stream",
     "text": [
      "Unindented Line before the if, score =  95\n",
      "Indented Line after the if, score =  95\n",
      "Great job!\n",
      "Indented Line after the Great job!, score =  95\n",
      "Indented Line after the score = score - 10, score =  85\n",
      "Unindented Line before your score was, score =  85\n",
      "Your score was 85%\n",
      "That is all for now!\n"
     ]
    }
   ],
   "source": [
    "score = 95\n",
    "print(\"Unindented Line before the if, score = \", score)\n",
    "if (score > 90):\n",
    "    print(\"Indented Line after the if, score = \", score)\n",
    "    print(\"Great job!\")\n",
    "    print(\"Indented Line after the Great job!, score = \", score)\n",
    "    score = score - 10\n",
    "    print(\"Indented Line after the score = score - 10, score = \", score)\n",
    "print(\"Unindented Line before your score was, score = \", score)   \n",
    "print(f\"Your score was {score}%\")\n",
    "    \n",
    "print(\"That is all for now!\")"
   ]
  },
  {
   "cell_type": "markdown",
   "id": "42c19dae-130f-4b32-a2ca-be410c3646d7",
   "metadata": {},
   "source": [
    "## Chapter 3.1.2 - ```if else``` statements\n",
    "\n",
    "There are some cases where you need one of two options to be executed, but not both. \n",
    "\n",
    "This is called *mutually exclusive* code because the two options cannot both occur while the program and its variables are in a particular state. Going back to the example above, perhaps you want to send a supportive message like \"Get 'em next time!\" to those who do not score better than a 90.\n",
    "\n",
    "In other words, you want to send *either* \"Great job!\" or \"Get 'em next time!\", but not *both*. What determines what message is sent is the test ```score > 90```.\n",
    "\n",
    "To do this, we simply add an ```else``` keyword that has the same \"indentation level\" as the ```if``` keyword. Under the ```else```, you write code that will be executed if the test results in a ```bool``` equal to ```False```. We can refer to the code belonging to the ```if``` (indented under the ```if```) as the \"```if``` code block\", and the code belonging to the ```else``` as the \"```else``` code block\".\n",
    "\n",
    "Change ```score``` to see both messages."
   ]
  },
  {
   "cell_type": "code",
   "execution_count": 5,
   "id": "72d75d4b-d0bd-4783-b07b-14b6ef03571f",
   "metadata": {},
   "outputs": [
    {
     "name": "stdout",
     "output_type": "stream",
     "text": [
      "Your score was 85%\n",
      "Get 'em next time!\n",
      "That is all for now!\n"
     ]
    }
   ],
   "source": [
    "score = 85\n",
    "\n",
    "print(f\"Your score was {score}%\")\n",
    "\n",
    "if (score > 90):\n",
    "    print(\"Great job!\")\n",
    "else:\n",
    "    print(\"Get 'em next time!\")\n",
    "    \n",
    "print(\"That is all for now!\")    "
   ]
  },
  {
   "cell_type": "markdown",
   "id": "9ae31b13-6f14-46ae-b400-e71d2704f238",
   "metadata": {},
   "source": [
    "## Chapter 3.1.3 - ```if elif else``` statements\n",
    "\n",
    "You can extend this pattern by including as many ```elif``` keywords between the ```if``` code block and the ```else``` code block. The elif code block test should be more permissive (easier to get a ```True```) than the ```if``` code block test or the test should be *mutually exclusive*.\n",
    "\n",
    "The rules of the ```if elif else``` statement are the same as the ```if else```, except the only code block that will be executed is the **first** time a test results in ```True```. If none of the tests result in ```True```, the ```else``` code block is executed.\n",
    "\n",
    "What if we wanted to send \"Great job!\" to those with above 90, and \"Good job!\" to those between 81 and 90 (including 90)? \n",
    "\n",
    "You can add a test for ```score > 80```. You might think that this would not work, because a score of 95, for example, would be ```True``` for ```score > 90``` and ```score > 80```. However, as stated above, the first ```True``` will result in none of the other code blocks being executed.\n",
    "\n",
    "Therefore, we know that ```elif (score > 80)``` will only be considered if ```(score > 90)``` was ```False```.\n",
    "\n",
    "Try to change ```score``` below to get every message."
   ]
  },
  {
   "cell_type": "code",
   "execution_count": 6,
   "id": "cd0374c0-0d5b-4414-8fb3-739e3f1f01f3",
   "metadata": {},
   "outputs": [
    {
     "name": "stdout",
     "output_type": "stream",
     "text": [
      "Your score was 85%\n",
      "Good job!\n",
      "That is all for now!\n"
     ]
    }
   ],
   "source": [
    "score = 85\n",
    "\n",
    "print(f\"Your score was {score}%\")\n",
    "\n",
    "if (score > 90):\n",
    "    print(\"Great job!\")\n",
    "elif (score > 80):\n",
    "    print(\"Good job!\")\n",
    "elif (score > 70):\n",
    "    print(\"Average job!\")\n",
    "elif (score > 60):\n",
    "    print(\"Passable job!\")\n",
    "else:\n",
    "    print(\"Get 'em next time!\")\n",
    "    \n",
    "print(\"That is all for now!\")  "
   ]
  },
  {
   "cell_type": "markdown",
   "id": "9e6f767b-a2a3-45dc-a48f-f42d55242e32",
   "metadata": {},
   "source": [
    "## 3.1.4 - Indentation and whitespace\n",
    "\n",
    "If you are new to programming, this might not be as hard to learn as for those who come from C++, Java, etc.\n",
    "\n",
    "Python uses whitespace and indentation to determine what code \"belongs\" to what control structure (example, an ```if elif else``` statement).\n",
    "\n",
    "The dashes are just demonstrating \"whitespace\" in the example below:\n",
    "\n",
    "```\n",
    "if (test):\n",
    "----start code here\n",
    "----if it belongs to\n",
    "----this if statement\n",
    "```\n",
    "\n",
    "The actual Python code would look something like this:\n",
    "\n",
    "```\n",
    "score = 85\n",
    "\n",
    "if (score >= 90):\n",
    "    grade = \"A\"\n",
    "elif (score >= 80):\n",
    "    grade = \"B\"\n",
    "elif (score >= 70):\n",
    "    grade = \"C\"\n",
    "else:\n",
    "    grade = \"D\"\n",
    "    \n",
    "print(\"Grade =\", grade)\n",
    "\n",
    "```\n",
    "\n",
    "This is in contrast to C++, Java, and even javascript that use brackets to determine to what control structure the code block belongs:\n",
    "\n",
    "Java code:\n",
    "```\n",
    "int score = 85;\n",
    "String grade;\n",
    "\n",
    "if (score >= 90) {\n",
    "grade = \"A\";\n",
    "} else if (score >= 80) {\n",
    "grade = \"B\";\n",
    "} else if (score >= 70) {\n",
    "grade = \"C\";\n",
    "} else {\n",
    "grade = \"D\";\n",
    "}\n",
    "\n",
    "System.out.println(\"Grade = \" + grade);\n",
    "```\n",
    "\n",
    "How you can get it wrong.\n",
    "\n",
    "### ```if``` statement errors\n",
    "\n",
    "**Case 1**\n",
    "\n",
    "Since indentation is so important, it is crucial that you pay attention to exactly how much indentation you give your code blocks.\n",
    "\n",
    "For example, the following results in an error in Python, but would be perfectly fine in Java as long as it is within the brackets:"
   ]
  },
  {
   "cell_type": "code",
   "execution_count": 8,
   "id": "c66c3c09-d729-4166-9d3a-85ffd712a859",
   "metadata": {},
   "outputs": [
    {
     "ename": "IndentationError",
     "evalue": "unindent does not match any outer indentation level (<string>, line 5)",
     "output_type": "error",
     "traceback": [
      "  \u001b[36mFile \u001b[39m\u001b[32m<string>:5\u001b[39m\n\u001b[31m    \u001b[39m\u001b[31mprint(\"Good job!\")\u001b[39m\n                      ^\n\u001b[31mIndentationError\u001b[39m\u001b[31m:\u001b[39m unindent does not match any outer indentation level\n"
     ]
    }
   ],
   "source": [
    "score = 95\n",
    "\n",
    "if (score >= 90):\n",
    "    print(\"A\")\n",
    "   print(\"Good job!\")"
   ]
  },
  {
   "cell_type": "markdown",
   "id": "6e870b27-17c8-4023-983c-22adbeab8147",
   "metadata": {},
   "source": [
    "**Case 2**\n",
    "\n",
    "Another common error is to forget the \":\" after the test. This might be the first thing you would want to check if you have an error in your ```if``` statements:"
   ]
  },
  {
   "cell_type": "code",
   "execution_count": 9,
   "id": "70c754de-badf-430c-a64b-7a31db72e37f",
   "metadata": {},
   "outputs": [
    {
     "ename": "SyntaxError",
     "evalue": "expected ':' (3626601464.py, line 3)",
     "output_type": "error",
     "traceback": [
      "  \u001b[36mCell\u001b[39m\u001b[36m \u001b[39m\u001b[32mIn[9]\u001b[39m\u001b[32m, line 3\u001b[39m\n\u001b[31m    \u001b[39m\u001b[31mif (score >= 90) # you forgot the \":\"\u001b[39m\n                     ^\n\u001b[31mSyntaxError\u001b[39m\u001b[31m:\u001b[39m expected ':'\n"
     ]
    }
   ],
   "source": [
    "score = 95\n",
    "\n",
    "if (score >= 90) # you forgot the \":\"\n",
    "    print(\"A\")\n",
    "    print(\"Good job!\")"
   ]
  },
  {
   "cell_type": "markdown",
   "id": "752fab2e-f9fb-456b-ae1b-ce1db04f6c2c",
   "metadata": {},
   "source": [
    "**Case 3**\n",
    "\n",
    "You can also write code that is not \"incorrect\" from a syntax perspective, but it is incorrect from a logical perspective.\n",
    "\n",
    "Say you wanted to only write \"Good job!\" if the score is better than or equal to 90.\n",
    "\n",
    "If you do not get the indentation correct, Python will treat the code as part of the broader program and not a part of the ```if``` statement:"
   ]
  },
  {
   "cell_type": "code",
   "execution_count": 10,
   "id": "af5d24fb-e86b-4f2e-87e9-129b0e6cfb8b",
   "metadata": {},
   "outputs": [
    {
     "name": "stdout",
     "output_type": "stream",
     "text": [
      "A\n",
      "Good job!\n"
     ]
    }
   ],
   "source": [
    "score = 95\n",
    "\n",
    "if (score >= 90):\n",
    "    print(\"A\")\n",
    "print(\"Good job!\")"
   ]
  },
  {
   "cell_type": "markdown",
   "id": "80b529d1-442c-4931-919a-38bf01ca2447",
   "metadata": {},
   "source": [
    "### ```if else``` statement errors\n",
    "\n",
    "**Case 4**\n",
    "\n",
    "You must have a code block for both the ```if``` and the ```else```:"
   ]
  },
  {
   "cell_type": "code",
   "execution_count": 11,
   "id": "d6150a9a-ffda-442e-ae34-b96cafc22271",
   "metadata": {},
   "outputs": [
    {
     "ename": "SyntaxError",
     "evalue": "incomplete input (3494901743.py, line 7)",
     "output_type": "error",
     "traceback": [
      "  \u001b[36mCell\u001b[39m\u001b[36m \u001b[39m\u001b[32mIn[11]\u001b[39m\u001b[32m, line 7\u001b[39m\n\u001b[31m    \u001b[39m\n    ^\n\u001b[31mSyntaxError\u001b[39m\u001b[31m:\u001b[39m incomplete input\n"
     ]
    }
   ],
   "source": [
    "score = 95\n",
    "\n",
    "if (score >= 90):\n",
    "    print(\"A\")\n",
    "    print(\"Good job!\")\n",
    "else:\n",
    "    "
   ]
  },
  {
   "cell_type": "markdown",
   "id": "d8a9c3b5-829d-4cb3-ba64-ee0f99cea6ff",
   "metadata": {},
   "source": [
    "If you want to debug your ```if``` code, you can temporarily use a ```print``` statement or the ```pass``` statement, but this is only temporary:"
   ]
  },
  {
   "cell_type": "code",
   "execution_count": 12,
   "id": "8538e97d-8df9-4b19-b30c-c702945d1f78",
   "metadata": {},
   "outputs": [
    {
     "name": "stdout",
     "output_type": "stream",
     "text": [
      "A\n",
      "Good job!\n"
     ]
    }
   ],
   "source": [
    "score = 95\n",
    "\n",
    "if (score >= 90):\n",
    "    print(\"A\")\n",
    "    print(\"Good job!\")\n",
    "else:\n",
    "    pass"
   ]
  },
  {
   "cell_type": "markdown",
   "id": "6f78bb01-8832-4766-9d8e-9f62f85e307e",
   "metadata": {},
   "source": [
    "**Case 5**\n",
    "\n",
    "You cannot have a \"test\" for the ```else``` block:"
   ]
  },
  {
   "cell_type": "code",
   "execution_count": 13,
   "id": "fb6c4ea8-5c3d-4b39-b7c7-71770ce6ce94",
   "metadata": {},
   "outputs": [
    {
     "ename": "SyntaxError",
     "evalue": "expected ':' (2373789688.py, line 6)",
     "output_type": "error",
     "traceback": [
      "  \u001b[36mCell\u001b[39m\u001b[36m \u001b[39m\u001b[32mIn[13]\u001b[39m\u001b[32m, line 6\u001b[39m\n\u001b[31m    \u001b[39m\u001b[31melse (score < 90):\u001b[39m\n         ^\n\u001b[31mSyntaxError\u001b[39m\u001b[31m:\u001b[39m expected ':'\n"
     ]
    }
   ],
   "source": [
    "score = 85\n",
    "\n",
    "if (score >= 90):\n",
    "    print(\"A\")\n",
    "    print(\"Good job!\")\n",
    "else (score < 90):\n",
    "    print(\"Try again next time!\")"
   ]
  },
  {
   "cell_type": "markdown",
   "id": "7455b237-4800-4ca0-8753-f8ea17de3219",
   "metadata": {},
   "source": [
    "### ```if / elif / else``` statement errors\n",
    "\n",
    "**Case 6**\n",
    "\n",
    "You must have a test for all ```if``` and ```elif``` blocks:"
   ]
  },
  {
   "cell_type": "code",
   "execution_count": 14,
   "id": "5c83bd4f-1be0-413f-8008-5282de38cf42",
   "metadata": {},
   "outputs": [
    {
     "ename": "SyntaxError",
     "evalue": "invalid syntax (3974383923.py, line 9)",
     "output_type": "error",
     "traceback": [
      "  \u001b[36mCell\u001b[39m\u001b[36m \u001b[39m\u001b[32mIn[14]\u001b[39m\u001b[32m, line 9\u001b[39m\n\u001b[31m    \u001b[39m\u001b[31melif:\u001b[39m\n        ^\n\u001b[31mSyntaxError\u001b[39m\u001b[31m:\u001b[39m invalid syntax\n"
     ]
    }
   ],
   "source": [
    "score = 85\n",
    "\n",
    "if (score >= 90):\n",
    "    print(\"A\")\n",
    "    print(\"Good job!\")\n",
    "elif (score >= 80):\n",
    "    print(\"B\")\n",
    "    print(\"Not bad!\")\n",
    "elif:\n",
    "    print(\"C\")\n",
    "    print(\"Pick it up!\")\n",
    "else:\n",
    "    print(\"Try again next time!\")"
   ]
  },
  {
   "cell_type": "markdown",
   "id": "6923d9c8-1a14-409b-a520-10e966c942a3",
   "metadata": {},
   "source": [
    "Although it will not give you an error, you should end ```if / elif / else``` statements with an ```else``` statement. \n",
    "\n",
    "This is because you may miss cases that are not covered by the ```if``` and ```elif``` blocks:"
   ]
  },
  {
   "cell_type": "code",
   "execution_count": 15,
   "id": "852277d6-e017-4efb-8754-c8beaf0d447e",
   "metadata": {},
   "outputs": [],
   "source": [
    "score = 55\n",
    "\n",
    "if (score >= 90):\n",
    "    print(\"A\")\n",
    "    print(\"Good job!\")\n",
    "elif (score >= 80):\n",
    "    print(\"B\")\n",
    "    print(\"Not bad!\")\n",
    "elif (score >= 70):\n",
    "    print(\"C\")\n",
    "    print(\"Pick it up!\")"
   ]
  },
  {
   "cell_type": "markdown",
   "id": "54866248-1662-4eba-b20a-8a9652ba1a16",
   "metadata": {},
   "source": [
    "## Chapter 3.1.5 - Practice\n",
    "\n",
    "1. Create an if/else statement to test if a score is greater than 60. Add an appropriate message."
   ]
  },
  {
   "cell_type": "code",
   "execution_count": null,
   "id": "64e3f825-9e04-4aae-8eeb-4a16ab677525",
   "metadata": {},
   "outputs": [],
   "source": []
  },
  {
   "cell_type": "markdown",
   "id": "52176812-bb76-4852-84be-901164d4a346",
   "metadata": {},
   "source": [
    "2. Create an if/else statement to test if a score is less than 60. Add an appropriate message."
   ]
  },
  {
   "cell_type": "code",
   "execution_count": null,
   "id": "90eb2e7a-9ce8-409d-9d52-263fde111598",
   "metadata": {},
   "outputs": [],
   "source": []
  },
  {
   "cell_type": "markdown",
   "id": "3e7c50a9-be06-40aa-8754-c4ff99df1c92",
   "metadata": {},
   "source": [
    "3. Create an if/else statement to test if a score is **greater than or equal to** 60. Add an appropriate message."
   ]
  },
  {
   "cell_type": "code",
   "execution_count": null,
   "id": "b2a51526-0a8f-4d6d-af86-000d1acaa464",
   "metadata": {},
   "outputs": [],
   "source": []
  },
  {
   "cell_type": "markdown",
   "id": "988b891f-a849-49de-a38c-7dfb04f91185",
   "metadata": {},
   "source": [
    "4. Create an if/else statement to test if a score is **less than or equal to** 60. Add an appropriate message."
   ]
  },
  {
   "cell_type": "code",
   "execution_count": null,
   "id": "550ed4db-bcab-449b-bbbd-516537e5bd97",
   "metadata": {},
   "outputs": [],
   "source": []
  },
  {
   "cell_type": "markdown",
   "id": "62eac025-704c-47f5-970d-4c39b378d6d4",
   "metadata": {},
   "source": [
    "5. Create an if/elif/else statement to meet the following criteria:\n",
    "\n",
    "Water will boil into a gas at 100 C and freeze into a solid at 0 C, and will be liquid between those values. Write code blocks that say \"Solid\", \"Liquid\", or \"Gas\" based on the variable ```temp```."
   ]
  },
  {
   "cell_type": "code",
   "execution_count": null,
   "id": "6b3d8d09-4572-41c9-9765-24ba753a1e80",
   "metadata": {},
   "outputs": [],
   "source": []
  },
  {
   "cell_type": "markdown",
   "id": "db400424-6ff4-4da4-9936-92e6eca57003",
   "metadata": {},
   "source": [
    "5b. Provide an example of each possibility by changing the variable 'temp'"
   ]
  },
  {
   "cell_type": "code",
   "execution_count": null,
   "id": "ca6f6d6e-08bd-4b09-8ef1-5d6a5caf4dec",
   "metadata": {},
   "outputs": [],
   "source": []
  },
  {
   "cell_type": "markdown",
   "id": "8d5d9750-98b9-4cd9-8d54-23e26e93b76a",
   "metadata": {},
   "source": [
    "6. Fix all of the issues in the following ```if / elif / else``` using hints from the error messages. \n",
    "\n",
    "In this case, we want to print the following:\n",
    "\n",
    "1. \"SEVERE\" if ```CAPE``` is greater than or equal to 2000\n",
    "\n",
    "2. \"MARGINAL\" if ```CAPE``` is greater than or equal to 500\n",
    "\n",
    "3. \"NO RISK\" if ```CAPE``` is less than 500. \n",
    "\n",
    "You must use an ```else``` and ```elif``` code block. Test the blocks by changing the value of ```CAPE```.\n",
    "\n",
    "List the problems in the following markdown cell."
   ]
  },
  {
   "cell_type": "code",
   "execution_count": 16,
   "id": "1e0d9251-1986-439c-a4a8-73e4fce8d570",
   "metadata": {},
   "outputs": [
    {
     "ename": "SyntaxError",
     "evalue": "unterminated string literal (detected at line 6) (502522468.py, line 6)",
     "output_type": "error",
     "traceback": [
      "  \u001b[36mCell\u001b[39m\u001b[36m \u001b[39m\u001b[32mIn[16]\u001b[39m\u001b[32m, line 6\u001b[39m\n\u001b[31m    \u001b[39m\u001b[31mprint(\"MARGINAL\u001b[39m\n          ^\n\u001b[31mSyntaxError\u001b[39m\u001b[31m:\u001b[39m unterminated string literal (detected at line 6)\n"
     ]
    }
   ],
   "source": [
    "CAPE = 5000\n",
    "\n",
    "if (CAPE < 2000)\n",
    "    print(\"SEVERE\")\n",
    "elif (CAPE > 500):\n",
    "    print(\"MARGINAL\n",
    "elif (CAPE == 500):\n",
    "    print(\"NO RISK\")"
   ]
  },
  {
   "cell_type": "markdown",
   "id": "9ecc99ef-d5e0-458b-a250-f96a7afa95b5",
   "metadata": {},
   "source": [
    "**Problems with the following code**:\n",
    "\n",
    "```\n",
    "CAPE = 5000\n",
    "\n",
    "if (CAPE < 2000)\n",
    "    print(\"SEVERE\")\n",
    "elif (CAPE > 500):\n",
    "    print(\"MARGINAL\n",
    "elif (CAPE == 500):\n",
    "    print(\"NO RISK\")\n",
    "```\n",
    "          \n",
    "**Syntax problems (basic Python errors)**:\n",
    "          \n",
    "1. [error description here]\n",
    "\n",
    "2. [error description here]\n",
    "\n",
    "3. [error description here]\n",
    "          \n",
    "**Logic problems (Python does not do what is required)**:\n",
    "\n",
    "1. [logic problem description here]\n",
    "\n",
    "2. [logic problem description here]\n",
    "\n",
    "3. [logic problem description here]"
   ]
  }
 ],
 "metadata": {
  "kernelspec": {
   "display_name": "Python 3 (ipykernel)",
   "language": "python",
   "name": "python3"
  },
  "language_info": {
   "codemirror_mode": {
    "name": "ipython",
    "version": 3
   },
   "file_extension": ".py",
   "mimetype": "text/x-python",
   "name": "python",
   "nbconvert_exporter": "python",
   "pygments_lexer": "ipython3",
   "version": "3.12.11"
  }
 },
 "nbformat": 4,
 "nbformat_minor": 5
}
