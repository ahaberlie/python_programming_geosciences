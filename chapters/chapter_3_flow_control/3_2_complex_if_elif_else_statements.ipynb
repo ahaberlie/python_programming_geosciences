{
 "cells": [
  {
   "cell_type": "markdown",
   "id": "10381c1b-1ab4-463d-9d2e-c90a77c4f5be",
   "metadata": {
    "tags": []
   },
   "source": [
    "# Chapter 3.2 - Complex conditions\n",
    "\n",
    "## Chapter 3.2.1 - ```if``` statement review\n",
    "\n",
    "The most basic ```if``` statements syntax is as follows:\n",
    "\n",
    "```\n",
    "if (test):\n",
    "    code\n",
    "```\n",
    "\n",
    "In this example, ```code``` will only run if ```test``` is True.\n",
    "\n",
    "Much like the evaluation order for setting variables, ```test``` is the first thing that is processed in the ```if``` statement.\n",
    "\n",
    "The only requirement for ```test``` is that it is a single ```bool``` after it is evaluated. This is simple if only one test is used:\n",
    "\n",
    "```\n",
    "temperature = 50\n",
    "\n",
    "if (temperature > 95):\n",
    "    code\n",
    "```\n",
    "\n",
    "In this case, ```temperature > 95``` is recognized by Python as a test that needs to be changed into a ```bool```. Since 50 is not greater tha 95, the ```bool``` in this case is ```False```.\n",
    "\n",
    "## Chapter 3.2.2 - Complex conditions\n",
    "\n",
    "What if you needed multiple tests? For example, say that you need to make sure the temperature was between 0 C and 100 C:\n",
    "\n",
    "```\n",
    "temperature = 20\n",
    "\n",
    "condition1 = temperature >= 0\n",
    "condition2 = temperature <= 100\n",
    "```\n",
    "\n",
    "How can we use both condition1 and condition2? By using the following keywords:\n",
    "\n",
    "- ```and``` or ```&```: this combines two tests by requiring both tests to be ```True``` to result in ```True```\n",
    "- ```or``` or ```|```: this combines two tests by requiring at least one test to be ```True``` to result in ```True```\n",
    "\n",
    "Here is a basic example with two conditions ```a``` and ```b``` combined with ```and```:"
   ]
  },
  {
   "cell_type": "code",
   "execution_count": null,
   "id": "2155bed4-7df4-4cc3-845f-608ec962a5a9",
   "metadata": {},
   "outputs": [],
   "source": [
    "a = True\n",
    "b = False\n",
    "\n",
    "print(\"A =\", a)\n",
    "print(\"B =\", b)\n",
    "\n",
    "if a and b:\n",
    "    print(\"both a and b are True\")\n",
    "else:\n",
    "    print(\"a, b, or both a and b are False\")"
   ]
  },
  {
   "cell_type": "markdown",
   "id": "d3bb1c8c-b5ad-4856-811d-a93795f44dea",
   "metadata": {},
   "source": [
    "Here is the same example, except combined with ```or```"
   ]
  },
  {
   "cell_type": "code",
   "execution_count": null,
   "id": "ef69d3ea-5060-48fc-91c9-f72d751e8aa9",
   "metadata": {},
   "outputs": [],
   "source": [
    "a = True\n",
    "b = False\n",
    "\n",
    "print(\"A =\", a)\n",
    "print(\"B =\", b)\n",
    "\n",
    "if a or b:\n",
    "    print(\"Either a is True, b is True, or both a and b are True\")\n",
    "else:\n",
    "    print(\"both a and b are False\")"
   ]
  },
  {
   "cell_type": "markdown",
   "id": "b64de490-d50c-439c-ab6f-900b8aaa10a2",
   "metadata": {},
   "source": [
    "We can combine as many tests as we like, as long as you can simplify the tests down to a single ```bool```\n",
    "\n",
    "Try to change ```a```, ```b```, ```c```, and ```d``` to get a different result."
   ]
  },
  {
   "cell_type": "code",
   "execution_count": null,
   "id": "272b766d-0c5d-4cd0-9ae9-b4a455139234",
   "metadata": {},
   "outputs": [],
   "source": [
    "a = True\n",
    "b = False\n",
    "c = True\n",
    "d = False\n",
    "\n",
    "print(\"A =\", a)\n",
    "print(\"B =\", b)\n",
    "print(\"C =\", c)\n",
    "print(\"D =\", d)\n",
    "\n",
    "if (a and b) or (c and d):\n",
    "    print(\"either a and b are both True OR c and d are both True\")\n",
    "else:\n",
    "    print(\"either a and b are False AND either c or d are False\")"
   ]
  },
  {
   "cell_type": "markdown",
   "id": "3e92e629-f500-4aa2-93b8-15ffb02194f8",
   "metadata": {},
   "source": [
    "### Slowing down: Different ways to think about this:\n",
    "\n",
    "**1. Use ```bool``` math**:\n",
    "\n",
    "A very low-level way to look at this is to convert ```True``` to 1 and ```False``` to 0 in your head.\n",
    "\n",
    "If you have two conditions that are either ```True``` (1) or ```False``` (0), ```and``` will require the sum to be 2 to result in ```True```, whereas ```or``` will require the sum to be *at least* 1 to result in ```True```.\n",
    "\n",
    "This can be helpful for complex conditions:\n",
    "\n",
    "```\n",
    "a = True\n",
    "b = False\n",
    "c = True\n",
    "d = False\n",
    "e = True\n",
    "d = False\n",
    "```\n",
    "\n",
    "Do order of operation from left to right and based on the parentheses:\n",
    "\n",
    "Complex condition to solve -> ```(a or b) and (c or (d and e)) or (f)```\n",
    "\n",
    "1. ```(a or b)``` -> ```(True or False)``` -> (1 + 0) -> 1 (```True``` since 1 is >= 1 for OR) -> 1\n",
    "\n",
    "2. ```(d and e)``` -> ```(False and True)``` -> (0 + 1) -> 1 (```False``` 1 < 2 for AND) -> 0\n",
    "\n",
    "3. ```(c or (d and e))``` -> ```(True or (False))``` (1 + (0)) -> 1 (```True``` since 1 is >= 1 for OR) -> 1\n",
    "\n",
    "4. ```(a or b) and (c or (d and e))``` -> ```(True) and (True)``` -> (1) + (1)  -> 2 (```True``` since 2 >= 2 for AND)\n",
    "\n",
    "5. ```(a or b) and (c or (d and e)) or (f)``` -> ```(True) or (False)``` -> (1) + (0) -> 1 (```True``` since 1 >= 1 for OR)\n",
    "\n",
    "This will result in ```True```. How would you change the code below to result in ```False```?"
   ]
  },
  {
   "cell_type": "code",
   "execution_count": null,
   "id": "1646c401-0c1d-4d49-a8b2-7e7d23b93efb",
   "metadata": {},
   "outputs": [],
   "source": [
    "a = True\n",
    "b = False\n",
    "c = True\n",
    "d = False\n",
    "e = True\n",
    "f = False\n",
    "\n",
    "(a or b) and (c or (d and e)) or (f)"
   ]
  },
  {
   "cell_type": "markdown",
   "id": "9b75aedb-e2c4-4782-bd8d-c5be1f6d84fe",
   "metadata": {},
   "source": [
    "**2. Use \"truth tables\"**\n",
    "\n",
    "You can look at every possible combination of two ```bool``` by using truth tables. These tables simulate what would happen if one of the four possible combinations of ```and``` or ```or``` occurred:\n",
    "\n",
    "**```and```** truth table:\n",
    "\n",
    "|Condition 1|Condition2|```Condition 1 and Condition 2```|\n",
    "|----|-----|----|\n",
    "|```True```|```True```|```True```|\n",
    "|```True```|```False```|```False```|\n",
    "|```False```|```True```|```False```|\n",
    "|```False```|```False```|```False```|\n",
    "\n",
    "**```or```** truth table:\n",
    "\n",
    "|Condition 1|Condition2|```Condition 1 or Condition 2```|\n",
    "|----|-----|----|\n",
    "|```True```|```True```|```True```|\n",
    "|```True```|```False```|```True```|\n",
    "|```False```|```True```|```True```|\n",
    "|```False```|```False```|```False```|\n",
    "\n",
    "Example: if Condition 1 is ```False``` and Condition 2 is ```True```, we can interpret the truth tables as follows:\n",
    "\n",
    "**```and```** truth table:\n",
    "\n",
    "|Condition 1|Condition2|```Condition 1 and Condition 2```|Result|\n",
    "|----|-----|----|---|\n",
    "|```True```|```True```|```True```||\n",
    "|```False```|```False```|```False```||\n",
    "|**```True```**|**```True```**|**```False```**|&#10004;|\n",
    "|```False```|```False```|```False```||\n",
    "\n",
    "**```or```** truth table:\n",
    "\n",
    "|Condition 1|Condition2|```Condition 1 or Condition 2```|Result|\n",
    "|----|-----|----|---|\n",
    "|```True```|```True```|```True```||\n",
    "|```True```|```False```|```True```||\n",
    "|**```False```**|**```True```**|**```True```**|&#10004;|\n",
    "|```False```|```False```|```False```||\n",
    "\n",
    "Combining ```or``` and ```and``` to see all possible combinations for both cases, and specifically if ```a``` is ```False``` and ```b``` is ```True```:\n",
    "\n",
    "|Variable 1|Variable 2|Conditional Test 1 | Conditional Test 2 |Result|\n",
    "|-----|-|---------|------|---|\n",
    "|```a```|```b```|```a and b```|```a or b```||\n",
    "|```True```|```True```|```True```|```True```||\n",
    "|```True```|```False```|```False```|```True```||\n",
    "|**```False```**|**```True```**|**```False```**|**```True```**|&#10004;|\n",
    "|```False```|```False```|```False```|```False```|"
   ]
  },
  {
   "cell_type": "markdown",
   "id": "4cd6963b-0b45-4e05-a1fd-18f36ef1bec1",
   "metadata": {},
   "source": [
    "#### Try modifying the numbers below to see how it changes the results.\n",
    "\n",
    "What does the following code do \"in English\"?"
   ]
  },
  {
   "cell_type": "code",
   "execution_count": null,
   "id": "9775889b-649e-4df9-8638-695e021a48b8",
   "metadata": {},
   "outputs": [],
   "source": [
    "temperature = 0\n",
    "humidity = 100\n",
    "\n",
    "if (temperature <= 32) and (humidity == 100):\n",
    "    print(\"freezing fog\")\n",
    "elif (temperature >= 32) and (humidity == 100):\n",
    "    print(\"fog\")\n",
    "else:\n",
    "    print(\"clear\")"
   ]
  },
  {
   "cell_type": "markdown",
   "id": "54866248-1662-4eba-b20a-8a9652ba1a16",
   "metadata": {},
   "source": [
    "## Chapter 3.2.3 - Practice\n",
    "\n",
    "You have an observation that includes (unit or format, data type):\n",
    "1. temperature (degrees F, float)\n",
    "2. year (YYYY, int)\n",
    "3. month (MM, int)\n",
    "4. state (abbreviation, str).\n",
    "\n",
    "You want to print temperature **only** if the following conditions are met:\n",
    "\n",
    "1. The ```year``` is before 2000\n",
    "2. The ```month``` is either June, July, or August\n",
    "3. The ```state``` is Illinois\n",
    "\n",
    "Write a complex condition that combines multiple tests using ```and``` or ```or``` in an ```if / else``` statement to determine if you should print the temperature:"
   ]
  },
  {
   "cell_type": "code",
   "execution_count": null,
   "id": "64e3f825-9e04-4aae-8eeb-4a16ab677525",
   "metadata": {},
   "outputs": [],
   "source": [
    "temperature = input(\"What is the temperature?\")\n",
    "year = input(\"What is the year?\")\n",
    "month = input(\"What is the month (1 - 12)?\")\n",
    "state = input(\"What is the state (abbreviation)?\")\n",
    "\n",
    "#### Your code below\n",
    "\n",
    "print(temperature, year, month, state)"
   ]
  },
  {
   "cell_type": "markdown",
   "id": "52176812-bb76-4852-84be-901164d4a346",
   "metadata": {},
   "source": [
    "Create a complex condition using ```if / elif / else``` that you may need for your own project:"
   ]
  },
  {
   "cell_type": "code",
   "execution_count": null,
   "id": "3bc6a1be-bf35-4e67-a54b-859fa1f1ba80",
   "metadata": {},
   "outputs": [],
   "source": []
  }
 ],
 "metadata": {
  "kernelspec": {
   "display_name": "Python 3 (ipykernel)",
   "language": "python",
   "name": "python3"
  },
  "language_info": {
   "codemirror_mode": {
    "name": "ipython",
    "version": 3
   },
   "file_extension": ".py",
   "mimetype": "text/x-python",
   "name": "python",
   "nbconvert_exporter": "python",
   "pygments_lexer": "ipython3",
   "version": "3.12.11"
  }
 },
 "nbformat": 4,
 "nbformat_minor": 5
}
