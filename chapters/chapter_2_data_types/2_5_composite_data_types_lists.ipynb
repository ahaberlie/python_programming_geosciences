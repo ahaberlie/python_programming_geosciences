{
 "cells": [
  {
   "cell_type": "markdown",
   "id": "e3b06ba9-8a6d-4e90-b359-ad1371b291cd",
   "metadata": {},
   "source": [
    "# Chapter 2.5 - Lists\n",
    "\n",
    "**Full name: list**\n",
    "\n",
    "**Python keyword: [list](https://docs.python.org/3/library/stdtypes.html#list)**\n",
    "\n",
    "**Python data type group: [sequence](https://docs.python.org/3/library/stdtypes.html#sequence-types-list-tuple-range)**\n",
    "\n",
    "\n",
    "A ```list``` is an ordered collection of primitive (or even composite/sequential) data types. A ```list``` can be modified by adding, removing, or changing the values of the items contained in the ```list```. To access values in the list, you use *indexing* (just like with strings!). Indexing values start at 0, and items are accessed using the square bracket symbols after variable name with an ```int``` or ```int``` variable within the square brackets. Items within the list are *ordered*, so unless the list is modified (removals, additions, swaps, etc.), the position of an item within the list will remain unchanged. For example, if you have the list ```[1, 2, 3]```, the value ```1``` will always be at index ```0``` until the list is modified.\n",
    "\n",
    "Useful for:\n",
    "- Creating related groups of data\n",
    "- Keeping track of data without a known end point\n",
    "- Sorting data\n",
    "    \n",
    "List rules\n",
    "\n",
    "**1. Start and end the ```list``` sequence with an open (```[```) and closed (```]```) *square* bracket**\n",
    "\n",
    "**2. Items in the ```list``` definition must be separated by commas**\n",
    "\n",
    "**3. Items in the ```list``` can be variables of **any** data type, and can be implicitly or explicitly included**\n",
    "\n",
    "For example, we follow rule 1, 2, and 3 with the following ```list``` named ```a```. The items in the list are implicit ```int``` definitions without defining any prior variables."
   ]
  },
  {
   "cell_type": "code",
   "execution_count": 1,
   "id": "b84f4409-d5cc-441c-b4c6-88a600399cd1",
   "metadata": {},
   "outputs": [
    {
     "name": "stdout",
     "output_type": "stream",
     "text": [
      "[10, 11, 12, 13]\n"
     ]
    }
   ],
   "source": [
    "a = [10, 11, 12, 13]\n",
    "\n",
    "print(a)"
   ]
  },
  {
   "cell_type": "markdown",
   "id": "89f63abf-1e1f-417f-9648-bc6d8b7c44df",
   "metadata": {},
   "source": [
    "You can also define ```int``` variables and then include those variables within the list. The previous example and the following example produce the exact same list."
   ]
  },
  {
   "cell_type": "code",
   "execution_count": 2,
   "id": "4567a229-a43a-46f6-8f73-e185546e6313",
   "metadata": {},
   "outputs": [
    {
     "name": "stdout",
     "output_type": "stream",
     "text": [
      "[10, 11, 12, 13]\n"
     ]
    }
   ],
   "source": [
    "b = 10\n",
    "c = 11\n",
    "d = 12\n",
    "e = 13\n",
    "\n",
    "a = [b, c, d, e]\n",
    "\n",
    "print(a)"
   ]
  },
  {
   "cell_type": "markdown",
   "id": "ce446f84-a9aa-4d63-91e5-485ef9346894",
   "metadata": {},
   "source": [
    "## Chapter 2.5.1 - List indexing\n",
    "\n",
    "List items can be indexed just like string characters. The indexing rules remain the same (starting with 0, slicing, etc.).\n",
    "\n",
    "The data type of a single index will be the same as the data type at that position. \n",
    "\n",
    "In other words, if there is an ```int``` at that position, it can then be used just like an ```int```\n",
    "\n",
    "Example: access the 1st item in ```a``` and print it:"
   ]
  },
  {
   "cell_type": "code",
   "execution_count": 3,
   "id": "24969f40-ecd4-4405-a322-3982f0ce87d3",
   "metadata": {},
   "outputs": [
    {
     "name": "stdout",
     "output_type": "stream",
     "text": [
      "10\n"
     ]
    }
   ],
   "source": [
    "print(a[0])"
   ]
  },
  {
   "cell_type": "markdown",
   "id": "f8c6ac1c-77ce-47f4-acce-bd3a192cbe8a",
   "metadata": {},
   "source": [
    "We can also use an ```int``` variable to access this ```list``` item. The previous and next code examples are equivalent."
   ]
  },
  {
   "cell_type": "code",
   "execution_count": 4,
   "id": "28378649-9d55-4ab0-a82d-c81737c6230f",
   "metadata": {},
   "outputs": [
    {
     "name": "stdout",
     "output_type": "stream",
     "text": [
      "10\n"
     ]
    }
   ],
   "source": [
    "idx = 0\n",
    "\n",
    "print(a[idx])"
   ]
  },
  {
   "cell_type": "markdown",
   "id": "b619adf3-2056-4073-9c2c-c523ab0e6b8b",
   "metadata": {},
   "source": [
    "Add the 1st ```int``` to the 3rd ```int``` and print the result:"
   ]
  },
  {
   "cell_type": "code",
   "execution_count": 5,
   "id": "03014c96-76b1-4ab7-a6ec-ebbc666fe6f2",
   "metadata": {},
   "outputs": [
    {
     "name": "stdout",
     "output_type": "stream",
     "text": [
      "22\n"
     ]
    }
   ],
   "source": [
    "print(a[0] + a[2])"
   ]
  },
  {
   "cell_type": "markdown",
   "id": "587f7f84-5d2b-45fb-a26d-cdfa249bbc3f",
   "metadata": {},
   "source": [
    "## Chapter 2.5.2 - List operations\n",
    "\n",
    "As was the case with strings, we can also access parts of a ```list``` using slicing. Also similar to strings, a sliced ```list``` will give you another ```list``` data type. This can be confusing when trying to access items (and their data type functionality) within the ```list```. Specifically, the individual data types will not be accessible until you use a single index. This can result in unexpected behavior if you assume the slices can be treated as ```int```.\n",
    "\n",
    "**the ```:``` operator**\n",
    "\n",
    "You can access multiple items and create a subset of a list by using the ```[start:finish]``` syntax that we used with strings. For example, you can print the items at indexes 0 and 1 at the same time, noting that the ```finish```index is not included."
   ]
  },
  {
   "cell_type": "code",
   "execution_count": 6,
   "id": "d2d73254-274b-43c5-a7dc-af13bfa406ab",
   "metadata": {},
   "outputs": [
    {
     "name": "stdout",
     "output_type": "stream",
     "text": [
      "[1, 2]\n"
     ]
    }
   ],
   "source": [
    "slicing = [1, 2, 3, 4, 5, 6]\n",
    "\n",
    "print(slicing[0:2])"
   ]
  },
  {
   "cell_type": "markdown",
   "id": "f3e47a6e-93e9-4d6f-bf72-c52792961db1",
   "metadata": {},
   "source": [
    "You can implicitly create a subset from the start of the ```list``` to the ```finish``` index by providing no ```int``` before the ```:```. The previous code example and the following code example are equivalent."
   ]
  },
  {
   "cell_type": "code",
   "execution_count": 7,
   "id": "ea93ec3e-2df8-4e03-84c0-9bf62f7b32e9",
   "metadata": {},
   "outputs": [
    {
     "name": "stdout",
     "output_type": "stream",
     "text": [
      "[1, 2]\n"
     ]
    }
   ],
   "source": [
    "print(slicing[:2]) "
   ]
  },
  {
   "cell_type": "markdown",
   "id": "1914eb7c-30d7-4038-931c-68f4ace00d43",
   "metadata": {},
   "source": [
    "Providing the ```start``` index and not the ```finish``` index will create a subset that goes from the starting index to the end of the ```list```:"
   ]
  },
  {
   "cell_type": "code",
   "execution_count": 8,
   "id": "8bacfefa-8c66-45b8-9cf9-0a3cd5458d66",
   "metadata": {},
   "outputs": [
    {
     "name": "stdout",
     "output_type": "stream",
     "text": [
      "[4, 5, 6]\n"
     ]
    }
   ],
   "source": [
    "print(slicing[3:]) "
   ]
  },
  {
   "cell_type": "markdown",
   "id": "e380eed6-5eb1-4d94-a294-e4530720308a",
   "metadata": {},
   "source": [
    "You can also access the middle of the list by providing a ```start``` and ```finish``` index at positions fully within the ```list```."
   ]
  },
  {
   "cell_type": "code",
   "execution_count": 9,
   "id": "4795d455-c13e-4579-9893-31c06da85f62",
   "metadata": {},
   "outputs": [
    {
     "name": "stdout",
     "output_type": "stream",
     "text": [
      "[2, 3, 4]\n"
     ]
    }
   ],
   "source": [
    "print(slicing[1:4])"
   ]
  },
  {
   "cell_type": "markdown",
   "id": "3f7b9edb-e7e2-46c4-b79d-9fe4e101716e",
   "metadata": {},
   "source": [
    "The sliced ```list``` can be set to a variable and treated like a ```list``` variable:"
   ]
  },
  {
   "cell_type": "code",
   "execution_count": 10,
   "id": "e1cfe3d2-ee8a-4931-997f-a957d1caa596",
   "metadata": {},
   "outputs": [
    {
     "name": "stdout",
     "output_type": "stream",
     "text": [
      "10\n"
     ]
    }
   ],
   "source": [
    "f = a[:2]\n",
    "\n",
    "print(f[0])"
   ]
  },
  {
   "cell_type": "markdown",
   "id": "928c90ae-149f-406e-9d6c-021f8e0ab5fd",
   "metadata": {},
   "source": [
    "**The ```+``` operator**\n",
    "\n",
    "This operation does not behave as you might expect. It creates a new *combined* list from two different lists in the order they are placed in the operation (e.g., left ```list``` items first, right ```list``` items second). Without knowing this, you might assume the following code would print the sum of the sliced items at indexes 0 and 1 and the sliced items at indexes 2 and 3."
   ]
  },
  {
   "cell_type": "code",
   "execution_count": 11,
   "id": "570ca187-882b-4c31-8db8-b82147a7735b",
   "metadata": {},
   "outputs": [
    {
     "name": "stdout",
     "output_type": "stream",
     "text": [
      "[1, 2, 3, 4]\n"
     ]
    }
   ],
   "source": [
    "print(slicing[0:2] + slicing[2:4])"
   ]
  },
  {
   "cell_type": "markdown",
   "id": "31934481-de62-4361-a36e-6d74d364d607",
   "metadata": {},
   "source": [
    "What happened? If you reverse the order of the slices, it becomes more clear."
   ]
  },
  {
   "cell_type": "code",
   "execution_count": 12,
   "id": "ec812fa5-9a75-4b40-a573-a4c2151e1b3a",
   "metadata": {},
   "outputs": [
    {
     "name": "stdout",
     "output_type": "stream",
     "text": [
      "[3, 4, 1, 2]\n"
     ]
    }
   ],
   "source": [
    "print(slicing[2:4] + slicing[0:2])"
   ]
  },
  {
   "cell_type": "markdown",
   "id": "1b8e91f1-5663-4025-badb-433b76bf42a0",
   "metadata": {},
   "source": [
    "As was the case with strings, you are only allowed to add a ```list``` to another ```list```. If you try to add, for example, an ```int``` to a list, you will get an error:"
   ]
  },
  {
   "cell_type": "code",
   "execution_count": 13,
   "id": "5aa14e9f-d005-4f3f-ac80-45dcbd686d44",
   "metadata": {},
   "outputs": [
    {
     "ename": "TypeError",
     "evalue": "can only concatenate list (not \"int\") to list",
     "output_type": "error",
     "traceback": [
      "\u001b[31m---------------------------------------------------------------------------\u001b[39m",
      "\u001b[31mTypeError\u001b[39m                                 Traceback (most recent call last)",
      "\u001b[36mCell\u001b[39m\u001b[36m \u001b[39m\u001b[32mIn[13]\u001b[39m\u001b[32m, line 1\u001b[39m\n\u001b[32m----> \u001b[39m\u001b[32m1\u001b[39m \u001b[38;5;28mprint\u001b[39m(\u001b[43mslicing\u001b[49m\u001b[43m \u001b[49m\u001b[43m+\u001b[49m\u001b[43m \u001b[49m\u001b[32;43m10\u001b[39;49m)\n",
      "\u001b[31mTypeError\u001b[39m: can only concatenate list (not \"int\") to list"
     ]
    }
   ],
   "source": [
    "print(slicing + 10)"
   ]
  },
  {
   "cell_type": "markdown",
   "id": "1994adde-485a-44b9-80ec-2820f496d1e5",
   "metadata": {},
   "source": [
    "**The ```in``` and ```not in``` operators**\n",
    "\n",
    "The ```in``` operator provides a ```bool``` result where it is ```True``` if the item is in the list or ```False``` if it is not within the list. The ```not in``` operator provides the opposite results. \n",
    "\n",
    "If you check to see if the ```int``` ```5``` is within the list, the result will be ```True``` since the list contains the ```int``` values ```[1, 2, 3, 4, 5, 6]```. If you check to see if ```5``` is not in the list, it will result in ```False```."
   ]
  },
  {
   "cell_type": "code",
   "execution_count": 14,
   "id": "4e4cfb3f-cedc-4435-93c1-4a5a91ec0109",
   "metadata": {},
   "outputs": [
    {
     "name": "stdout",
     "output_type": "stream",
     "text": [
      "True\n",
      "False\n"
     ]
    }
   ],
   "source": [
    "print(5 in slicing)\n",
    "\n",
    "print(5 not in slicing)"
   ]
  },
  {
   "cell_type": "markdown",
   "id": "544b8a93-93a3-4837-b743-e6bcafb5d9da",
   "metadata": {},
   "source": [
    "We can try the opposite case:"
   ]
  },
  {
   "cell_type": "code",
   "execution_count": 15,
   "id": "87428ae9-77e9-4c0d-875a-5b53af883d77",
   "metadata": {},
   "outputs": [
    {
     "name": "stdout",
     "output_type": "stream",
     "text": [
      "False\n",
      "True\n"
     ]
    }
   ],
   "source": [
    "print(10 in slicing)\n",
    "\n",
    "print(10 not in slicing)"
   ]
  },
  {
   "cell_type": "markdown",
   "id": "031792f4-f495-4b59-a20d-b2f689499bc6",
   "metadata": {},
   "source": [
    "**The ```*``` operator**:\n",
    "\n",
    "This operator adds a ```list``` to itself ```n``` times, where ```n``` is provided on the right side of the ```*``` operation:\n",
    "\n",
    "```\n",
    "[initial_list] * n\n",
    "```\n",
    "\n",
    "For example, the following two code examples are equivalent:"
   ]
  },
  {
   "cell_type": "code",
   "execution_count": 16,
   "id": "2bc877b0-563d-4156-9986-959a98c151b1",
   "metadata": {},
   "outputs": [
    {
     "name": "stdout",
     "output_type": "stream",
     "text": [
      "code: slicing + slicing + slicing [1, 2, 3, 4, 5, 6, 1, 2, 3, 4, 5, 6, 1, 2, 3, 4, 5, 6]\n",
      "code: slicing * 3                 [1, 2, 3, 4, 5, 6, 1, 2, 3, 4, 5, 6, 1, 2, 3, 4, 5, 6]\n"
     ]
    }
   ],
   "source": [
    "result_add = slicing + slicing + slicing # add slicing three times\n",
    "\n",
    "result_mult = slicing * 3 # repeat slicing three times\n",
    "\n",
    "print(\"code: slicing + slicing + slicing\", result_add)\n",
    "\n",
    "print(\"code: slicing * 3                \", result_mult)"
   ]
  },
  {
   "cell_type": "markdown",
   "id": "58e8a063-0268-442c-bb64-3c04dd1171dc",
   "metadata": {},
   "source": [
    "## Chapter 2.5.3 - List comprehension\n",
    "\n",
    "Although ```list``` comprehensions fall under a more advanced concept named \"looping\", this is a good time to introduce the functionality, in case you do want modify every item in your ```list``` (e.g., multiplication, addition, etc.). We will revisit this idea later in the class, but the code in the code cell below automatically does these tasks for you:\n",
    "\n",
    "1. visits each index in your list\n",
    "2. while at each index, it multiplies the value of the item at that index\n",
    "3. using rule #2 ([Chapter 2.0.4](https://ahaberlie.github.io/python_programming_geosciences/python-syntax)) in variable definitions, modifying each index in the list would look like the following code if it were written out:\n",
    "\n",
    "```\n",
    "list_name = [1, 2, 3]\n",
    "list_name[0] = list_name[0] * 10\n",
    "list_name[1] = list_name[1] * 10\n",
    "list_name[2] = list_name[2] * 10\n",
    "\n",
    "print(list_name) #output: [10, 20, 30]\n",
    "```\n",
    "\n",
    "What is happening in the background? The mathematical operation first requires Python to access the value at the index. In this case, each value is an ```int```. The ```int``` value is placed in the position of the indexed list item in the mathematical equation, where the code above is equivalent to the code below after replacement:\n",
    "\n",
    "```\n",
    "list_name = [1, 2, 3]\n",
    "list_name[0] = 1 * 10 # the item at list_name[0] is 1 \n",
    "list_name[1] = 2 * 10 # the item at list_name[1] is 2 \n",
    "list_name[2] = 3 * 10 # the item at list_name[2] is 3\n",
    "\n",
    "print(list_name) #output: [10, 20, 30]\n",
    "```\n",
    "\n",
    "Unlike strings, indexing items in a ```list``` allow you to access **and/or** change that value. In the examples above, the initial values are multiplied by 10, and then replaced by the result of that multiplication."
   ]
  },
  {
   "cell_type": "code",
   "execution_count": 17,
   "id": "385c4d8e-78c3-4d3f-ad5e-346be9f1a2fd",
   "metadata": {},
   "outputs": [
    {
     "name": "stdout",
     "output_type": "stream",
     "text": [
      "[10, 20, 30]\n"
     ]
    }
   ],
   "source": [
    "list_name = [1, 2, 3]\n",
    "\n",
    "list_name = [item * 10 for item in list_name]\n",
    "\n",
    "print(list_name)"
   ]
  },
  {
   "cell_type": "markdown",
   "id": "dc6e330c-adf5-4635-bf63-d7f41d45e2f7",
   "metadata": {},
   "source": [
    "Again, we will cover this process (i.e., looping) in great detail in future chapters."
   ]
  },
  {
   "cell_type": "markdown",
   "id": "839501db-aea6-4b55-9532-ae57fb00045f",
   "metadata": {},
   "source": [
    "## Chapter 2.5.4 - List methods\n",
    "\n",
    "As was the case with ```str```, ```list``` data types have methods that can be used to [access, modify, create, or delete items](https://docs.python.org/3/library/stdtypes.html#mutable-sequence-types) within the list.\n",
    "\n",
    "Some commonly used list methods:\n",
    "\n",
    "**#1. ```append()```: add a new item to the end of an existing list**"
   ]
  },
  {
   "cell_type": "code",
   "execution_count": 18,
   "id": "2b32a37d-4daa-4a2f-add1-278ae86f58f0",
   "metadata": {},
   "outputs": [
    {
     "name": "stdout",
     "output_type": "stream",
     "text": [
      "[1, 2, 3, 4]\n"
     ]
    }
   ],
   "source": [
    "a = [1, 2, 3]\n",
    "\n",
    "a.append(4)\n",
    "\n",
    "print(a)"
   ]
  },
  {
   "cell_type": "markdown",
   "id": "b06cddd1-9a80-4825-b0d3-1a21a14bcbc3",
   "metadata": {},
   "source": [
    "**#2 ```sort()```: sorts the list based on an alphanumeric order**"
   ]
  },
  {
   "cell_type": "code",
   "execution_count": 19,
   "id": "1ca16092-ab5d-419c-8b30-f917f5f246b3",
   "metadata": {},
   "outputs": [
    {
     "name": "stdout",
     "output_type": "stream",
     "text": [
      "[0, 1, 3, 5, 17]\n"
     ]
    }
   ],
   "source": [
    "b = [5, 1, 17, 0, 3]\n",
    "\n",
    "b.sort()\n",
    "\n",
    "print(b)"
   ]
  },
  {
   "cell_type": "markdown",
   "id": "4f1b0f56-773c-40d5-8199-905f466ac253",
   "metadata": {},
   "source": [
    "**#3 ```len()```: counts the number of items in the list**\n",
    "\n",
    "This is not a list method, per se, but is used very often with lists!"
   ]
  },
  {
   "cell_type": "code",
   "execution_count": 20,
   "id": "5a79d179-f46e-4c55-8fc7-2deb9070180f",
   "metadata": {},
   "outputs": [
    {
     "name": "stdout",
     "output_type": "stream",
     "text": [
      "5\n"
     ]
    }
   ],
   "source": [
    "c = [100, 200, 300, 400, 500]\n",
    "\n",
    "print(len(c))"
   ]
  },
  {
   "cell_type": "markdown",
   "id": "860a4174-a3a9-4a1a-81b8-7f2c9ff16fcb",
   "metadata": {},
   "source": [
    "**Other functions:**\n",
    "\n",
    "**```insert```: place an item at a specific index in a ```list```**\n",
    "\n",
    "This function uses the following pattern to insert items in a list:\n",
    "\n",
    "```\n",
    "list_name.insert(index_to_insert, value_to_insert)\n",
    "```\n",
    "\n",
    "In the following example, the value ```3``` is inserted at index ```2```. This is equivalent to:\n",
    "\n",
    "```\n",
    "d = d[0:2] + [3] + d[2:]\n",
    "```"
   ]
  },
  {
   "cell_type": "code",
   "execution_count": 21,
   "id": "b6173598-b4f8-400d-ac8f-7f65f9a7fdc3",
   "metadata": {},
   "outputs": [
    {
     "name": "stdout",
     "output_type": "stream",
     "text": [
      "[1, 2, 3, 4, 5]\n"
     ]
    }
   ],
   "source": [
    "d = [1, 2, 4, 5]\n",
    "\n",
    "#d = d[0:2] + [3] + d[2:]\n",
    "d.insert(2, 3)\n",
    "\n",
    "print(d)"
   ]
  },
  {
   "cell_type": "markdown",
   "id": "44d5e3bf-76f9-487b-ac36-8acf563d73df",
   "metadata": {},
   "source": [
    "**```remove```: removes the first item in the list that is equal to a given item**\n",
    "\n",
    "This function uses the following pattern to remove items in a list:\n",
    "\n",
    "```\n",
    "list_name.remove(value_to_remove)\n",
    "```\n",
    "\n",
    "In the following example, the first ```2``` is removed from the list:"
   ]
  },
  {
   "cell_type": "code",
   "execution_count": 22,
   "id": "a617fce3-33b6-4cd3-ada6-8df887b418a3",
   "metadata": {},
   "outputs": [
    {
     "name": "stdout",
     "output_type": "stream",
     "text": [
      "[1, 4, 2, 6]\n"
     ]
    }
   ],
   "source": [
    "e = [1, 2, 4, 2, 6]\n",
    "\n",
    "e.remove(2)\n",
    "\n",
    "print(e)"
   ]
  },
  {
   "cell_type": "markdown",
   "id": "e4273af7-8510-474d-9492-b8c6867511fa",
   "metadata": {},
   "source": [
    "**```pop```: removes the last item from the list and provides the value for a variable definition**\n",
    "\n",
    "In the following example, the last item is removed from the list and set equal to the variable named ```pop_result```"
   ]
  },
  {
   "cell_type": "code",
   "execution_count": 23,
   "id": "5e018a98-eb83-47ea-a29e-62e19510d62b",
   "metadata": {},
   "outputs": [
    {
     "name": "stdout",
     "output_type": "stream",
     "text": [
      "list after pop: [1, 2, 4, 2]\n",
      "'result' after pop: 6\n"
     ]
    }
   ],
   "source": [
    "e = [1, 2, 4, 2, 6]\n",
    "\n",
    "result = e.pop()\n",
    "\n",
    "print(\"list after pop:\", e)\n",
    "print(\"'result' after pop:\", result)"
   ]
  },
  {
   "cell_type": "markdown",
   "id": "163dadd2-46b1-4fc5-85a7-75e4d314baee",
   "metadata": {},
   "source": [
    "## Chapter 2.5.5 - Practice\n",
    "\n",
    "Provide code examples that answer the following questions using ```list``` indexing and/or slicing based on the list definition below:"
   ]
  },
  {
   "cell_type": "code",
   "execution_count": null,
   "id": "0e658bdb-16dd-4427-88b5-2463c07306bf",
   "metadata": {},
   "outputs": [],
   "source": [
    "D = [52, 55, 59, 62, 73, 44, 42, 41, 75]"
   ]
  },
  {
   "cell_type": "markdown",
   "id": "717f6f50-ed83-4f37-8125-ed5054865e39",
   "metadata": {},
   "source": [
    "What is the third ```int``` in D?"
   ]
  },
  {
   "cell_type": "code",
   "execution_count": null,
   "id": "8580c773-e591-4bc7-99f0-0a57d56bd642",
   "metadata": {},
   "outputs": [],
   "source": []
  },
  {
   "cell_type": "markdown",
   "id": "0779f47d-d190-43c8-9bf8-cf75e5d02d8d",
   "metadata": {},
   "source": [
    "What is the int at the 6th index?"
   ]
  },
  {
   "cell_type": "code",
   "execution_count": null,
   "id": "79c2e3cf-6f53-4caa-9abe-d8f2fa167c14",
   "metadata": {},
   "outputs": [],
   "source": []
  },
  {
   "cell_type": "markdown",
   "id": "f3626c3c-1087-480c-bd73-a1c7b2b9b56e",
   "metadata": {},
   "source": [
    "How would you access and print the first item in D?"
   ]
  },
  {
   "cell_type": "code",
   "execution_count": null,
   "id": "8014e885-ac64-40ef-857b-9c4ab4ef4491",
   "metadata": {},
   "outputs": [],
   "source": []
  },
  {
   "cell_type": "markdown",
   "id": "3bb888f1-f33a-42e5-89f4-12471773d87a",
   "metadata": {},
   "source": [
    "How would I set a variable named ```t``` to the 8th ```int```?"
   ]
  },
  {
   "cell_type": "code",
   "execution_count": null,
   "id": "f5402e7a-d1c8-4592-a147-305b32a40d2f",
   "metadata": {},
   "outputs": [],
   "source": []
  },
  {
   "cell_type": "markdown",
   "id": "ffe5f5b3-53a2-41b4-9fc1-2cbac0533562",
   "metadata": {},
   "source": [
    "How would I output 86 using indexing and a print statement?"
   ]
  },
  {
   "cell_type": "code",
   "execution_count": null,
   "id": "e073590e-09b4-48d2-84bd-3557125e414c",
   "metadata": {},
   "outputs": [],
   "source": []
  },
  {
   "cell_type": "markdown",
   "id": "a4cfad0f-ff25-4bab-82d7-1c3da137b0fa",
   "metadata": {},
   "source": [
    "How would I add the item 20 to the end of the ```list``` defined below:"
   ]
  },
  {
   "cell_type": "code",
   "execution_count": null,
   "id": "2008fa37-bc63-48b7-b962-09f832b609a7",
   "metadata": {},
   "outputs": [],
   "source": [
    "E = [52, 55, 59, 62, 73, 44, 42, 41, 75]\n",
    "\n"
   ]
  },
  {
   "cell_type": "markdown",
   "id": "ce49d092-f577-48b3-849e-0daaf0e77722",
   "metadata": {},
   "source": [
    "How would I sort the ```list``` defined below?"
   ]
  },
  {
   "cell_type": "code",
   "execution_count": null,
   "id": "142357a9-ce6c-4155-a7ba-cf1ae10d94a6",
   "metadata": {},
   "outputs": [],
   "source": [
    "E = [52, 55, 59, 62, 73, 44, 42, 41, 75]\n",
    "\n"
   ]
  },
  {
   "cell_type": "markdown",
   "id": "4603badf-e442-49b5-a0cb-febb5a028602",
   "metadata": {},
   "source": [
    "How would I find the number of items in the list below?"
   ]
  },
  {
   "cell_type": "code",
   "execution_count": null,
   "id": "e8989064-8281-498c-b202-2a326cd75ae0",
   "metadata": {},
   "outputs": [],
   "source": [
    "E = [52, 55, 59, 62]\n",
    "\n"
   ]
  }
 ],
 "metadata": {
  "kernelspec": {
   "display_name": "Python 3 (ipykernel)",
   "language": "python",
   "name": "python3"
  },
  "language_info": {
   "codemirror_mode": {
    "name": "ipython",
    "version": 3
   },
   "file_extension": ".py",
   "mimetype": "text/x-python",
   "name": "python",
   "nbconvert_exporter": "python",
   "pygments_lexer": "ipython3",
   "version": "3.12.11"
  }
 },
 "nbformat": 4,
 "nbformat_minor": 5
}
