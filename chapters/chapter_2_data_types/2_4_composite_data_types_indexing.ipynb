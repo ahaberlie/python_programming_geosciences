{
 "cells": [
  {
   "cell_type": "markdown",
   "id": "10381c1b-1ab4-463d-9d2e-c90a77c4f5be",
   "metadata": {
    "tags": []
   },
   "source": [
    "# Chapter 2.4 - Indexing\n",
    "\n",
    "Composite data types can be indexed to access primitive data types that they contain\n",
    "\n",
    "For example, if we define a string:"
   ]
  },
  {
   "cell_type": "code",
   "execution_count": 1,
   "id": "9775889b-649e-4df9-8638-695e021a48b8",
   "metadata": {},
   "outputs": [
    {
     "name": "stdout",
     "output_type": "stream",
     "text": [
      "text\n"
     ]
    }
   ],
   "source": [
    "a = \"text\"\n",
    "\n",
    "print(a)"
   ]
  },
  {
   "cell_type": "markdown",
   "id": "cb35c678-cb2c-438a-9d19-47ada5e63c2f",
   "metadata": {},
   "source": [
    "we know that a is actually a composite of 4 characters:"
   ]
  },
  {
   "cell_type": "code",
   "execution_count": 2,
   "id": "38a3a2da-b359-4153-b12b-0b153a69873b",
   "metadata": {},
   "outputs": [
    {
     "name": "stdout",
     "output_type": "stream",
     "text": [
      "text\n"
     ]
    }
   ],
   "source": [
    "a = \"t\" + \"e\" + \"x\" + \"t\"\n",
    "\n",
    "print(a)"
   ]
  },
  {
   "cell_type": "markdown",
   "id": "9ae31b13-6f14-46ae-b400-e71d2704f238",
   "metadata": {},
   "source": [
    "you can access the different characters in the string by using \"indexing\".\n",
    "\n",
    "Indexing is a way of accessing data within a composite data type.\n",
    "\n",
    "To do this, you need to first define a composite data type (primitive data types cannot be indexed):"
   ]
  },
  {
   "cell_type": "code",
   "execution_count": 3,
   "id": "cd0374c0-0d5b-4414-8fb3-739e3f1f01f3",
   "metadata": {},
   "outputs": [],
   "source": [
    "a = \"text\""
   ]
  },
  {
   "cell_type": "markdown",
   "id": "54866248-1662-4eba-b20a-8a9652ba1a16",
   "metadata": {},
   "source": [
    "To access one character in the variable ```a```, you need to do the following:\n",
    "    \n",
    "1. place \"an open square bracket\" immediately after the variable name: ```a[```\n",
    "2. place an integer or a variable representing an integer immediately after the open square bracket: ```a[0```\n",
    "3. place \"a closed square bracket\" immediately after the integer: ```a[0]```\n",
    "\n",
    "In english, ```a[0]``` means \"give me the first character in the string variable ```a```\"\n",
    "\n",
    "In Python and many other programming languages, indexing starts counting at ```0```, so \"first\" is equivalent to \"index 0\", \"second\" is equivalent to the \"index 1\", etc.\n",
    "\n",
    "**Examples**\n",
    "\n",
    "The following code prints the first character in variable ```a```:"
   ]
  },
  {
   "cell_type": "code",
   "execution_count": 4,
   "id": "64e3f825-9e04-4aae-8eeb-4a16ab677525",
   "metadata": {},
   "outputs": [
    {
     "name": "stdout",
     "output_type": "stream",
     "text": [
      "This is the first character in 'text': t\n"
     ]
    }
   ],
   "source": [
    "a = \"text\"\n",
    "\n",
    "print(f\"This is the first character in '{a}':\", a[0])"
   ]
  },
  {
   "cell_type": "markdown",
   "id": "52176812-bb76-4852-84be-901164d4a346",
   "metadata": {},
   "source": [
    "The following code prints the second character in ```a```:"
   ]
  },
  {
   "cell_type": "code",
   "execution_count": 5,
   "id": "90eb2e7a-9ce8-409d-9d52-263fde111598",
   "metadata": {},
   "outputs": [
    {
     "name": "stdout",
     "output_type": "stream",
     "text": [
      "This is the second character in 'text': e\n"
     ]
    }
   ],
   "source": [
    "print(f\"This is the second character in '{a}':\", a[1])"
   ]
  },
  {
   "cell_type": "markdown",
   "id": "3e7c50a9-be06-40aa-8754-c4ff99df1c92",
   "metadata": {},
   "source": [
    "The following code prints the third character in ```a```"
   ]
  },
  {
   "cell_type": "code",
   "execution_count": 6,
   "id": "b2a51526-0a8f-4d6d-af86-000d1acaa464",
   "metadata": {},
   "outputs": [
    {
     "name": "stdout",
     "output_type": "stream",
     "text": [
      "This is the third character in 'text': x\n"
     ]
    }
   ],
   "source": [
    "print(f\"This is the third character in '{a}':\", a[2])"
   ]
  },
  {
   "cell_type": "markdown",
   "id": "f6426848-43f5-4718-a602-d3e40b38b160",
   "metadata": {},
   "source": [
    "The following code prints the fourth character in a:"
   ]
  },
  {
   "cell_type": "code",
   "execution_count": 8,
   "id": "550ed4db-bcab-449b-bbbd-516537e5bd97",
   "metadata": {},
   "outputs": [
    {
     "name": "stdout",
     "output_type": "stream",
     "text": [
      "This is the third character in 'text': t\n"
     ]
    }
   ],
   "source": [
    "print(f\"This is the third character in '{a}':\", a[3])"
   ]
  },
  {
   "cell_type": "markdown",
   "id": "88c1120a-d45f-4761-94a5-f25dd4622d37",
   "metadata": {},
   "source": [
    "## Chapter 2.4.1 - Indexing rules for one item\n",
    "\n",
    "These three rules will help you to use indexing correctly, and to debug your code when you do not use it correctly:\n",
    "\n",
    "**Rule 1: You must \"invoke\" (aka tell Python you plan to do something more complex) an index call using a starting ```[``` and ending with a ```]```.**\n",
    "\n",
    "**Rule 2: You must place an ```int``` or ```int``` variable within the square brackets with no whitespace.**\n",
    "\n",
    "**Rule 3: The ```int``` or ```int``` variable must be a number that is no higher than the count of items in the composite data type.**\n",
    "\n",
    "Here are some common problems you may run into using indexing\n",
    "\n",
    "1. BUG: You forget to close the brackets or do not use the brackets properly:"
   ]
  },
  {
   "cell_type": "code",
   "execution_count": 9,
   "id": "227adb1f-64b5-4e0a-927c-d6ce5e27814b",
   "metadata": {},
   "outputs": [
    {
     "ename": "SyntaxError",
     "evalue": "unexpected EOF while parsing (327732254.py, line 1)",
     "output_type": "error",
     "traceback": [
      "\u001b[0;36m  Cell \u001b[0;32mIn[9], line 1\u001b[0;36m\u001b[0m\n\u001b[0;31m    a[0\u001b[0m\n\u001b[0m       ^\u001b[0m\n\u001b[0;31mSyntaxError\u001b[0m\u001b[0;31m:\u001b[0m unexpected EOF while parsing\n"
     ]
    }
   ],
   "source": [
    "a[0"
   ]
  },
  {
   "cell_type": "code",
   "execution_count": 10,
   "id": "445ee068-5e2a-4ef8-b336-20422942a172",
   "metadata": {},
   "outputs": [
    {
     "ename": "SyntaxError",
     "evalue": "invalid syntax (393439810.py, line 1)",
     "output_type": "error",
     "traceback": [
      "\u001b[0;36m  Cell \u001b[0;32mIn[10], line 1\u001b[0;36m\u001b[0m\n\u001b[0;31m    a{0}\u001b[0m\n\u001b[0m     ^\u001b[0m\n\u001b[0;31mSyntaxError\u001b[0m\u001b[0;31m:\u001b[0m invalid syntax\n"
     ]
    }
   ],
   "source": [
    "a{0}"
   ]
  },
  {
   "cell_type": "code",
   "execution_count": 11,
   "id": "167bf5f6-eaf6-47df-9a06-2fb91d244cbf",
   "metadata": {},
   "outputs": [
    {
     "ename": "TypeError",
     "evalue": "'str' object is not callable",
     "output_type": "error",
     "traceback": [
      "\u001b[0;31m---------------------------------------------------------------------------\u001b[0m",
      "\u001b[0;31mTypeError\u001b[0m                                 Traceback (most recent call last)",
      "Cell \u001b[0;32mIn[11], line 1\u001b[0m\n\u001b[0;32m----> 1\u001b[0m \u001b[43ma\u001b[49m\u001b[43m(\u001b[49m\u001b[38;5;241;43m0\u001b[39;49m\u001b[43m)\u001b[49m\n",
      "\u001b[0;31mTypeError\u001b[0m: 'str' object is not callable"
     ]
    }
   ],
   "source": [
    "a(0)"
   ]
  },
  {
   "cell_type": "code",
   "execution_count": 12,
   "id": "a78f1822-bc97-42be-bad1-5dfb36c12ff2",
   "metadata": {},
   "outputs": [
    {
     "ename": "NameError",
     "evalue": "name 'a0' is not defined",
     "output_type": "error",
     "traceback": [
      "\u001b[0;31m---------------------------------------------------------------------------\u001b[0m",
      "\u001b[0;31mNameError\u001b[0m                                 Traceback (most recent call last)",
      "Cell \u001b[0;32mIn[12], line 1\u001b[0m\n\u001b[0;32m----> 1\u001b[0m \u001b[43ma0\u001b[49m\n",
      "\u001b[0;31mNameError\u001b[0m: name 'a0' is not defined"
     ]
    }
   ],
   "source": [
    "a0"
   ]
  },
  {
   "cell_type": "markdown",
   "id": "4a6c901d-99fc-4cb1-8839-5286aff8054a",
   "metadata": {},
   "source": [
    "2. BUG: You use a ```float``` or other non-int data type as the index:"
   ]
  },
  {
   "cell_type": "code",
   "execution_count": 13,
   "id": "d929eaac-dfd7-4e36-bea2-5ec4ac6d3365",
   "metadata": {},
   "outputs": [
    {
     "ename": "TypeError",
     "evalue": "string indices must be integers",
     "output_type": "error",
     "traceback": [
      "\u001b[0;31m---------------------------------------------------------------------------\u001b[0m",
      "\u001b[0;31mTypeError\u001b[0m                                 Traceback (most recent call last)",
      "Cell \u001b[0;32mIn[13], line 1\u001b[0m\n\u001b[0;32m----> 1\u001b[0m \u001b[43ma\u001b[49m\u001b[43m[\u001b[49m\u001b[38;5;241;43m1.0\u001b[39;49m\u001b[43m]\u001b[49m\n",
      "\u001b[0;31mTypeError\u001b[0m: string indices must be integers"
     ]
    }
   ],
   "source": [
    "a[1.0]"
   ]
  },
  {
   "cell_type": "code",
   "execution_count": 14,
   "id": "a76d5aa6-471a-4a92-9fd9-4c6d26812e41",
   "metadata": {},
   "outputs": [
    {
     "ename": "TypeError",
     "evalue": "string indices must be integers",
     "output_type": "error",
     "traceback": [
      "\u001b[0;31m---------------------------------------------------------------------------\u001b[0m",
      "\u001b[0;31mTypeError\u001b[0m                                 Traceback (most recent call last)",
      "Cell \u001b[0;32mIn[14], line 1\u001b[0m\n\u001b[0;32m----> 1\u001b[0m \u001b[43ma\u001b[49m\u001b[43m[\u001b[49m\u001b[38;5;124;43m'\u001b[39;49m\u001b[38;5;124;43mb\u001b[39;49m\u001b[38;5;124;43m'\u001b[39;49m\u001b[43m]\u001b[49m\n",
      "\u001b[0;31mTypeError\u001b[0m: string indices must be integers"
     ]
    }
   ],
   "source": [
    "a['b']"
   ]
  },
  {
   "cell_type": "markdown",
   "id": "645e459b-3ff8-4c82-b9c0-20aa7d6d96a9",
   "metadata": {},
   "source": [
    "3. BUG: You use an ```int```, but the index is larger than the count of items in the composite data type:\n",
    "\n",
    "For example, variable ```a``` is set to \"Text\" which has 4 characters. Thus, your index cannot be higher than the \"fourth item\" which is equal to \"index 3\"."
   ]
  },
  {
   "cell_type": "code",
   "execution_count": 15,
   "id": "9dc98ffd-ca2a-41f5-8866-df49aa180ee5",
   "metadata": {},
   "outputs": [
    {
     "name": "stdout",
     "output_type": "stream",
     "text": [
      "t\n"
     ]
    }
   ],
   "source": [
    "print(a[3]) #totally fine!"
   ]
  },
  {
   "cell_type": "code",
   "execution_count": 16,
   "id": "ba311004-99b4-4f8e-b580-df4118502e5c",
   "metadata": {},
   "outputs": [
    {
     "ename": "IndexError",
     "evalue": "string index out of range",
     "output_type": "error",
     "traceback": [
      "\u001b[0;31m---------------------------------------------------------------------------\u001b[0m",
      "\u001b[0;31mIndexError\u001b[0m                                Traceback (most recent call last)",
      "Cell \u001b[0;32mIn[16], line 1\u001b[0m\n\u001b[0;32m----> 1\u001b[0m \u001b[38;5;28mprint\u001b[39m(\u001b[43ma\u001b[49m\u001b[43m[\u001b[49m\u001b[38;5;241;43m4\u001b[39;49m\u001b[43m]\u001b[49m)\n",
      "\u001b[0;31mIndexError\u001b[0m: string index out of range"
     ]
    }
   ],
   "source": [
    "print(a[4]) #out of range!"
   ]
  },
  {
   "cell_type": "markdown",
   "id": "2c213743-c345-42d4-88ee-a8e188bac6ab",
   "metadata": {},
   "source": [
    "## Chapter 2.4.2 - Indexing for more than one item: slicing\n",
    "\n",
    "Slicing composite data types allows you to access two or more values at the same time. The same indexing rules apply with some additional syntax.\n",
    "\n",
    "Again, first define a composite data type:"
   ]
  },
  {
   "cell_type": "code",
   "execution_count": 17,
   "id": "a69389fe-fb2a-4c9d-938f-7b481c9c9644",
   "metadata": {},
   "outputs": [],
   "source": [
    "a = \"TEXT\""
   ]
  },
  {
   "cell_type": "markdown",
   "id": "30253820-c296-4f62-bab3-2d9a29d65989",
   "metadata": {},
   "source": [
    "Getting the first character in ```a``` and setting equal to a variable named ```b```:"
   ]
  },
  {
   "cell_type": "code",
   "execution_count": 18,
   "id": "eb8f0284-48d5-479e-a61d-8fef65a51249",
   "metadata": {},
   "outputs": [
    {
     "name": "stdout",
     "output_type": "stream",
     "text": [
      "T\n"
     ]
    }
   ],
   "source": [
    "b = a[0]\n",
    "\n",
    "print(b)"
   ]
  },
  {
   "cell_type": "markdown",
   "id": "1ee057fc-17d3-4f3e-9336-9a397c051ef4",
   "metadata": {},
   "source": [
    "To get multiple characters, use the following pattern:\n",
    "\n",
    "```variable_name[start:end]```\n",
    "\n",
    "```start``` is an int or int variable that defines the first index at which you would like to slice the composite data type (inclusive)\n",
    "\n",
    "```end``` is an int or int variable that defines the index immediately **after** the last index you would like to slice (exclusive).\n",
    "\n",
    "```:``` \"invokes\" the slicing functionality built in to composite data types.\n",
    "\n",
    "Slicing rules add two sub-rules to rule #3:\n",
    "\n",
    "**Rule 3.a: both ```start``` and ```end``` must be less than the count of items in a composite data type.**\n",
    "\n",
    "**Rule 3.b: All indexes represented by each integer between ```start``` and ```end```, except the index equivalent to ```end```, will be included in the slice.**\n",
    "\n",
    "In some math problems, the equivalent range of values would be defined using the square bracket (include this part of the range) and parentheses (do not include this part of the range): ```[start, end)```\n",
    "\n",
    "You can also think of it as if you have a variable that represents the sliced indexes named ```x```, the integers in x will be all integers that meet the following conditions: ```>= start``` and ```< end```\n",
    "\n",
    "Nice refresher on domain and range: https://math.libretexts.org/Courses/Fresno_City_College/Math_3A%3A_College_Algebra_-_Fresno_City_College/02%3A_Functions/2.02%3A_Domain_and_Range\n",
    "\n",
    "If you want to access the first and second character in a string, you would have a range of ```0:2``` which means all indexes from 0 to 2, except not 2:"
   ]
  },
  {
   "cell_type": "code",
   "execution_count": 19,
   "id": "562fa719-bc8c-43c1-b9f8-81df788a0756",
   "metadata": {},
   "outputs": [
    {
     "data": {
      "text/plain": [
       "'te'"
      ]
     },
     "execution_count": 19,
     "metadata": {},
     "output_type": "execute_result"
    }
   ],
   "source": [
    "a = \"text\"\n",
    "\n",
    "a[0:2]"
   ]
  },
  {
   "cell_type": "markdown",
   "id": "66cebd73-d42f-43b2-ba12-aeda67a69711",
   "metadata": {},
   "source": [
    "Why is a[0] equivalent to a[0:1]?"
   ]
  },
  {
   "cell_type": "code",
   "execution_count": 20,
   "id": "0735c1bd-e483-4290-8f94-ef28778e2c8d",
   "metadata": {},
   "outputs": [
    {
     "name": "stdout",
     "output_type": "stream",
     "text": [
      "a[0] = t\n",
      "a[0:1] = t\n"
     ]
    }
   ],
   "source": [
    "print(\"a[0] =\", a[0])\n",
    "print(\"a[0:1] =\", a[0:1])"
   ]
  },
  {
   "cell_type": "markdown",
   "id": "360e3199-c210-4e76-ba46-1bcd0b49ae1e",
   "metadata": {},
   "source": [
    "You can start and end in the middle of a composite data type as well:"
   ]
  },
  {
   "cell_type": "code",
   "execution_count": 21,
   "id": "0673712d-9097-44ca-ab98-d8f5ba23ce0b",
   "metadata": {},
   "outputs": [
    {
     "name": "stdout",
     "output_type": "stream",
     "text": [
      " Huskies\n"
     ]
    }
   ],
   "source": [
    "a = \"Go Huskies!\"\n",
    "\n",
    "print(a[2:10])"
   ]
  },
  {
   "cell_type": "markdown",
   "id": "54d20bb2-e1ab-4a09-8968-634e2a48d053",
   "metadata": {},
   "source": [
    "If you do not include a number on either side of the ```:```, it will result in one of three things:\n",
    "    \n",
    "1. ```a[:end]``` - start at the first item (index 0) and get all items until (but not including) index ```end```\n",
    "2. ```a[start:]``` - start at index ```start``` (including start) and go all the way to the end of the composite (including the last item).\n",
    "3. ```a[:]``` - access all items in the composite\n",
    "\n",
    "This is often used in code and is not a \"bug\" or \"accident\", but make sure it is what you need to do for your purposes."
   ]
  },
  {
   "cell_type": "code",
   "execution_count": 22,
   "id": "bcb5365c-6199-4b9a-b32f-ee0610453039",
   "metadata": {},
   "outputs": [
    {
     "name": "stdout",
     "output_type": "stream",
     "text": [
      "a[:3] = Go \n",
      "a[3:] = Huskies!\n",
      "a[:] = Go Huskies!\n"
     ]
    }
   ],
   "source": [
    "a = \"Go Huskies!\"\n",
    "\n",
    "print(\"a[:3] =\", a[:3])\n",
    "print(\"a[3:] =\", a[3:])\n",
    "print(\"a[:] =\", a[:])"
   ]
  },
  {
   "cell_type": "markdown",
   "id": "51ce715e-2fd6-4bc1-bb20-64df5c4a5bea",
   "metadata": {},
   "source": [
    "## Chapter 2.4.3 - Practice Indexing and Slicing\n",
    "\n",
    "If given the following composite variable ```D```, answer the following questions in each cell using composite data type indexing and/or slicing. Do not just answer the question, provide code that outputs the answer using a print statement."
   ]
  },
  {
   "cell_type": "code",
   "execution_count": 23,
   "id": "b4659fe3-b23b-466f-8e97-a3bab5d6c95e",
   "metadata": {},
   "outputs": [],
   "source": [
    "D = \"GO HUSKIES\""
   ]
  },
  {
   "cell_type": "markdown",
   "id": "e78a62b2-95fb-4d8c-8ab1-9765ae28a810",
   "metadata": {},
   "source": [
    "What is the 3rd character in ```D```?"
   ]
  },
  {
   "cell_type": "code",
   "execution_count": null,
   "id": "51167ac2-349c-4009-aa8d-47a8c4be5940",
   "metadata": {},
   "outputs": [],
   "source": []
  },
  {
   "cell_type": "markdown",
   "id": "cbb69ccf-920a-4b73-a9a7-71f1d05d856f",
   "metadata": {},
   "source": [
    "What is value at the 6th index in ```D```?"
   ]
  },
  {
   "cell_type": "code",
   "execution_count": null,
   "id": "b7cf3ca1-0517-43aa-a0d0-22c7dcbc6791",
   "metadata": {},
   "outputs": [],
   "source": []
  },
  {
   "cell_type": "markdown",
   "id": "225f1ba2-5f38-4b49-b7f1-23f0a041ef80",
   "metadata": {},
   "source": [
    "How would I set a variable named t to the 8th character in ```D```?"
   ]
  },
  {
   "cell_type": "code",
   "execution_count": null,
   "id": "1a6383bd-de45-41b4-bbb9-07180ff2c312",
   "metadata": {},
   "outputs": [],
   "source": []
  },
  {
   "cell_type": "markdown",
   "id": "c2abd124-617e-405b-a301-a11eb6c81bb8",
   "metadata": {},
   "source": [
    "How would I output the string \"HUGO\" using the variable ```D```?"
   ]
  },
  {
   "cell_type": "code",
   "execution_count": null,
   "id": "27c98be3-aa38-4c38-8933-5d290c73c7bd",
   "metadata": {},
   "outputs": [],
   "source": []
  },
  {
   "cell_type": "markdown",
   "id": "62eac025-704c-47f5-970d-4c39b378d6d4",
   "metadata": {},
   "source": [
    "How would I set a variable named ```u``` concurrently to the first, second, and third items in ```D``` using slicing?"
   ]
  },
  {
   "cell_type": "code",
   "execution_count": null,
   "id": "6b3d8d09-4572-41c9-9765-24ba753a1e80",
   "metadata": {},
   "outputs": [],
   "source": []
  }
 ],
 "metadata": {
  "kernelspec": {
   "display_name": "Python 3 (ipykernel)",
   "language": "python",
   "name": "python3"
  },
  "language_info": {
   "codemirror_mode": {
    "name": "ipython",
    "version": 3
   },
   "file_extension": ".py",
   "mimetype": "text/x-python",
   "name": "python",
   "nbconvert_exporter": "python",
   "pygments_lexer": "ipython3",
   "version": "3.12.11"
  }
 },
 "nbformat": 4,
 "nbformat_minor": 5
}
