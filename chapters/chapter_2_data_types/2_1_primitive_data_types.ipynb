{
 "cells": [
  {
   "cell_type": "markdown",
   "id": "10381c1b-1ab4-463d-9d2e-c90a77c4f5be",
   "metadata": {
    "tags": []
   },
   "source": [
    "# Chapter 2.1 - Primitive data types\n",
    "\n",
    "There are four primitive data types we will discuss in this course. They are called primitives because they are the basic building blocks of all data in Python:\n",
    "\n",
    "1. [Integer](https://en.wikipedia.org/wiki/Integer_(computer_science)) - Examples: 1, 2, 3, 4, 5\n",
    "\n",
    "2. [Float](https://en.wikipedia.org/wiki/Floating-point_arithmetic) - Examples: 1.5, 2.1, 5.54332\n",
    "\n",
    "3. [Character](https://en.wikipedia.org/wiki/Character_(computing)) - Examples: \"a\", \"b\", \"z\"\n",
    "\n",
    "4. [Boolean](https://en.wikipedia.org/wiki/Boolean_data_type) - Examples: True, False"
   ]
  },
  {
   "cell_type": "markdown",
   "id": "46e04e36-6cf1-48f0-ae5b-a5e2577fac80",
   "metadata": {},
   "source": [
    "## Chapter 2.1.1 - int\n",
    "\n",
    "**Full name: integer**\n",
    "\n",
    "**Python keyword: [int](https://docs.python.org/3/library/functions.html#int)**\n",
    "\n",
    "**Python data type group: [numeric](https://docs.python.org/3/library/stdtypes.html#numeric-types-int-float-complex)**\n",
    "\n",
    "Integers (```int```) are whole numbers with no fractional parts and can be positive or negative. Math operations work as you would expect with ```int``` (and other ```numeric```) data types. For example, you could print the result of adding two ```int``` values. The result is also an ```int```."
   ]
  },
  {
   "cell_type": "code",
   "execution_count": 1,
   "id": "267dcc28-9e2d-47e1-96ef-4d649870a6ca",
   "metadata": {},
   "outputs": [
    {
     "name": "stdout",
     "output_type": "stream",
     "text": [
      "3\n"
     ]
    }
   ],
   "source": [
    "print(1 + 2)"
   ]
  },
  {
   "cell_type": "markdown",
   "id": "0118aec6-6299-40bf-949f-d159203ae0a4",
   "metadata": {},
   "source": [
    "In Python, ```int``` is the most basic ```numeric``` data type. The newest versions of Python handle most of the details of implementing the built-in ```int``` data type, but there are some issues you may have to consider if you use Python 2 ([which has been retired since 2020](https://www.python.org/doc/sunset-python-2/#:~:text=We%20are%20volunteers%20who%20make,as%20soon%20as%20you%20can.)). Since you are unlikely to use Python 2 in your career, we will not examine those issues. When we eventually use more complex Python packages, we will revisit different types of integers that some packages may implement. \n",
    "\n",
    "There is no minimum or maximum number for integers, per se, but there are some issues we could run into for more complex packages and/or use cases. We will cover these issues later in the course.\n",
    "\n",
    "**Mathematical Operations**\n",
    "\n",
    "The most common mathematical operations you will use with ```int``` data include (Table 2.1.t1):\n",
    "\n",
    "<figcaption>Table 2.1.t1 - Common mathematical operations in Python</figcaption>\n",
    "\n",
    "|Operation | Description | Notes |\n",
    "|:- |:- |:- |\n",
    "|```1 + 2```| The sum of 1 and 2||\n",
    "|```1 - 2```| The difference of 1 and 2||\n",
    "|```1 * 2```| The product of 1 and 2||\n",
    "|```1 / 2```| The quotient of 1 and 2|Will automatically turn into a ```float```|\n",
    "\n",
    "**Your turn**: Try to modify the following code blocks to see how your answers change."
   ]
  },
  {
   "cell_type": "code",
   "execution_count": 2,
   "id": "81abad93-a6a9-4b6e-aca9-14063a61300b",
   "metadata": {},
   "outputs": [
    {
     "name": "stdout",
     "output_type": "stream",
     "text": [
      "The sum of 1 and 2 is 3\n",
      "The difference of 1 and 2 is -1\n",
      "The product of 1 and 2 is 2\n",
      "The quotient of 1 and 2 is 0.5\n"
     ]
    }
   ],
   "source": [
    "print(\"The sum of 1 and 2 is\", 1 + 2)\n",
    "print(\"The difference of 1 and 2 is\", 1 - 2)\n",
    "print(\"The product of 1 and 2 is\", 1 * 2)\n",
    "print(\"The quotient of 1 and 2 is\", 1 / 2)"
   ]
  },
  {
   "cell_type": "markdown",
   "id": "853ee7c9-1539-43ec-b704-d0b8b7017ae8",
   "metadata": {},
   "source": [
    "## Chapter 2.1.2 - Defining variables\n",
    "\n",
    "While you can use explicit (actual) numbers for mathematical and other operations, you will almost always be using variables instead. Variables, much like those used in your math courses, are *placeholders* for values. You might ask \"why would we need variables if we can just use the actual numbers?!\". The answer is *generalizability*. \n",
    "\n",
    "What if we need to create a program that allows a user to use an equation that could handle any possible integer? We do not have time to code *every* possible combination of numbers that the user might decide to use. In fact, it might be easier to control what values *cannot* be used. Instead, we use placeholders that can *vary* (i.e., variables) depending on the state of the program and/or decisions made by the user.\n",
    "\n",
    "As was mentioned in chapter 2.0.4, variables retain the values they were assigned by the programmer as long as the program is running. Thus, as long as you define the correct value, it can be used as many times as you need. This idea is similar to how our brains develop the ability to understand [object permanence](https://en.wikipedia.org/wiki/Object_permanence). In other words, we can assume that an object that once existed still exists even if we cannot see the object. In Python terms, if you define a variable \"earlier\" in the program, you can assume that variable still exists \"later\" in the program. In other words, the [state](https://en.wikipedia.org/wiki/State_(computer_science)) of the program is remembered and persists as long as the program is running.\n",
    "\n",
    "The most basic pattern for defining variables is as follows (NOTE: the text and brackets just describes the item at that position, do not use brackets in this situation):\n",
    "\n",
    "```\n",
    "[variable name] = [operation]\n",
    "```\n",
    "\n",
    "The name of the variable can contain any alphanumeric character:\n",
    "\n",
    "```ABCDEFGHIJKLMNOPQRSTUVWXYZabcdefghijklmnopqrstuvwxyz0123456789```\n",
    "\n",
    "However, variable names are constrained by some strict limitations and styling guidelines (Table 2.1.t2). A typical Python variable has a simple, lowercase name that splits two or more words using an underscore (```_```). For example: ```split_words_using_underscore```. Some languages use [\"Camel Case\"](https://en.wikipedia.org/wiki/Camel_case) for their variable names, where words are separated using capital letters. For example ```CamelCase``` or ```TempF```. This is allowed, but is not preferred in Python scripts.\n",
    "\n",
    "<figcaption>Table 2.1.t2 - Types of possible variable names to avoid.</figcaption>\n",
    "\n",
    "|Type|Notes|Example|\n",
    "|:-|:-|:-|\n",
    "|[keywords](https://docs.python.org/3/reference/lexical_analysis.html#keywords)|Not allowed and will produce an error.|```and = 1```|\n",
    "|[built-in constants](https://docs.python.org/3/library/constants.html)|Not allowed and will produce an error.|```False = 2```|\n",
    "|names that start with a number|Not allowed and will produce an error.|```1abc = 3```|\n",
    "|[built-in functions](https://docs.python.org/3/library/functions.html)|Allowed (sometimes) but strongly discouraged. Do not use.|```len = 5```|\n",
    "|names with *, **, or other operators|Allowed in some cases, but will usually produce an error. Do not use.|```**a = 1```|\n",
    "|names with l, O, 0, 1|Allowed but discouraged. Produces confusion.|```l0O1llO0 = \"what?\"```|\n",
    "|uppercase letters|Allowed but discouraged, unless defining a \"constant\" variable, a class, or other limited situations.|```MY_VARIABLE = 3.14 #???``` vs ```PI = 3.14 #OK```|\n",
    "|long names exceeding 79 characters|Allowed but discouraged. Produces confusion.|```this_is_a_really_long_variable_name = False```|\n",
    "|names with one or two letters|Allowed but discouraged, unless counting or is self describing.|```x = 9.8066 #???``` vs. ```G = 9.8066 #gravity```|\n",
    "\n",
    "Here is a demonstration of defining a variable. \n",
    "\n",
    "```\n",
    "month = 8\n",
    "```\n",
    "\n",
    "You can see on the left side of the ```=```, there is a variable name that adheres to the requirements in Table 2.1.t2. On the right side of the ```=```, there is an ```int```. As you may recall from section 2.0.4, the right side of the ```=``` is evaluated before the left side. Thus, the steps going on in the background are (very generally) as follows:\n",
    "\n",
    "1. Python determines if there are any syntax errors (errors in the code), if so, do not run the code but do provide an error message.\n",
    "2. Python prepares a memory location that will be represented for the programmer by the variable name ```month```. The specific details are determined by the data type.\n",
    "3. The value on the right is evaluated until it becomes a basic data type (e.g., ```int```). In other words, if there are mathematical or other operations, they will first be processed and reduced to their most basic representation. In this case, it was already as simple as possible. In more advanced situations, you can define variables as ```functions``` or ```objects```, but we will discuss this later in the course.\n",
    "4. The memory location represented by the variable name ```month``` is assigned the ```int``` value of 8.\n",
    "5. Following rule 1 (section 2.0.4), ```month``` (and its corresponding memory location) will be equal to 8 until the program changes its value or the program is closed.\n",
    "\n",
    "As was discussed in class, the \"memory location\" is within the computer's [Random-Access Memory (RAM)](https://en.wikipedia.org/wiki/Random-access_memory), and is not automatically saved to your hard drive. Once the program is closed, or the computer is turned off, the value associated with the variable is lost. This is a very common action (how often do you close programs? or turn your computer off?), so using Python code to \"save\" the steps to reproduce defining the variable is important for allowing your ideas, thoughts, and workflow to persist through more than one program / computer cycle. People often like to think of code as a recipe--as long as you know how Grandma Goody made her cookies, you can make them as many times as you want. The alternative is to just eat them once and never know how to make them again!\n",
    "\n",
    "Below are working Python code examples of setting 4 variables with 4 operations, and then displaying (\"printing\") the value for each variable."
   ]
  },
  {
   "cell_type": "code",
   "execution_count": 3,
   "id": "b66964ec-f793-4478-a7ed-3289fc7d85fd",
   "metadata": {},
   "outputs": [
    {
     "name": "stdout",
     "output_type": "stream",
     "text": [
      "The sum of 1 and 2 is 3\n",
      "The difference of 1 and 2 is -1\n",
      "The product of 1 and 2 is 2\n",
      "The quotient of 1 and 2 is 0.5\n"
     ]
    }
   ],
   "source": [
    "sum_result = 1 + 2\n",
    "diff_result = 1 - 2\n",
    "prod_result = 1 * 2\n",
    "quot_result = 1 / 2\n",
    "\n",
    "print(\"The sum of 1 and 2 is\", sum_result)\n",
    "print(\"The difference of 1 and 2 is\", diff_result)\n",
    "print(\"The product of 1 and 2 is\", prod_result)\n",
    "print(\"The quotient of 1 and 2 is\", quot_result)"
   ]
  },
  {
   "cell_type": "markdown",
   "id": "2c213743-c345-42d4-88ee-a8e188bac6ab",
   "metadata": {},
   "source": [
    "## Chapter 2.1.3 - Counting with Integers\n",
    "\n",
    "Many tasks require you to define and maintain a variable that keeps track of a count. For example, you might want to keep track of how often an [EF5 tornado](https://en.wikipedia.org/wiki/List_of_F5,_EF5,_and_IF5_tornadoes#EF5_tornadoes) occurs in a list of tornado events. \n",
    "\n",
    "Imagine that you have a Python program written that can determine if an entry in a tornado dataset is an EF5 tornado or not. The specifics of that program are not important right now, except for the variable that helps you keep track of the number of EF5 tornadoes. \n",
    "\n",
    "The typical pattern for counting is to start at zero. Why? Logically, we start with the assumption of zero EF5 tornadoes and [initialize](https://en.wikipedia.org/wiki/Initialization_(programming)) the counting variable by setting it equal to value of 0."
   ]
  },
  {
   "cell_type": "code",
   "execution_count": 4,
   "id": "a69389fe-fb2a-4c9d-938f-7b481c9c9644",
   "metadata": {},
   "outputs": [],
   "source": [
    "ef5_tornado_count = 0"
   ]
  },
  {
   "cell_type": "markdown",
   "id": "82fef06c-c253-4fb8-856a-46139b3b180f",
   "metadata": {},
   "source": [
    "Now, we have code that runs and checks each line in a database. Let's imagine that there was a detection of an EF5 tornado, and we need to increase the count by 1 ([increment](https://en.wikipedia.org/wiki/Increment_and_decrement_operators)). How would we do that? You might say that we just set the counting variable to 1:"
   ]
  },
  {
   "cell_type": "code",
   "execution_count": 5,
   "id": "ce8b8c7a-a538-422e-9aa5-1380f95c8c59",
   "metadata": {},
   "outputs": [],
   "source": [
    "ef5_tornado_count = 1"
   ]
  },
  {
   "cell_type": "markdown",
   "id": "63a401d4-eb29-4483-acae-7aa079f672d2",
   "metadata": {},
   "source": [
    "This works for changing the variable from 0 to 1, but what about from 1 to 2?"
   ]
  },
  {
   "cell_type": "code",
   "execution_count": 6,
   "id": "fad59968-3b0f-41ce-9484-f11d8d17b2c5",
   "metadata": {},
   "outputs": [],
   "source": [
    "ef5_tornado_count = 2"
   ]
  },
  {
   "cell_type": "markdown",
   "id": "b89f500a-789d-42bc-86d5-a5caaf6ddc64",
   "metadata": {},
   "source": [
    "Let's say that there are 1 million events detected, would we really have to type out something like the following code and every ```int``` before this?"
   ]
  },
  {
   "cell_type": "code",
   "execution_count": 7,
   "id": "69588726-b2d3-47d5-bf07-cfb53d8b795a",
   "metadata": {},
   "outputs": [],
   "source": [
    "ef5_tornado_count = 1000000"
   ]
  },
  {
   "cell_type": "markdown",
   "id": "d338f86c-04df-4f75-b90d-ce2be890c491",
   "metadata": {},
   "source": [
    "Instead, think of the logic associated with each time the count is increased. That specific process only requires that you answer the following two questions:\n",
    "\n",
    "1. What is the current count?\n",
    "2. How do I add 1 to the current count?\n",
    "\n",
    "We have already explored how we would add 1 to a variable and print the result:"
   ]
  },
  {
   "cell_type": "code",
   "execution_count": 8,
   "id": "171d0249-8187-408f-9ffe-32512a2107ea",
   "metadata": {},
   "outputs": [
    {
     "name": "stdout",
     "output_type": "stream",
     "text": [
      "6\n"
     ]
    }
   ],
   "source": [
    "x = 5\n",
    "\n",
    "print(x + 1)"
   ]
  },
  {
   "cell_type": "markdown",
   "id": "229a346a-d053-422a-ab60-dc25fa4b286c",
   "metadata": {},
   "source": [
    "However, we have not covered how to modify the value of a variable. Examine the following code. Can you explain *why* the code produces the output that it does?"
   ]
  },
  {
   "cell_type": "code",
   "execution_count": 9,
   "id": "38255a9a-2231-4b42-a76a-e175c0d3b583",
   "metadata": {},
   "outputs": [
    {
     "name": "stdout",
     "output_type": "stream",
     "text": [
      "6\n",
      "5\n"
     ]
    }
   ],
   "source": [
    "x = 5\n",
    "\n",
    "print(x + 1)\n",
    "\n",
    "print(x)"
   ]
  },
  {
   "cell_type": "markdown",
   "id": "86f36cba-c809-473e-aa87-f403f0a8c9b2",
   "metadata": {},
   "source": [
    "The ```print``` statement does exactly what you think it does (OK, it does not print something out of the printer in the hall). It simply processes the code within the parentheses and then displays the result below the Python code. It does not modify the variable in any way because there is no ```=``` operator.\n",
    "\n",
    "**Rule 1: values are not changed unless you use an equal sign (```=```) to set a new value.**\n",
    "\n",
    "Can you explain each line of output below? What Python operations are performed to produce the output?"
   ]
  },
  {
   "cell_type": "code",
   "execution_count": 10,
   "id": "5075fa72-810e-4223-a1ef-d687e1e8f1a8",
   "metadata": {},
   "outputs": [
    {
     "name": "stdout",
     "output_type": "stream",
     "text": [
      "1\n",
      "2\n"
     ]
    }
   ],
   "source": [
    "x = 1\n",
    "\n",
    "print(x)\n",
    "\n",
    "x = 2\n",
    "\n",
    "print(x)"
   ]
  },
  {
   "cell_type": "markdown",
   "id": "37cc4e25-d8c0-4264-8198-510142c22f4d",
   "metadata": {},
   "source": [
    "If we want to keep track of the count **and** add one to the count, we need to use Rule 1 and Rule 2.\n",
    "\n",
    "**Rule 2: everything to the right of an equal sign (```=```) is evaluated first.**\n",
    "\n",
    "If the value does not change until we use an equal sign, and the right side is evaluated first, we can redefine a variable using an operation that includes a variable that appears on both sides of the ```=``` operator! Since the right side is evaluated first (Rule 2), we just need to add 1 to the current count using a mathematical operation, and then use that result to modify the variable (Rule 1). \n",
    "\n",
    "The two rules are why the following code is possible and we do not have to manually type out every possible ```int```. All we need to know is how to add 1 to a variable and how to redefine that variable."
   ]
  },
  {
   "cell_type": "code",
   "execution_count": 11,
   "id": "562fa719-bc8c-43c1-b9f8-81df788a0756",
   "metadata": {},
   "outputs": [
    {
     "name": "stdout",
     "output_type": "stream",
     "text": [
      "Number of EF5 tornadoes: 0\n",
      "Number of EF5 tornadoes: 1\n",
      "Number of EF5 tornadoes: 2\n",
      "Number of EF5 tornadoes: 3\n"
     ]
    }
   ],
   "source": [
    "ef5_tornado_count = 0\n",
    "\n",
    "print(\"Number of EF5 tornadoes:\", ef5_tornado_count)\n",
    "\n",
    "ef5_tornado_count = ef5_tornado_count + 1 # rule 2 + rule 1\n",
    "\n",
    "print(\"Number of EF5 tornadoes:\", ef5_tornado_count)\n",
    "\n",
    "ef5_tornado_count = ef5_tornado_count + 1 # rule 2 + rule 1\n",
    "\n",
    "print(\"Number of EF5 tornadoes:\", ef5_tornado_count)\n",
    "\n",
    "ef5_tornado_count = ef5_tornado_count + 1 # rule 2 + rule 1\n",
    "\n",
    "print(\"Number of EF5 tornadoes:\", ef5_tornado_count)"
   ]
  },
  {
   "cell_type": "markdown",
   "id": "f4ffbe9e-ddd0-489d-93ec-41eb6189923a",
   "metadata": {},
   "source": [
    "However, you cannot have two variable assignments on the same line, since the expression on the right side:"
   ]
  },
  {
   "cell_type": "code",
   "execution_count": 12,
   "id": "22b29609-ff55-49ec-9e51-6d1806f3fe1a",
   "metadata": {},
   "outputs": [
    {
     "ename": "SyntaxError",
     "evalue": "cannot assign to expression (3543639842.py, line 1)",
     "output_type": "error",
     "traceback": [
      "\u001b[0;36m  Cell \u001b[0;32mIn[12], line 1\u001b[0;36m\u001b[0m\n\u001b[0;31m    a = a + 1 = a + 1\u001b[0m\n\u001b[0m        ^\u001b[0m\n\u001b[0;31mSyntaxError\u001b[0m\u001b[0;31m:\u001b[0m cannot assign to expression\n"
     ]
    }
   ],
   "source": [
    "a = a + 1 = a + 1"
   ]
  },
  {
   "cell_type": "markdown",
   "id": "74edcda0-8b96-4e25-b89f-9f52b65ddf0e",
   "metadata": {},
   "source": [
    "If you are wondering why this is the case, consider the following \"variable\" definition. It is not clear what variable is being redefined on the left side. Thus, Python has strictly outlawed this possibility."
   ]
  },
  {
   "cell_type": "code",
   "execution_count": 13,
   "id": "2de1e08c-1491-403c-ae9d-0841e713ed32",
   "metadata": {},
   "outputs": [
    {
     "ename": "SyntaxError",
     "evalue": "cannot assign to expression here. Maybe you meant '==' instead of '='? (2589804235.py, line 4)",
     "output_type": "error",
     "traceback": [
      "\u001b[0;36m  Cell \u001b[0;32mIn[13], line 4\u001b[0;36m\u001b[0m\n\u001b[0;31m    a + b = 3\u001b[0m\n\u001b[0m    ^\u001b[0m\n\u001b[0;31mSyntaxError\u001b[0m\u001b[0;31m:\u001b[0m cannot assign to expression here. Maybe you meant '==' instead of '='?\n"
     ]
    }
   ],
   "source": [
    "a = 1\n",
    "b = 2\n",
    "\n",
    "a + b = 3"
   ]
  },
  {
   "cell_type": "markdown",
   "id": "206e3e38-4f4d-45be-a9e1-e4f6a01911a5",
   "metadata": {},
   "source": [
    "## Chapter 2.1.4 - float \n",
    "\n",
    "**Full name: floating-point**\n",
    "\n",
    "**Python keyword: [float](https://docs.python.org/3/library/functions.html#float)**\n",
    "\n",
    "**Python data type group: [numeric](https://docs.python.org/3/library/stdtypes.html#numeric-types-int-float-complex)**\n",
    "\n",
    "Floats ([floating point numbers](https://en.wikipedia.org/wiki/Floating-point_arithmetic)) are numbers with fractional parts and can be positive or negative. They are used whenever decimal precision is needed. \n",
    "\n",
    "Unlike ```int```, floats need to be able to represent decimals that can have an infinite number of digits. As such, floats are only as accurate as the level of precision that is implemented in the programming language. In Python, [floats are 64 bit \"doubles\"](https://docs.python.org/3/library/stdtypes.html#numeric-types-int-float-complex) ([double precision](https://en.wikipedia.org/wiki/Double-precision_floating-point_format)) by default. This gives you ~15 useful digits, which is more than enough for the activities in this course. Extra precision can be gained by representing the decimal as a fraction of two ```int```, which have unlimited precision. For example, ```1 / 3``` instead of ```0.3333333333333333```. While floats might appear to be continuous, they actually occur on intervals that surprisingly change depending on if the number is very low or very high.\n",
    "\n",
    "For example, if we printed out the decimal 0.01, we would get the following:"
   ]
  },
  {
   "cell_type": "code",
   "execution_count": 14,
   "id": "7e2e6bf0-db75-4a99-9e8c-3b9509986a66",
   "metadata": {},
   "outputs": [
    {
     "name": "stdout",
     "output_type": "stream",
     "text": [
      "0.1\n"
     ]
    }
   ],
   "source": [
    "a = 0.1\n",
    "\n",
    "print(a)"
   ]
  },
  {
   "cell_type": "markdown",
   "id": "914abccf-16b4-468b-9043-be9366eccab7",
   "metadata": {},
   "source": [
    "Which is what we would expect! \n",
    "\n",
    "However, this is a truncated version of the *actual* floating point value from the nearest interval value to 0.1. If we printed out the *full* floating-point number, we will see an unintuitive result. The structure of the Python code below will be discussed later in the section on ```strings```. In short, the code asks the computer to \"give me the ```float``` number that is not truncated before 20 digits\"."
   ]
  },
  {
   "cell_type": "code",
   "execution_count": 15,
   "id": "d949446a-b683-4bae-b04c-219e69aed66e",
   "metadata": {},
   "outputs": [
    {
     "name": "stdout",
     "output_type": "stream",
     "text": [
      "a (truncated) = 0.1 a (20 digit precision) = 0.10000000000000000555\n",
      "b (truncated) = 0.2 b (20 digit precision) = 0.2000000000000000111\n",
      "c (truncated) = 0.3 c (20 digit precision) = 0.2999999999999999889\n"
     ]
    }
   ],
   "source": [
    "a = 0.1 \n",
    "b = 0.2 \n",
    "c = 0.3\n",
    "\n",
    "print(\"a (truncated) =\", a, \"a (20 digit precision) =\", f\"{a:.20g}\")\n",
    "print(\"b (truncated) =\", b, \"b (20 digit precision) =\", f\"{b:.20g}\")\n",
    "print(\"c (truncated) =\", c, \"c (20 digit precision) =\", f\"{c:.20g}\")"
   ]
  },
  {
   "cell_type": "markdown",
   "id": "870c90ad-2be6-442e-8ee5-25568167ec5f",
   "metadata": {},
   "source": [
    "You will notice that this \"rounding error\" slightly changes depending on the number and can be slightly higher or lower than the expected number. This is due to how decimals are represented--namely, there is a local interval of existing decimals depending on the precision of the ```float``` in the programming language (e.g., float16, float32, float64, etc., will all have different intervals), and the *actual* number is just the closest existing number. However, you usually do not need 20 digits of precision, so these unintuitive \"rounding errors\" do not impact your workflow, *most of the time*.\n",
    "\n",
    "Here is an example of a simulated floating-point interval.\n",
    "\n",
    "```0.1, 0.2, 0.3, 0.4, 0.5, 0.6, 0.7, 0.8, 0.9, 1```\n",
    "\n",
    "If a programmer provides the number ```0.1001```, the float representation would be ```0.1```. This is a very simplified version, but it gives you an idea of what is happening behind the scenes once you start examining many decimal places of precision.\n",
    "\n",
    "There are some considerations that you need to keep in mind, including: \n",
    "\n",
    "1. Because of rounding errors, ```float``` numbers that seem to be equal may actually have very small differences. ```int``` values can be directly compared (i.e., are these two ```int``` exactly equal?), but ```float``` numbers must be compared to a given level of precision (i.e., are these two ```float``` equal within +/- 0.00001?). For this reason, you should use ```int``` for counting and other situations where numbers need to be directly compared (e.g., are there exactly 10 EF5 tornadoes?).\n",
    "   \n",
    "2. If several calculations are performed, the errors can begin to accumulate, and two seemingly identical approaches can start to diverge at fewer and fewer decimal places.\n",
    "\n",
    "Here is an example, where the floating-point \"rounding errors\" from ```0.1``` accumulate from multiple additions, and ```0.3``` is rounded down to the nearest floating-point interval, causing ```a``` and ```b``` to be slightly different, which is an unexpected result!"
   ]
  },
  {
   "cell_type": "code",
   "execution_count": 16,
   "id": "d7c605d4-8d76-41ed-8695-8dfb71562d00",
   "metadata": {},
   "outputs": [
    {
     "name": "stdout",
     "output_type": "stream",
     "text": [
      "a = 0.2999999999999999889 b = 0.30000000000000004441\n",
      "is a equal to b? False\n"
     ]
    }
   ],
   "source": [
    "a = 0.3\n",
    "\n",
    "b = 0.1 + 0.1 + 0.1\n",
    "\n",
    "print(f\"a = {a:.20g}\", f\"b = {b:.20g}\")\n",
    "print(\"is a equal to b?\", a == b)"
   ]
  },
  {
   "cell_type": "markdown",
   "id": "f43fe791-c64d-45cd-b7bc-8f1183f680cf",
   "metadata": {},
   "source": [
    "To compare these types of numbers, you need to use a ```function``` like ```isclose```. We will talk about ```functions``` in great detail later in the course, but the basic explanation is it simplifies several lines of code into one line of code to make it easier for a programmer to use."
   ]
  },
  {
   "cell_type": "code",
   "execution_count": 17,
   "id": "01539acf-e1ad-4378-baca-c356d3e4b542",
   "metadata": {},
   "outputs": [
    {
     "name": "stdout",
     "output_type": "stream",
     "text": [
      "a = 0.2999999999999999889 b = 0.30000000000000004441\n",
      "is a almost equal to b? True\n"
     ]
    }
   ],
   "source": [
    "from math import isclose\n",
    "\n",
    "print(f\"a = {a:.20g}\", f\"b = {b:.20g}\")\n",
    "print(\"is a almost equal to b?\", isclose(a, b))"
   ]
  },
  {
   "cell_type": "markdown",
   "id": "ad32f7d7-a7e0-4d85-9ae7-c8c89a7ced1a",
   "metadata": {},
   "source": [
    "## Chapter 2.1.5 - Operations using both float and int\n",
    "\n",
    "Python 3 will automatically convert from ```int``` to ```float``` when needed. This means you do not have to worry about the specific details and differences between ```int``` and ```float```, except that Python will always convert the result to ```float```. \n",
    "\n",
    "In one common situation, you might have mixed data types. In this case ```a``` is an ```int``` and ```b``` is a ```float```. You can quickly tell the difference due to the lack or presence of decimals when printed. The result is a ```float```, so all of the caveats associated with that data type must be considered."
   ]
  },
  {
   "cell_type": "code",
   "execution_count": 18,
   "id": "60b12e51-49c4-4ec8-a912-ce60e27117d0",
   "metadata": {},
   "outputs": [
    {
     "name": "stdout",
     "output_type": "stream",
     "text": [
      "a = 1 b = 1.5\n",
      "a + b = 2.5\n"
     ]
    }
   ],
   "source": [
    "a = 1\n",
    "b = 1.5\n",
    "\n",
    "print(\"a =\", a, \"b =\", b)\n",
    "\n",
    "print(\"a + b =\", a + b)"
   ]
  },
  {
   "cell_type": "markdown",
   "id": "07ce1500-9bdd-48fa-80d6-ff61ae5612e0",
   "metadata": {},
   "source": [
    "The next situation might seem unexpected at first, but makes sense when you think about the end result. You can have an equation that includes *no* ```float``` numbers, but produces a ```float``` result. This happens when you divide two or more ```int``` numbers. It is possible that the result is not a whole number, and thus, needs to be represented with decimals."
   ]
  },
  {
   "cell_type": "code",
   "execution_count": 19,
   "id": "39d16efc-78f1-4d19-a880-d1e378a7aae1",
   "metadata": {},
   "outputs": [
    {
     "name": "stdout",
     "output_type": "stream",
     "text": [
      "4.333333333333333\n"
     ]
    }
   ],
   "source": [
    "a = 1\n",
    "b = 3\n",
    "c = 4\n",
    "d = 6\n",
    "e = 0\n",
    "f = 12\n",
    "\n",
    "# All integers\n",
    "my_mean = (a + b + c + d + e + f) / 6\n",
    "\n",
    "print(my_mean)"
   ]
  },
  {
   "cell_type": "markdown",
   "id": "3085b64d-831c-4376-8f26-90a15f93f700",
   "metadata": {},
   "source": [
    "The result is the same if you use all ```float``` numbers:"
   ]
  },
  {
   "cell_type": "code",
   "execution_count": 20,
   "id": "05f71215-c027-4d21-a5ef-7bd311ef27cc",
   "metadata": {},
   "outputs": [
    {
     "name": "stdout",
     "output_type": "stream",
     "text": [
      "4.333333333333333\n"
     ]
    }
   ],
   "source": [
    "a = 1.0\n",
    "b = 3.0\n",
    "c = 4.0\n",
    "d = 6.0\n",
    "e = 0.0\n",
    "f = 12.0\n",
    "\n",
    "# All floats\n",
    "my_mean = (a + b + c + d + e + f) / 6\n",
    "\n",
    "print(my_mean)"
   ]
  },
  {
   "cell_type": "markdown",
   "id": "9fb7a7ee-721e-455c-8b75-9c0db436bf99",
   "metadata": {},
   "source": [
    "It is also the same if you use a mixure of ```int``` and ```float``` numbers:"
   ]
  },
  {
   "cell_type": "code",
   "execution_count": 21,
   "id": "e5ee12ad-635c-450e-a9b6-0f2ca13e3774",
   "metadata": {},
   "outputs": [
    {
     "name": "stdout",
     "output_type": "stream",
     "text": [
      "4.333333333333333\n"
     ]
    }
   ],
   "source": [
    "a = 1\n",
    "b = 3.0\n",
    "c = 4\n",
    "d = 6.0\n",
    "e = 0\n",
    "f = 12.0\n",
    "\n",
    "# All floats\n",
    "my_mean = (a + b + c + d + e + f) / 6\n",
    "\n",
    "print(my_mean)"
   ]
  },
  {
   "cell_type": "markdown",
   "id": "c37ee484-52a3-45b6-ba1c-93be2ec5ab38",
   "metadata": {},
   "source": [
    "In the geosciences, you will be working with ```float``` numbers often. For example, you may want to convert between temperature scales or test if an earthquake exceeds a particular magnitude. Thus, it is important that you remember the quirks associated with this data type."
   ]
  },
  {
   "cell_type": "markdown",
   "id": "0b5defd8-0f24-4ba3-baa7-13979b1e6d80",
   "metadata": {},
   "source": [
    "## Chapter 2.1.6 - bool\n",
    "\n",
    "**Full name: [boolean](https://en.wikipedia.org/wiki/Boolean_data_type)**\n",
    "\n",
    "**keyword: ```bool```**\n",
    "\n",
    "**Python data group: numeric**\n",
    "\n",
    "Booleans are used for testing conditions and can be one of two values: ```True``` or ```False```. In Python, they are a special subset of ```int``` that associate the value 0 with ```False``` and the value 1 with ```True```:"
   ]
  },
  {
   "cell_type": "code",
   "execution_count": 22,
   "id": "013d7922-bf2b-4c96-a0a1-6b7c93d80444",
   "metadata": {},
   "outputs": [
    {
     "name": "stdout",
     "output_type": "stream",
     "text": [
      "Is 1 equal to True? True\n",
      "Is 0 equal to False? True\n"
     ]
    }
   ],
   "source": [
    "print(\"Is 1 equal to True?\", 1 == True)\n",
    "print(\"Is 0 equal to False?\", 0 == False)"
   ]
  },
  {
   "cell_type": "markdown",
   "id": "65f617b7-d13a-4791-9a01-7937ca60b367",
   "metadata": {},
   "source": [
    "However, you should not use ```bool``` in place of ```int```."
   ]
  },
  {
   "cell_type": "markdown",
   "id": "f13cdda1-c426-4e03-a64c-a311a7dfcf11",
   "metadata": {},
   "source": [
    "```bool``` are used for a logical test or combinations of logical tests.\n",
    "\n",
    "Tests are performed using [boolean operators](https://en.wikipedia.org/wiki/Boolean_expression#Boolean_operators).\n",
    "\n",
    "There are 6 common boolean operators (Table 2.1.t3):\n",
    "\n",
    "<figcaption>Table 2.1.t3 - Common boolean operators</figcaption>\n",
    "\n",
    "|Operator|Description|Example of ```True```|Example of ```False```|\n",
    "|:-|:-|:-|:-|\n",
    "|==|exactly equal to|1 == 1|1 == 2|\n",
    "|!=|not equal to|1 != 2| 1 != 1|\n",
    "|<|less than|1 < 2|2 < 1|\n",
    "|<=|less than or exactly equal to|1 <= 1| 2 <= 1|\n",
    "|>|greater than|2 > 1|1 > 2|\n",
    "|>=|greater than or equal to|1 >= 1| 1 >= 2|\n",
    "\n",
    "\n",
    "Code example: Is a number larger than another number?"
   ]
  },
  {
   "cell_type": "code",
   "execution_count": 23,
   "id": "82198975-100e-4657-aa14-54bc1cf5771d",
   "metadata": {},
   "outputs": [
    {
     "name": "stdout",
     "output_type": "stream",
     "text": [
      "True\n"
     ]
    }
   ],
   "source": [
    "condition = 2 > 1\n",
    "\n",
    "print(condition)"
   ]
  },
  {
   "cell_type": "code",
   "execution_count": 24,
   "id": "6138fafa-50c4-4ae9-9600-1629c0def7e6",
   "metadata": {},
   "outputs": [
    {
     "name": "stdout",
     "output_type": "stream",
     "text": [
      "False\n"
     ]
    }
   ],
   "source": [
    "condition = 2 < 1\n",
    "\n",
    "print(condition)"
   ]
  },
  {
   "cell_type": "markdown",
   "id": "a2e22c28-a16d-4760-b9e8-5bfe97188bff",
   "metadata": {},
   "source": [
    "Code examples: Compare two variables"
   ]
  },
  {
   "cell_type": "code",
   "execution_count": 25,
   "id": "bc7ddb8e-b0f6-4325-b37f-74f64eccf69d",
   "metadata": {},
   "outputs": [
    {
     "name": "stdout",
     "output_type": "stream",
     "text": [
      "False\n",
      "False\n",
      "True\n",
      "True\n",
      "False\n",
      "True\n"
     ]
    }
   ],
   "source": [
    "a = 1\n",
    "b = 2\n",
    "\n",
    "print(a > b)\n",
    "print(a >= b)\n",
    "print(a < b)\n",
    "print(a <= b)\n",
    "print(a == b)\n",
    "print(a != b)"
   ]
  },
  {
   "cell_type": "markdown",
   "id": "0aa00ecc-779e-4752-8e53-f49a9dafc40e",
   "metadata": {},
   "source": [
    "For more complex situations, we can combine multiple boolean tests using [bitwise operators](https://docs.python.org/3/library/stdtypes.html#bitwise-operations-on-integer-types): \n",
    "\n",
    "1. ```&``` - the \"and\" operator. This requires the right and left side to be ```True``` for the result to be ```True```. Otherwise the result is False.\n",
    "2. ```|``` - the \"or\" operator. This requires at least one side to be ```True``` for the result to be ```True```. Otherwise, the result is False.\n",
    "\n",
    "When we combine multiple tests, we need to put parentheses around tests in a way that assures comparisons are done in the order we want. The order of tests starts from the \"innermost\" parentheses like you would expect in a mathematical expression.\n",
    "\n",
    "We will learn more about tests and combination operators when we discuss ```if```, ```elif```, ```else``` statements.\n",
    "\n",
    "**Ungraded exercise** -- Run the following code. Identify each individual boolean test and set them equal to the variables ```d```, ```e```, ```f```, and ```g```. Use these new variables as replacements for the boolean tests to reproduce the output. Next, try to modify the values for ```a```, ```b```, and ```c```, as well as the boolean tests and bitwise operators to produce different results."
   ]
  },
  {
   "cell_type": "code",
   "execution_count": 26,
   "id": "a2e9827b-c0ab-4903-baaa-03a0ed5eb55c",
   "metadata": {},
   "outputs": [
    {
     "name": "stdout",
     "output_type": "stream",
     "text": [
      "False\n",
      "True\n"
     ]
    }
   ],
   "source": [
    "a = 1\n",
    "b = 2\n",
    "c = 3\n",
    "\n",
    "print((a >= 1) & (b > c))\n",
    "print((a >= 1) | (b > c))"
   ]
  },
  {
   "cell_type": "markdown",
   "id": "8c3a8ba5-f4e5-462b-b543-e149d69cd1bc",
   "metadata": {},
   "source": [
    "## Chapter 2.1.7 - Summary\n",
    "\n",
    "Primitive data types form the foundation of most programming languages, including Python. Becoming comfortable with these data types will help you to better understand more complex topics in Python."
   ]
  }
 ],
 "metadata": {
  "kernelspec": {
   "display_name": "Python [conda env:geo] *",
   "language": "python",
   "name": "conda-env-geo-py"
  },
  "language_info": {
   "codemirror_mode": {
    "name": "ipython",
    "version": 3
   },
   "file_extension": ".py",
   "mimetype": "text/x-python",
   "name": "python",
   "nbconvert_exporter": "python",
   "pygments_lexer": "ipython3",
   "version": "3.11.10"
  }
 },
 "nbformat": 4,
 "nbformat_minor": 5
}
