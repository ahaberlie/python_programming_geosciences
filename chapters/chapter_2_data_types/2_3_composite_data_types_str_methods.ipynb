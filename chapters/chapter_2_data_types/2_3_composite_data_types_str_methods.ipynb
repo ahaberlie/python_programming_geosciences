{
 "cells": [
  {
   "cell_type": "markdown",
   "id": "e3b06ba9-8a6d-4e90-b359-ad1371b291cd",
   "metadata": {},
   "source": [
    "# Chapter 2.3 - String Methods\n",
    "\n",
    "High-level programming languages like Python include many features that greatly simplify common coding tasks. Some of these features are provided in the form of methods or [functions](https://docs.python.org/3/library/functions.html). Built-in or \"out of the box\" methods and functions organize basic Python syntax and data types into commonly used algorithms. These algorithms are already coded for you. Your main task then is to learn how to use these features effectively. In the case of strings, there are [many methods that strings already have](https://docs.python.org/3/library/stdtypes.html#string-methods) before you even write a single line of code.\n",
    "\n",
    "Assume that you have written the following code to define a string:\n",
    "\n",
    "```a = \"Hello there\"```\n",
    "\n",
    "Some examples of using methods for the variable ```a``` include:\n",
    "\n",
    "```a.upper()```\n",
    "> Changes all characters in your string to uppercase: ```HELLO THERE```\n",
    "\n",
    "```a.lower()```\n",
    "> Changes all characters in your string to lowercase: ```hello there```\n",
    "\n",
    "```a.title()```\n",
    "> Creates a string with the first letter of each word capitalized: ```Hello There```\n",
    "\n",
    "In Python, data types have specific functionality that is either implicit or explicit:\n",
    "\n",
    "- Implicit “Operations”:\n",
    "    - Example: \"add the integer 1 to the integer 1\"\n",
    "    - ```1 + 1```\n",
    "    - Output: 2\n",
    "    - Obvious and basic expectations for the data type\n",
    "    \n",
    "- Explicit \"Methods\":\n",
    "    - Example: \"convert every character to upper case\" \n",
    "    - ```\"lower\".upper()```\n",
    "    - Output: 'LOWER'\n",
    "    - Not obvious and not a basic expectation for the data type"
   ]
  },
  {
   "cell_type": "markdown",
   "id": "587f7f84-5d2b-45fb-a26d-cdfa249bbc3f",
   "metadata": {},
   "source": [
    "There is no symbol that would be obvious for converting all characters to upper case, so a method was created that all strings can use named ```upper()```.\n",
    "\n",
    "## Chapter 2.3.1 - Basic string function syntax\n",
    "\n",
    "The first requirement is that you define a ```str``` data type"
   ]
  },
  {
   "cell_type": "code",
   "execution_count": 1,
   "id": "d2d73254-274b-43c5-a7dc-af13bfa406ab",
   "metadata": {},
   "outputs": [
    {
     "name": "stdout",
     "output_type": "stream",
     "text": [
      "TEST\n"
     ]
    }
   ],
   "source": [
    "a = \"TEST\"\n",
    "\n",
    "print(a)"
   ]
  },
  {
   "cell_type": "markdown",
   "id": "20223728-754e-48c5-88f5-5d1385de1304",
   "metadata": {},
   "source": [
    "Next, you must use \"dot notation\" to tell Python you intend to use a string method:\n",
    "    \n",
    "```    \n",
    "a.\n",
    "```\n",
    "\n",
    "Immediately after the \"dot\", you must provide an existing method name. To find all possible method names, you can use the ```dir()``` command. This is sometimes useful for quick reminders, but does not tell us much about the method itself."
   ]
  },
  {
   "cell_type": "code",
   "execution_count": 2,
   "id": "f1a50b6d-7f05-48e4-a5d2-d4475073551e",
   "metadata": {},
   "outputs": [
    {
     "data": {
      "text/plain": [
       "['__add__',\n",
       " '__class__',\n",
       " '__contains__',\n",
       " '__delattr__',\n",
       " '__dir__',\n",
       " '__doc__',\n",
       " '__eq__',\n",
       " '__format__',\n",
       " '__ge__',\n",
       " '__getattribute__',\n",
       " '__getitem__',\n",
       " '__getnewargs__',\n",
       " '__getstate__',\n",
       " '__gt__',\n",
       " '__hash__',\n",
       " '__init__',\n",
       " '__init_subclass__',\n",
       " '__iter__',\n",
       " '__le__',\n",
       " '__len__',\n",
       " '__lt__',\n",
       " '__mod__',\n",
       " '__mul__',\n",
       " '__ne__',\n",
       " '__new__',\n",
       " '__reduce__',\n",
       " '__reduce_ex__',\n",
       " '__repr__',\n",
       " '__rmod__',\n",
       " '__rmul__',\n",
       " '__setattr__',\n",
       " '__sizeof__',\n",
       " '__str__',\n",
       " '__subclasshook__',\n",
       " 'capitalize',\n",
       " 'casefold',\n",
       " 'center',\n",
       " 'count',\n",
       " 'encode',\n",
       " 'endswith',\n",
       " 'expandtabs',\n",
       " 'find',\n",
       " 'format',\n",
       " 'format_map',\n",
       " 'index',\n",
       " 'isalnum',\n",
       " 'isalpha',\n",
       " 'isascii',\n",
       " 'isdecimal',\n",
       " 'isdigit',\n",
       " 'isidentifier',\n",
       " 'islower',\n",
       " 'isnumeric',\n",
       " 'isprintable',\n",
       " 'isspace',\n",
       " 'istitle',\n",
       " 'isupper',\n",
       " 'join',\n",
       " 'ljust',\n",
       " 'lower',\n",
       " 'lstrip',\n",
       " 'maketrans',\n",
       " 'partition',\n",
       " 'removeprefix',\n",
       " 'removesuffix',\n",
       " 'replace',\n",
       " 'rfind',\n",
       " 'rindex',\n",
       " 'rjust',\n",
       " 'rpartition',\n",
       " 'rsplit',\n",
       " 'rstrip',\n",
       " 'split',\n",
       " 'splitlines',\n",
       " 'startswith',\n",
       " 'strip',\n",
       " 'swapcase',\n",
       " 'title',\n",
       " 'translate',\n",
       " 'upper',\n",
       " 'zfill']"
      ]
     },
     "execution_count": 2,
     "metadata": {},
     "output_type": "execute_result"
    }
   ],
   "source": [
    "dir(a)"
   ]
  },
  {
   "cell_type": "markdown",
   "id": "5512fcf7-675f-442e-8ff7-1b094d3a2649",
   "metadata": {},
   "source": [
    "Say that we want to use a method that turns all characters into lower case. We can look at the output above and guess that 'lower' is a method that does just that.\n",
    "\n",
    "We then add that name, exactly as it appears, after the variable name:\n",
    "\n",
    "```\n",
    "a.lower\n",
    "```\n",
    "\n",
    "If we stop here, we will get the following output:"
   ]
  },
  {
   "cell_type": "code",
   "execution_count": 3,
   "id": "a130fb0f-3aad-48cb-af64-826a3bd2489b",
   "metadata": {},
   "outputs": [
    {
     "data": {
      "text/plain": [
       "<function str.lower()>"
      ]
     },
     "execution_count": 3,
     "metadata": {},
     "output_type": "execute_result"
    }
   ],
   "source": [
    "a.lower"
   ]
  },
  {
   "cell_type": "markdown",
   "id": "2660554b-cd06-45ba-902e-05e0639ea64a",
   "metadata": {},
   "source": [
    "The output from that code is the function (method) itself. We can examine this using the ```help()``` command to see if it does what we want it to do."
   ]
  },
  {
   "cell_type": "code",
   "execution_count": 4,
   "id": "3b09256a-edf6-4706-888f-fc3780644ce7",
   "metadata": {},
   "outputs": [
    {
     "name": "stdout",
     "output_type": "stream",
     "text": [
      "Help on built-in function lower:\n",
      "\n",
      "lower() method of builtins.str instance\n",
      "    Return a copy of the string converted to lowercase.\n",
      "\n"
     ]
    }
   ],
   "source": [
    "help(a.lower)"
   ]
  },
  {
   "cell_type": "markdown",
   "id": "cad32837-0fe6-455f-80d0-49839089b782",
   "metadata": {},
   "source": [
    "We need one more step to \"run\" the function. \n",
    "\n",
    "To run the function, you must add open and closed parentheses:\n",
    "    \n",
    "```\n",
    "a.lower()\n",
    "```"
   ]
  },
  {
   "cell_type": "code",
   "execution_count": 5,
   "id": "62ec9307-6542-4274-b671-da34a3d32970",
   "metadata": {},
   "outputs": [
    {
     "data": {
      "text/plain": [
       "'test'"
      ]
     },
     "execution_count": 5,
     "metadata": {},
     "output_type": "execute_result"
    }
   ],
   "source": [
    "a.lower()"
   ]
  },
  {
   "cell_type": "markdown",
   "id": "eb0f96c9-fc4e-4f0b-b072-c2d51d8dc649",
   "metadata": {},
   "source": [
    "Since we know the rules of setting variables, we also know that anything on the right side of an equation is evaluated first, and can be set equal to a variable:"
   ]
  },
  {
   "cell_type": "code",
   "execution_count": 6,
   "id": "100c1ee2-4db6-4ba9-9e1d-1edfdc343364",
   "metadata": {},
   "outputs": [
    {
     "name": "stdout",
     "output_type": "stream",
     "text": [
      "test\n"
     ]
    }
   ],
   "source": [
    "b = a.lower()\n",
    "\n",
    "print(b)"
   ]
  },
  {
   "cell_type": "markdown",
   "id": "8e5366a6-4a79-4955-9a4f-2cdc968d520a",
   "metadata": {},
   "source": [
    "## Chapter 2.3.2 - Parameters\n",
    "\n",
    "For some string methods, you are required to provide [parameters](https://en.wikipedia.org/wiki/Parameter_(computer_programming)).\n",
    "\n",
    "Parameters: \n",
    "> values that are used by the method to follow specific behavior needed for the task\n",
    "\n",
    "Example: \n",
    "\n",
    "Parameters x and y can be modified to control the result of this mathematical function: $F(x, y)$ = x$^{2}$ + y$^{2}$\n",
    "\n",
    "We can create a Python function that is equivalent to the equation above. We will learn all about how to create our own functions later in the class. Try changing x and y to see how that modifies the result."
   ]
  },
  {
   "cell_type": "code",
   "execution_count": 7,
   "id": "746d8784-604d-4de4-b121-e0651a0500ec",
   "metadata": {},
   "outputs": [
    {
     "name": "stdout",
     "output_type": "stream",
     "text": [
      "x = 2 y = 2\n",
      "F(x, y) = 8\n"
     ]
    }
   ],
   "source": [
    "def F(x, y):\n",
    "    return x**2 + y**2\n",
    "\n",
    "x = 2\n",
    "y = 2\n",
    "\n",
    "print(\"x =\", x, \"y =\", y)\n",
    "print(\"F(x, y) =\", F(2,2))"
   ]
  },
  {
   "cell_type": "markdown",
   "id": "fabe3069-964b-48b2-8f3a-08d2c5b6c73c",
   "metadata": {},
   "source": [
    "Example of using parameters: the ```split()``` function.\n",
    "\n",
    "If we run the ```help()``` command on ```split()```, we get the following description:"
   ]
  },
  {
   "cell_type": "code",
   "execution_count": 8,
   "id": "a9d14107-6fba-4b96-97b8-1135638dc710",
   "metadata": {},
   "outputs": [
    {
     "name": "stdout",
     "output_type": "stream",
     "text": [
      "Help on built-in function split:\n",
      "\n",
      "split(sep=None, maxsplit=-1) method of builtins.str instance\n",
      "    Return a list of the substrings in the string, using sep as the separator string.\n",
      "\n",
      "      sep\n",
      "        The separator used to split the string.\n",
      "\n",
      "        When set to None (the default value), will split on any whitespace\n",
      "        character (including \\n \\r \\t \\f and spaces) and will discard\n",
      "        empty strings from the result.\n",
      "      maxsplit\n",
      "        Maximum number of splits.\n",
      "        -1 (the default value) means no limit.\n",
      "\n",
      "    Splitting starts at the front of the string and works to the end.\n",
      "\n",
      "    Note, str.split() is mainly useful for data that has been intentionally\n",
      "    delimited.  With natural text that includes punctuation, consider using\n",
      "    the regular expression module.\n",
      "\n"
     ]
    }
   ],
   "source": [
    "help(b.split)"
   ]
  },
  {
   "cell_type": "markdown",
   "id": "4f940562-9b2c-4328-acd5-a90ff87851df",
   "metadata": {},
   "source": [
    "This time, ```help``` not only describes what the method does (return a list of the words in the string, using sep as the delimiter string.), but it also describes each method parameter.\n",
    "\n",
    "In this case, the ```sep``` parameter is used as a [delimiter](https://en.wikipedia.org/wiki/Delimiter) which splits the string into [subsets](https://en.wikipedia.org/wiki/Subset).\n",
    "\n",
    "For example, split the following into sentences:"
   ]
  },
  {
   "cell_type": "code",
   "execution_count": 10,
   "id": "46a8695a-a44c-4a57-8c99-d3146a9dde68",
   "metadata": {},
   "outputs": [
    {
     "data": {
      "text/plain": [
       "['The happy husky barked', ' The husky then jumped', '']"
      ]
     },
     "execution_count": 10,
     "metadata": {},
     "output_type": "execute_result"
    }
   ],
   "source": [
    "c = \"The happy husky barked. The husky then jumped.\"\n",
    "\n",
    "c.split(\".\")"
   ]
  },
  {
   "cell_type": "markdown",
   "id": "e01ae475-987e-440b-a96f-46a8270ce040",
   "metadata": {},
   "source": [
    "## Chapter 2.3.3 - Practice using string methods\n",
    "\n",
    "Using this website: https://www.w3schools.com/python/python_ref_string.asp\n",
    "\n",
    "Find and properly use string methods that can answer the following questions based on the given string definition. Use the ```help``` command or documentation on the website to determine how you can use these methods."
   ]
  },
  {
   "cell_type": "code",
   "execution_count": 10,
   "id": "273083e9-ffcc-4ba2-b4d1-1175db9cba6b",
   "metadata": {},
   "outputs": [
    {
     "name": "stdout",
     "output_type": "stream",
     "text": [
      "The temperature is 20 F, the dewpoint is 15 F\n"
     ]
    }
   ],
   "source": [
    "d = \"The temperature is 20 F, the dewpoint is 15 F\"\n",
    "\n",
    "print(d)"
   ]
  },
  {
   "cell_type": "markdown",
   "id": "1148f683-9658-4496-840a-83450799107e",
   "metadata": {},
   "source": [
    "1. Are all of the characters alphabetical?"
   ]
  },
  {
   "cell_type": "code",
   "execution_count": null,
   "id": "dfb7b83e-e8a0-4325-89d1-10ba23bdc0b3",
   "metadata": {},
   "outputs": [],
   "source": []
  },
  {
   "cell_type": "markdown",
   "id": "490b595d-215b-4ac5-b461-02c76999aefb",
   "metadata": {},
   "source": [
    "2. At what position (index) does the substring \"temperature\" begin?"
   ]
  },
  {
   "cell_type": "code",
   "execution_count": null,
   "id": "387eaf92-a324-4445-a7b5-d4bb71ebaf56",
   "metadata": {},
   "outputs": [],
   "source": []
  },
  {
   "cell_type": "markdown",
   "id": "3a4e0615-c8d6-429f-848c-df2f41bb559f",
   "metadata": {},
   "source": [
    "3. What are the two halves of the string if you use a comma to split them?"
   ]
  },
  {
   "cell_type": "code",
   "execution_count": null,
   "id": "12ee6cc0-0997-4777-bad4-20af0b9ab83d",
   "metadata": {},
   "outputs": [],
   "source": []
  },
  {
   "cell_type": "markdown",
   "id": "6acff552-b053-4a6e-b702-2129a4ded0e1",
   "metadata": {},
   "source": [
    "4. Does the string start with \"The\"?"
   ]
  },
  {
   "cell_type": "code",
   "execution_count": null,
   "id": "16b89aa4-0e73-493b-a803-37440fc08b1b",
   "metadata": {},
   "outputs": [],
   "source": []
  },
  {
   "cell_type": "markdown",
   "id": "42871cb8-e93d-43e1-b223-bc196a43e1f0",
   "metadata": {},
   "source": [
    "5. How many times does the letter \"e\" show up in the string?"
   ]
  },
  {
   "cell_type": "code",
   "execution_count": null,
   "id": "770e3f9d-9b4a-469e-a7c6-d2d9f51449a4",
   "metadata": {},
   "outputs": [],
   "source": []
  }
 ],
 "metadata": {
  "kernelspec": {
   "display_name": "Python 3 (ipykernel)",
   "language": "python",
   "name": "python3"
  },
  "language_info": {
   "codemirror_mode": {
    "name": "ipython",
    "version": 3
   },
   "file_extension": ".py",
   "mimetype": "text/x-python",
   "name": "python",
   "nbconvert_exporter": "python",
   "pygments_lexer": "ipython3",
   "version": "3.12.11"
  }
 },
 "nbformat": 4,
 "nbformat_minor": 5
}
