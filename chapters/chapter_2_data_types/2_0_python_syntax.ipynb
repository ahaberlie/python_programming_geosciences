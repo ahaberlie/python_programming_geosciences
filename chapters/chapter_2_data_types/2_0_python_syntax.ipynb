{
 "cells": [
  {
   "cell_type": "markdown",
   "id": "2ce47d28-daa4-4f85-8cc7-e5a737a5c62c",
   "metadata": {},
   "source": [
    "# Chapter 2 - Python Syntax\n",
    "\n",
    "Python is the most popular [general-purpose programming language](https://en.wikipedia.org/wiki/General-purpose_programming_language). According to a StackOverflow 2024 [survey](https://survey.stackoverflow.co/2024/technology#most-popular-technologies-language), only Javascript and HTML/CSS are more popular than Python, and Python is the most popular language for those learning to code. \n",
    "\n",
    "## 2.0.1 - Programming language structure\n",
    "\n",
    "In typical [four-year Computer Science programs](https://catalog.niu.edu/preview_program.php?catoid=62&poid=16943), there are multiple courses dedicated to the critical analysis of [programming language design](https://en.wikipedia.org/wiki/Programming_language_design_and_implementation). Each language has advantages and disadvantages that are obvious and not so obvious. Sometimes the choice of language is made for you by your job. However, if you can pick the language, what you choose in 2025 will very likely not be what you choose in 2045. Thus, it is good to know the general structure of programming languages so you can jump between languages without trouble. Because of this, Computer Science programs typically teach courses in [C++](https://en.wikipedia.org/wiki/C%2B%2B), [Java](https://en.wikipedia.org/wiki/Java_(programming_language)), or other [high-level programming languages](https://en.wikipedia.org/wiki/High-level_programming_language) due to their popularity in many fields as well as their general [object oriented programing](https://en.wikipedia.org/wiki/Object-oriented_programming) paradigm. Depending on the interests of the faculty, you might examine [COBOL](https://en.wikipedia.org/wiki/COBOL), [perl](https://en.wikipedia.org/wiki/Perl), [Ada](https://en.wikipedia.org/wiki/Ada_(programming_language)), [C#](https://en.wikipedia.org/wiki/C_Sharp_(programming_language)), [SQL](https://en.wikipedia.org/wiki/SQL), [Fortran](https://en.wikipedia.org/wiki/Fortran), and even [assembly](https://en.wikipedia.org/wiki/Assembly_language).\n",
    "\n",
    "## 2.0.2 - Python vs. C++ comparison\n",
    "\n",
    "When comparing and choosing programming languages, you need to consider many things, including:\n",
    "\n",
    "**1. Hardware requirements - Is the program running on an embedded device with limited RAM? Does it need to run on old laptops?**\n",
    "\n",
    "> &#10060; If response time is crucial and memory is limited, C++ or similar languages may be a better choice.\n",
    "\n",
    "> &#9989; Python can take advantage of the speed of C++ when it serves as a [wrapper](https://en.wikipedia.org/wiki/Wrapper_library) for an existing C++ library.\n",
    "\n",
    "**2. Project requirements - Are there budget limitations? How big is the program/team? What risks are involved?**\n",
    "\n",
    "> &#10060; Python uses [duck typing](https://en.wikipedia.org/wiki/Duck_typing), which can make development, testing, and maintenance more difficult compared to C++ or similar languages.\n",
    "\n",
    "> &#9989; Python has been moving towards better type handling using approaches like [type hints](https://docs.python.org/3/library/typing.html).\n",
    "\n",
    "**3. Ease of use - what is the experience level of your team? How quickly do you need to have a proof of concept?**\n",
    "\n",
    "> &#9989; Python generally requires fewer lines of code to do the same thing as more complex languages. Consider the \"Hello World!\" example\n",
    "\n",
    "> > Python\n",
    "> > > ```print(\"Hello World!\")```\n",
    "\n",
    "> > C++\n",
    "> > > ```\n",
    "> > > #include <iostream>\n",
    "> > >\n",
    "> > > int main() {\n",
    "> > >   std::cout << \"Hello, World!\" << std::endl;\n",
    "> > >   return 0;\n",
    "> > >}\n",
    "> > >```\n",
    "\n",
    "## 2.0.3 - Python Basics\n",
    "\n",
    "The computer will process the Python code you write starting from the top of the notebook and downward.\n",
    "\n",
    "In the following example, you will print out \"First\" and \"Second\" using ```print```. Python will process the first line, which tells the computer to print out \"First\". Next, it will process the second line, which tells the computer to print out \"Second\". New text will appear below the code block which signifies the code has been successfully processed (also referred to as *executed*). Try making small changes to the code below to see what happens. "
   ]
  },
  {
   "cell_type": "code",
   "execution_count": 2,
   "id": "9684b3a6-a0c6-43b4-a061-527da2b15cad",
   "metadata": {},
   "outputs": [
    {
     "name": "stdout",
     "output_type": "stream",
     "text": [
      "First\n",
      "Second\n"
     ]
    }
   ],
   "source": [
    "print(\"First\")\n",
    "print(\"Second\")"
   ]
  },
  {
   "cell_type": "markdown",
   "id": "36529fa6-ac04-4971-9d80-b8fe55e7431b",
   "metadata": {},
   "source": [
    "Defining variables in Python is very similar to setting variables in an algebra problem.\n",
    "\n",
    "However, there are some rules that will help you to understand and properly use variables."
   ]
  },
  {
   "cell_type": "markdown",
   "id": "4ed3598c-4bd5-42ec-9cac-3ce2914d91b4",
   "metadata": {},
   "source": [
    "## 2.0.4 - Variable rules\n",
    "\n",
    "**1. When a variable is defined, the variable will represent whatever value it has been assigned until:**\n",
    "\n",
    "> a. You restart, shut down, or log out of the notebook (or your IDE)\n",
    "\n",
    "> b. You redefine the variable (either implicitly or explicitly)\n",
    "\n",
    "**2. When a variable is defined, everything to the right of an equal sign (```=```) is evaluated first.**\n",
    "\n",
    "> a. A variable can be assigned to the result of a math operation that includes *itself*. The value does not change until the right side of the equation is evaluated.\n",
    "\n",
    "Examples of these rules will be explored in more detail in the next section."
   ]
  },
  {
   "cell_type": "markdown",
   "id": "b0d0222e-2857-4969-942c-6e019cccd218",
   "metadata": {},
   "source": [
    "## 2.0.5 - Summary of Chapter 2\n",
    "\n",
    "While not all of this will make sense at first, the best way to learn Python is to practice. The following sections will go into great detail about defining variables and the general types of values (*data types*) that can be used while defining variables."
   ]
  }
 ],
 "metadata": {
  "kernelspec": {
   "display_name": "Python [conda env:geo]",
   "language": "python",
   "name": "conda-env-geo-py"
  },
  "language_info": {
   "codemirror_mode": {
    "name": "ipython",
    "version": 3
   },
   "file_extension": ".py",
   "mimetype": "text/x-python",
   "name": "python",
   "nbconvert_exporter": "python",
   "pygments_lexer": "ipython3",
   "version": "3.11.10"
  }
 },
 "nbformat": 4,
 "nbformat_minor": 5
}
