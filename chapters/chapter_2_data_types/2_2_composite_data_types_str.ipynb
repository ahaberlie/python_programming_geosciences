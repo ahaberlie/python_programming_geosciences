{
 "cells": [
  {
   "cell_type": "markdown",
   "id": "10381c1b-1ab4-463d-9d2e-c90a77c4f5be",
   "metadata": {
    "tags": []
   },
   "source": [
    "# Chapter 2.2 - Strings\n",
    "\n",
    "Strings are any text identified in Python code within ```\"\"``` or ```''```\n",
    "\n",
    "**Full name: [string](https://docs.python.org/3/library/stdtypes.html#text-sequence-type-str)**\n",
    "\n",
    "**Python keyword: ```str```**\n",
    "\n",
    "**Python data type group: text sequence**\n",
    "\n",
    "## Chapter 2.2.1 - String overview\n",
    "\n",
    "Strings are our first introduction to composite (sometimes referred to as sequence) data types. These data types combine multiple [primitive data types](https://ahaberlie.github.io/python_programming_geosciences/primitive-data-types) and turn them into sequences of values. These sequences can include ```int```, ```float```, ```bool```, and other primitive data types. Unlike languages like C, C++, etc., that are [statically-typed](https://en.wikipedia.org/wiki/Type_system#Static_typing), Python has [dynamic typing](https://en.wikipedia.org/wiki/Type_system#Dynamic_type_checking_and_runtime_type_information). While both Python and C++, for example, use values that have types, variables in Python can change type at any time. This can be useful for beginning programmers who might have trouble dealing with the extra static typing syntax and behavior. However, it can also cause some hidden issues in your program because you might, for example, expect a counter to only have an ```int```, but if at some point during the program, you change it to a ```str```, Python will not stop you from doing so. Typing in Python is implicitly enforced when expected operations cause an error (e.g., \"adding\" an ```int``` and a ```str```).\n",
    "\n",
    "Strings are a special case of sequence data types. This is because they generally only allow the inclusion of alphanumeric characters in the sequence. We will learn about other sequence data types that do not enforce this requirement later in this chapter.\n",
    "\n",
    "We can call these alphanumeric values \"characters\" (actually called [Unicode](https://en.wikipedia.org/wiki/Unicode) codes) to match with the data type name in other common languages (e.g., ```char``` in C++, Java, etc.). Strings, therefore, are sequences of characters, where each character inhabits a specific position (index) in that sequence. For example, the first character in this sentence is \"F\".\n",
    "\n",
    "There are multiple ways to define strings:\n",
    "\n",
    "1. ```a = \"double quotes\"```\n",
    "2. ```a = 'single quotes'```\n",
    "3. ```a = \"\"\"triple quotes\"\"\"```\n",
    "\n",
    "While single and double quotes can only occur on one line, triple quotes can help your definition span multiple lines."
   ]
  },
  {
   "cell_type": "code",
   "execution_count": 14,
   "id": "909f1103-9753-487c-9870-3c5ea4739ff6",
   "metadata": {},
   "outputs": [
    {
     "name": "stdout",
     "output_type": "stream",
     "text": [
      "double quotes\n",
      "single quotes\n",
      "\n",
      "    triple \n",
      "    quotes\n",
      "    work\n",
      "    on\n",
      "    multiple\n",
      "    lines\n",
      "    \n"
     ]
    }
   ],
   "source": [
    "a = \"double quotes\"\n",
    "b = 'single quotes'\n",
    "c = \"\"\"\n",
    "    triple \n",
    "    quotes\n",
    "    work\n",
    "    on\n",
    "    multiple\n",
    "    lines\n",
    "    \"\"\"\n",
    "\n",
    "print(a)\n",
    "print(b)\n",
    "print(c)"
   ]
  },
  {
   "cell_type": "markdown",
   "id": "46ef70ee-bebc-431d-a50c-94d5b1e66bbc",
   "metadata": {},
   "source": [
    "## Chapter 2.2.2 - String rules\n",
    "\n",
    "The following rules will help you to effectively use strings in Python:\n",
    "\n",
    "### Rule #1\n",
    "\n",
    "> You must \"close\" a string using a starting ```\"``` and ending ```\"``` (alternatively a starting ```'``` and ending ```'```, or ```\"\"\"``` and ```\"\"\"``` for multiple lines).\n",
    "> Whatever you choose, you must open and close with the same symbol (e.g., do not start with ```\"``` and end with ```'```).\n",
    "\n",
    "### Rule #2\n",
    "\n",
    "> You cannot add an ```int``` or ```float``` to a ```str``` without first *casting* (type converting) those values.\n",
    "\n",
    "### Rule #3\n",
    "\n",
    ">If you need to format your strings or insert values, you must use an [f-string](https://docs.python.org/3/library/stdtypes.html#formatted-string-literals-f-strings) to do so."
   ]
  },
  {
   "cell_type": "markdown",
   "id": "0ef2c4e4-a94f-43a5-9f3b-2958c791455a",
   "metadata": {},
   "source": [
    "Related to Rule #2, you may be surprised to learn that we can treat strings like ```int``` or ```float``` by \"adding\" two variables, *as long as both variables are strings*. \n",
    "\n",
    "Fix the code below to print out ```Huskies #1```."
   ]
  },
  {
   "cell_type": "code",
   "execution_count": 13,
   "id": "9775889b-649e-4df9-8638-695e021a48b8",
   "metadata": {},
   "outputs": [
    {
     "ename": "TypeError",
     "evalue": "can only concatenate str (not \"int\") to str",
     "output_type": "error",
     "traceback": [
      "\u001b[31m---------------------------------------------------------------------------\u001b[39m",
      "\u001b[31mTypeError\u001b[39m                                 Traceback (most recent call last)",
      "\u001b[36mCell\u001b[39m\u001b[36m \u001b[39m\u001b[32mIn[13]\u001b[39m\u001b[32m, line 4\u001b[39m\n\u001b[32m      1\u001b[39m string1 = \u001b[33m\"\u001b[39m\u001b[33mHuskies #\u001b[39m\u001b[33m\"\u001b[39m \n\u001b[32m      2\u001b[39m string2 = \u001b[32m1\u001b[39m\n\u001b[32m----> \u001b[39m\u001b[32m4\u001b[39m string3 = \u001b[43mstring1\u001b[49m\u001b[43m \u001b[49m\u001b[43m+\u001b[49m\u001b[43m \u001b[49m\u001b[43mstring2\u001b[49m\n\u001b[32m      6\u001b[39m \u001b[38;5;28mprint\u001b[39m(string3)\n",
      "\u001b[31mTypeError\u001b[39m: can only concatenate str (not \"int\") to str"
     ]
    }
   ],
   "source": [
    "string1 = \"Huskies #\" \n",
    "string2 = 1\n",
    "\n",
    "string3 = string1 + string2\n",
    "\n",
    "print(string3)"
   ]
  },
  {
   "cell_type": "markdown",
   "id": "9ae31b13-6f14-46ae-b400-e71d2704f238",
   "metadata": {},
   "source": [
    "However, we typically want to use more complex approaches which include:\n",
    "\n",
    "1. *casting* / *[type conversion](https://en.wikipedia.org/wiki/Type_conversion)*: converting ```int``` or ```float``` into ```str```\n",
    "2. *format string* / *f-string*: defining where and how to insert an ```int``` or ```float``` into a ```str``` (see Rule #3)"
   ]
  },
  {
   "cell_type": "markdown",
   "id": "2c213743-c345-42d4-88ee-a8e188bac6ab",
   "metadata": {},
   "source": [
    "## Chapter 2.2.3 - Defining strings (Rule #1)\n",
    "\n",
    "This is the first thing you should check if you are debugging / troubleshooting code with strings.\n",
    "\n",
    "In the following example, I try to set a variable to a string value, but I do not close the end of the string with ```\"```. You get a SyntaxError, which suggests something very basic is wrong. When you see \"EOL while scanning string literal\", that means that the interpreter expected a second ```\"``` and never got one. This is an error that will stop your code from running."
   ]
  },
  {
   "cell_type": "code",
   "execution_count": 4,
   "id": "a69389fe-fb2a-4c9d-938f-7b481c9c9644",
   "metadata": {},
   "outputs": [
    {
     "ename": "SyntaxError",
     "evalue": "EOL while scanning string literal (2223050075.py, line 1)",
     "output_type": "error",
     "traceback": [
      "\u001b[0;36m  Cell \u001b[0;32mIn[4], line 1\u001b[0;36m\u001b[0m\n\u001b[0;31m    a = \"Test\u001b[0m\n\u001b[0m             ^\u001b[0m\n\u001b[0;31mSyntaxError\u001b[0m\u001b[0;31m:\u001b[0m EOL while scanning string literal\n"
     ]
    }
   ],
   "source": [
    "a = \"Test"
   ]
  },
  {
   "cell_type": "markdown",
   "id": "30253820-c296-4f62-bab3-2d9a29d65989",
   "metadata": {},
   "source": [
    "You can also get an error if you mix up your ```\"``` and ```'```"
   ]
  },
  {
   "cell_type": "code",
   "execution_count": 5,
   "id": "eb8f0284-48d5-479e-a61d-8fef65a51249",
   "metadata": {},
   "outputs": [
    {
     "ename": "SyntaxError",
     "evalue": "EOL while scanning string literal (574949106.py, line 1)",
     "output_type": "error",
     "traceback": [
      "\u001b[0;36m  Cell \u001b[0;32mIn[5], line 1\u001b[0;36m\u001b[0m\n\u001b[0;31m    a = \"Test'\u001b[0m\n\u001b[0m              ^\u001b[0m\n\u001b[0;31mSyntaxError\u001b[0m\u001b[0;31m:\u001b[0m EOL while scanning string literal\n"
     ]
    }
   ],
   "source": [
    "a = \"Test'"
   ]
  },
  {
   "cell_type": "markdown",
   "id": "1ee057fc-17d3-4f3e-9336-9a397c051ef4",
   "metadata": {},
   "source": [
    "Be consistent!"
   ]
  },
  {
   "cell_type": "code",
   "execution_count": 7,
   "id": "562fa719-bc8c-43c1-b9f8-81df788a0756",
   "metadata": {},
   "outputs": [
    {
     "name": "stdout",
     "output_type": "stream",
     "text": [
      "NIU\n",
      "NIU\n"
     ]
    }
   ],
   "source": [
    "a = \"NIU\"\n",
    "b = 'NIU'\n",
    "\n",
    "print(a)\n",
    "print(b)"
   ]
  },
  {
   "cell_type": "markdown",
   "id": "c2fdbcb8-ee63-465e-bd34-5b616c491edd",
   "metadata": {},
   "source": [
    "Why does the following not work?"
   ]
  },
  {
   "cell_type": "code",
   "execution_count": 17,
   "id": "0673712d-9097-44ca-ab98-d8f5ba23ce0b",
   "metadata": {},
   "outputs": [
    {
     "ename": "NameError",
     "evalue": "name 'Test' is not defined",
     "output_type": "error",
     "traceback": [
      "\u001b[0;31m---------------------------------------------------------------------------\u001b[0m",
      "\u001b[0;31mNameError\u001b[0m                                 Traceback (most recent call last)",
      "Cell \u001b[0;32mIn[17], line 1\u001b[0m\n\u001b[0;32m----> 1\u001b[0m a \u001b[38;5;241m=\u001b[39m \u001b[43mTest\u001b[49m\n",
      "\u001b[0;31mNameError\u001b[0m: name 'Test' is not defined"
     ]
    }
   ],
   "source": [
    "a = Test"
   ]
  },
  {
   "cell_type": "markdown",
   "id": "51ce715e-2fd6-4bc1-bb20-64df5c4a5bea",
   "metadata": {},
   "source": [
    "## Chapter 2.2.4 - String conversions (Rule #2)\n",
    "\n",
    "This is a rule across most programming languages, and is a subset of a more general rule that data types have different purposes and abilities. It is up to the programmer to make sure the right data type is being used. If the correct data type is not in place, casting (type conversion) is required.\n",
    "\n",
    "In the case of ```float``` and ```int```, the conversion is straightforward:"
   ]
  },
  {
   "cell_type": "code",
   "execution_count": 8,
   "id": "7197118b-3ea3-4168-a385-01f60a90e708",
   "metadata": {},
   "outputs": [
    {
     "name": "stdout",
     "output_type": "stream",
     "text": [
      "1\n",
      "1.5\n"
     ]
    }
   ],
   "source": [
    "int_example = 1\n",
    "float_example = 1.5\n",
    "\n",
    "int_to_str_example = str(int_example)\n",
    "float_to_str_example = str(float_example)\n",
    "\n",
    "print(int_to_str_example)\n",
    "print(float_to_str_example)"
   ]
  },
  {
   "cell_type": "markdown",
   "id": "cbb69ccf-920a-4b73-a9a7-71f1d05d856f",
   "metadata": {},
   "source": [
    "The original data types are incompatible with strings, and you will get a TypeError, which suggests there is an incompatible data type problem.\n",
    "\n",
    "NOTE: notice how the variables defined in the code cell above are able to be used by the code below. This is true as long as the code cell above is \"run\" before the code cells below OR if those variables are defined before the examples below."
   ]
  },
  {
   "cell_type": "code",
   "execution_count": 9,
   "id": "b7cf3ca1-0517-43aa-a0d0-22c7dcbc6791",
   "metadata": {},
   "outputs": [
    {
     "ename": "TypeError",
     "evalue": "can only concatenate str (not \"int\") to str",
     "output_type": "error",
     "traceback": [
      "\u001b[0;31m---------------------------------------------------------------------------\u001b[0m",
      "\u001b[0;31mTypeError\u001b[0m                                 Traceback (most recent call last)",
      "Cell \u001b[0;32mIn[9], line 1\u001b[0m\n\u001b[0;32m----> 1\u001b[0m combined_str \u001b[38;5;241m=\u001b[39m \u001b[38;5;124;43m\"\u001b[39;49m\u001b[38;5;124;43mThe answer is \u001b[39;49m\u001b[38;5;124;43m\"\u001b[39;49m\u001b[43m \u001b[49m\u001b[38;5;241;43m+\u001b[39;49m\u001b[43m \u001b[49m\u001b[43mint_example\u001b[49m\n",
      "\u001b[0;31mTypeError\u001b[0m: can only concatenate str (not \"int\") to str"
     ]
    }
   ],
   "source": [
    "combined_str = \"The answer is \" + int_example"
   ]
  },
  {
   "cell_type": "code",
   "execution_count": 10,
   "id": "1a6383bd-de45-41b4-bbb9-07180ff2c312",
   "metadata": {},
   "outputs": [
    {
     "ename": "TypeError",
     "evalue": "can only concatenate str (not \"float\") to str",
     "output_type": "error",
     "traceback": [
      "\u001b[0;31m---------------------------------------------------------------------------\u001b[0m",
      "\u001b[0;31mTypeError\u001b[0m                                 Traceback (most recent call last)",
      "Cell \u001b[0;32mIn[10], line 1\u001b[0m\n\u001b[0;32m----> 1\u001b[0m combined_str \u001b[38;5;241m=\u001b[39m \u001b[38;5;124;43m\"\u001b[39;49m\u001b[38;5;124;43mThe answer is \u001b[39;49m\u001b[38;5;124;43m\"\u001b[39;49m\u001b[43m \u001b[49m\u001b[38;5;241;43m+\u001b[39;49m\u001b[43m \u001b[49m\u001b[43mfloat_example\u001b[49m\n",
      "\u001b[0;31mTypeError\u001b[0m: can only concatenate str (not \"float\") to str"
     ]
    }
   ],
   "source": [
    "combined_str = \"The answer is \" + float_example"
   ]
  },
  {
   "cell_type": "markdown",
   "id": "c2abd124-617e-405b-a301-a11eb6c81bb8",
   "metadata": {},
   "source": [
    "However, after casting, the variables are now also ```str``` and can be added to another string:"
   ]
  },
  {
   "cell_type": "code",
   "execution_count": 13,
   "id": "27c98be3-aa38-4c38-8933-5d290c73c7bd",
   "metadata": {},
   "outputs": [
    {
     "name": "stdout",
     "output_type": "stream",
     "text": [
      "The answer is 1\n"
     ]
    }
   ],
   "source": [
    "combined_str = \"The answer is \" + int_to_str_example\n",
    "\n",
    "print(combined_str)"
   ]
  },
  {
   "cell_type": "code",
   "execution_count": 14,
   "id": "f937ee19-a779-4441-9dfa-3f2b962f777b",
   "metadata": {},
   "outputs": [
    {
     "name": "stdout",
     "output_type": "stream",
     "text": [
      "The answer is 1.5\n"
     ]
    }
   ],
   "source": [
    "combined_str = \"The answer is \" + float_to_str_example\n",
    "\n",
    "print(combined_str)"
   ]
  },
  {
   "cell_type": "markdown",
   "id": "817a6a19-980e-4ebf-8fb7-52916d9e6233",
   "metadata": {},
   "source": [
    "In some cases, a string can be cast to an ```int``` or ```float```. This only works if the string is \"obviously\" a number:"
   ]
  },
  {
   "cell_type": "code",
   "execution_count": 15,
   "id": "76324506-c14c-4905-a25b-3cd20ff2b978",
   "metadata": {},
   "outputs": [
    {
     "name": "stdout",
     "output_type": "stream",
     "text": [
      "1.452\n"
     ]
    }
   ],
   "source": [
    "str_number = \"1.452\"\n",
    "\n",
    "str_to_float_number = float(str_number)\n",
    "\n",
    "print(str_to_float_number)"
   ]
  },
  {
   "cell_type": "markdown",
   "id": "1188ac03-6196-4dba-9b10-ebd4065e912f",
   "metadata": {},
   "source": [
    "Did the following code work as expected? If not, what do you have to do to make it work?"
   ]
  },
  {
   "cell_type": "code",
   "execution_count": 16,
   "id": "25523877-eb26-44b9-b66a-a4f95786fb60",
   "metadata": {},
   "outputs": [
    {
     "name": "stdout",
     "output_type": "stream",
     "text": [
      "1.4523.134\n"
     ]
    }
   ],
   "source": [
    "str_number_1 = \"1.452\"\n",
    "str_number_2 = \"3.134\"\n",
    "\n",
    "result = str_number_1 + str_number_2\n",
    "\n",
    "print(result)"
   ]
  },
  {
   "cell_type": "markdown",
   "id": "c460b544-628c-45db-b7ef-e5e91299d587",
   "metadata": {},
   "source": [
    "## Chapter 2.2.5 - Formatting strings (Rule #3)\n",
    "\n",
    "A basic string is defined as in the examples above:"
   ]
  },
  {
   "cell_type": "code",
   "execution_count": 1,
   "id": "23282a6a-bd82-4024-af2b-9e3510fa0575",
   "metadata": {},
   "outputs": [
    {
     "name": "stdout",
     "output_type": "stream",
     "text": [
      "test\n"
     ]
    }
   ],
   "source": [
    "a = \"test\"\n",
    "\n",
    "print(a)"
   ]
  },
  {
   "cell_type": "markdown",
   "id": "d5fc9b06-c1a1-47ee-bfd8-f24b8cd09911",
   "metadata": {},
   "source": [
    "If you have multiple variables to print, you can use a print statement with commas to print the values along with spaces:"
   ]
  },
  {
   "cell_type": "code",
   "execution_count": 2,
   "id": "2f475ed7-6a64-4401-aea2-75fd21fd9b9a",
   "metadata": {},
   "outputs": [
    {
     "name": "stdout",
     "output_type": "stream",
     "text": [
      "Let's Go Huskies!\n"
     ]
    }
   ],
   "source": [
    "a = \"Let's\"\n",
    "b = \"Go\"\n",
    "c = \"Huskies!\"\n",
    "\n",
    "print(a, b, c)"
   ]
  },
  {
   "cell_type": "markdown",
   "id": "b98f28a9-40a7-4c66-93b6-1b3bff2fcdf5",
   "metadata": {},
   "source": [
    "This works well with strings, but can result in undesirable results when using other data types, particularly ```float```"
   ]
  },
  {
   "cell_type": "code",
   "execution_count": 4,
   "id": "6d7588aa-e1b7-4070-b832-e85b78644b7f",
   "metadata": {},
   "outputs": [
    {
     "name": "stdout",
     "output_type": "stream",
     "text": [
      "1 / 3 = 0.3333333333333333\n"
     ]
    }
   ],
   "source": [
    "a = 1\n",
    "b = 3\n",
    "c = a / b\n",
    "\n",
    "print(a, \"/\", b, \"=\", c)"
   ]
  },
  {
   "cell_type": "markdown",
   "id": "df5a056a-39f8-4e43-9484-a1b45a7789f4",
   "metadata": {},
   "source": [
    "Notice that we have many decimal places. \n",
    "\n",
    "Often you are required to cut off the display of decimals at two decimal places. \n",
    "\n",
    "There is no obvious way to make this work with what we have learned so far.\n",
    "\n",
    "### f-string syntax\n",
    "\n",
    "f-strings (formatted strings) can take other data types, format them in a predictable way, and then output the result.\n",
    "\n",
    "There are only two main differences between a normal string and f-string\n",
    "\n",
    "1. You must put an ```f``` in front of the first ```\"```.\n",
    "2. You must place \"{ }\" in the string where you would like to insert a value.\n",
    "\n",
    "An example is shown below, where you insert a, b, and c like above into a string and then print the string:"
   ]
  },
  {
   "cell_type": "code",
   "execution_count": 5,
   "id": "f0994eef-73d1-4e72-9dfc-a5baa4e9b4df",
   "metadata": {},
   "outputs": [
    {
     "name": "stdout",
     "output_type": "stream",
     "text": [
      "1 / 3 = 0.3333333333333333\n"
     ]
    }
   ],
   "source": [
    "a = 1\n",
    "b = 3\n",
    "c = a / b\n",
    "\n",
    "result = f\"{a} / {b} = {c}\"\n",
    "\n",
    "print(result)"
   ]
  },
  {
   "cell_type": "markdown",
   "id": "d24316d0-df65-4946-a071-b35df97111f8",
   "metadata": {},
   "source": [
    "This is the most basic way we can insert variables into a string. While this is not particularly useful, we will see the utility in subsequent examples.\n",
    "\n",
    "### Formatting numbers\n",
    "\n",
    "When inserting numbers (```int```, ```float```) into a string, you must provide 3 pieces of information within the brackets (```{ }```):\n",
    "    \n",
    "1. The variable you wish to insert\n",
    "2. The data type of the variable\n",
    "3. The formatting code\n",
    "\n",
    "The most common formatting task is to take a float and display a fixed amount of decimal places.\n",
    "\n",
    "A basic template for this process can be seen below, where precision is the count of decimal places (try changing the precision variable from 2 to 3):"
   ]
  },
  {
   "cell_type": "code",
   "execution_count": 22,
   "id": "bc167a9b-1d6f-4672-8a34-8ddaeb673344",
   "metadata": {},
   "outputs": [
    {
     "name": "stdout",
     "output_type": "stream",
     "text": [
      "1.67\n"
     ]
    }
   ],
   "source": [
    "variable = 1.66666666666\n",
    "precision = 2\n",
    "\n",
    "formatted_float = f\"{variable:.{precision}f}\"\n",
    "\n",
    "print(formatted_float)"
   ]
  },
  {
   "cell_type": "markdown",
   "id": "4fbc0cbd-0012-4105-93cb-2c0878c72cfc",
   "metadata": {},
   "source": [
    "You can also write it as such:"
   ]
  },
  {
   "cell_type": "code",
   "execution_count": 23,
   "id": "22b29609-ff55-49ec-9e51-6d1806f3fe1a",
   "metadata": {},
   "outputs": [
    {
     "name": "stdout",
     "output_type": "stream",
     "text": [
      "1.67\n"
     ]
    }
   ],
   "source": [
    "variable = 1.66666666666\n",
    "\n",
    "formatted_float = f\"{variable:.2f}\"\n",
    "\n",
    "print(formatted_float)"
   ]
  },
  {
   "cell_type": "markdown",
   "id": "0cc909a1-96e0-4e5d-a1d6-73ae27d5a941",
   "metadata": {},
   "source": [
    "For the a, b, c example above, you would replace the above example with this:"
   ]
  },
  {
   "cell_type": "code",
   "execution_count": 25,
   "id": "e72445da-6586-4b51-9139-e208ce72a584",
   "metadata": {},
   "outputs": [
    {
     "name": "stdout",
     "output_type": "stream",
     "text": [
      "1 / 3 = 0.33\n"
     ]
    }
   ],
   "source": [
    "a = 1\n",
    "b = 3\n",
    "c = a / b\n",
    "\n",
    "result = f\"{a} / {b} = {c:.2f}\"\n",
    "\n",
    "print(result)"
   ]
  },
  {
   "cell_type": "markdown",
   "id": "81f72897-2501-49c1-987b-4401fac286b4",
   "metadata": {},
   "source": [
    "## Chapter 2.2.6 - Student Summarization\n",
    "\n",
    "Use markdown cells to describe the code and use code cells to include code examples from the slideshow that summarize string usage"
   ]
  },
  {
   "cell_type": "code",
   "execution_count": null,
   "id": "bdc73d04-387a-456f-90c3-bab87c593444",
   "metadata": {},
   "outputs": [],
   "source": [
    "# code cell"
   ]
  },
  {
   "cell_type": "markdown",
   "id": "758910d5-4297-4868-9409-f2935e9eb377",
   "metadata": {},
   "source": [
    "markdown cell"
   ]
  }
 ],
 "metadata": {
  "kernelspec": {
   "display_name": "Python 3 (ipykernel)",
   "language": "python",
   "name": "python3"
  },
  "language_info": {
   "codemirror_mode": {
    "name": "ipython",
    "version": 3
   },
   "file_extension": ".py",
   "mimetype": "text/x-python",
   "name": "python",
   "nbconvert_exporter": "python",
   "pygments_lexer": "ipython3",
   "version": "3.12.11"
  }
 },
 "nbformat": 4,
 "nbformat_minor": 5
}
