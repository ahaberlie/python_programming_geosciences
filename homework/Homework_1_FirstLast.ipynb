{
 "cells": [
  {
   "cell_type": "markdown",
   "id": "7e6d2809-abbd-4d87-aa01-63df2a9ce10d",
   "metadata": {},
   "source": [
    "# Homework 1 - Humidity Calculations\n",
    "\n",
    "**10 total points**\n",
    "\n",
    "### Background Information: Relative humidity\n",
    "\n",
    "1. The measured partial pressure of water vapor in the atmosphere (vapor pressure)\n",
    "2. The \"maxmimum\" partial pressure of water vapor (saturation vapor pressure).\n",
    "\n",
    "Saturation vapor pressure is sometimes simplified as the \"capacity\" of the air to hold water vapor, and it is directly related to temperature.\n",
    "\n",
    "The vapor pressure is the actual amount of water vapor in the air, and it is directly related to the dew point.\n",
    "\n",
    "Relative humidity is ratio of actual to maximum water vapor in the air, and is communicated as \"percent of capacity\". In reality, it is more complex than that, but it will be fine to think of it that way for our purposes.\n",
    "\n",
    "You can compare it to your grade in the course:\n",
    "\n",
    "Total possible points = saturation vapor pressure\n",
    "\n",
    "points earned = vapor pressure\n",
    "\n",
    "Grade in the course = 100 x (points earned / total possible points)\n",
    "\n",
    "Relative humidity = 100 x (vapor pressure / saturation vapor pressure)\n",
    "\n",
    "### Exponents with math.exp()\n",
    "\n",
    "where e ^ (said out loud \"e to the\") is a Python function called math.exp(). You have to put everything in the parentheses in (2) within the parentheses in math.exp().\n",
    "\n",
    "Here is an example:\n",
    "\n",
    "```\n",
    "math.exp(x + y)  #equivalent to e ^ (x + y) \"e to the x plus y\"\n",
    "```"
   ]
  },
  {
   "cell_type": "markdown",
   "id": "5d306321-ad64-481a-8653-de1ce940c0a5",
   "metadata": {},
   "source": [
    "## Directions\n",
    "\n",
    "- Due: **10/01/2025 @ 11:59 p.m.**\n",
    "- Change the name of your notebook to HW1_FirstLast.ipynb, where First is your first name and Last is your last name.\n",
    "- For each of the following prompts, write or modify Python code that fulfills the requirements. "
   ]
  },
  {
   "cell_type": "markdown",
   "id": "6b435109-3478-426c-a8f4-27793bd6fb75",
   "metadata": {},
   "source": [
    "## Important information to remember\n",
    "\n",
    "- Periodically, you should click File -> Save Notebook\n",
    "- When you are done working for the day, click File -> Log Out\n",
    "- When you are finished, download the notebook and upload it to the submission link\n",
    "- I will reset the notebook and run each code block on its own. You will receive half credit if you rely on a variable from a previous or subsequent code block."
   ]
  },
  {
   "cell_type": "markdown",
   "id": "a9f43bc9-9dc5-4089-84d0-d78d13ff1b89",
   "metadata": {},
   "source": [
    "## Summary of HW1 tasks. \n",
    "\n",
    "Each task is to be answered below the markdown cell that has the task number. Please use the existing markdown and code cell combinations. You do not need to redefine your variables in subsequent code cells. As long as you run the code cell, the variable will be available for equations and messages.\n",
    "\n",
    "### Task 1 (1.5 points)\n",
    "\n",
    "Set your constants by translating the following equations to Python code. I have provided the variable name you must use for each case:\n",
    "\n",
    "> $\\quad e_0 = 0.611 \\, kPa$ (use Python variable name ```E0```; **0.5 pts**)\n",
    "\n",
    "> $\\quad \\frac{L}{R_v} = 5423 \\, K$ (use Python variable name ```LRV```; **0.5 pts**)\n",
    "\n",
    "> $\\quad T_0 = 273 \\, K$ (use Python variable name ```T0```; **0.5 pts**)\n",
    "\n",
    "Place your code below:"
   ]
  },
  {
   "cell_type": "code",
   "execution_count": null,
   "id": "88005538-c7f1-4153-9cc2-35b3633faa17",
   "metadata": {},
   "outputs": [],
   "source": []
  },
  {
   "cell_type": "markdown",
   "id": "ac31ddfb-e7af-46fd-b690-059f8b1def06",
   "metadata": {},
   "source": [
    "### Task 2 (1 point)\n",
    "\n",
    "> Set your temperature in Fahrenheit (use the Python variable ```temp_f```; **0.5 pts**)\n",
    "\n",
    "> Set your dewpoint in Fahrenheit (use the Python variable ```dewp_f```; **0.5 pts**)\n",
    "\n",
    "Place your code below:"
   ]
  },
  {
   "cell_type": "code",
   "execution_count": null,
   "id": "695d29ce-8676-41e0-9ab1-840ef7afc5c2",
   "metadata": {},
   "outputs": [],
   "source": []
  },
  {
   "cell_type": "markdown",
   "id": "c72b4f87-c018-4e7e-82cd-f526a4a16e40",
   "metadata": {},
   "source": [
    "### Task 3 (2 points)\n",
    "\n",
    "Convert ```temp_f``` and ```dewp_f``` in Fahrenheit (F) to Kelvin (K) using the following equation:\n",
    "\n",
    "> $temperature_K = (temperature_F + 459.67) \\times \\frac{5}{9}$ (use Python variable ```temp_k```; **1 pt**)\n",
    "\n",
    "> $dewpoint_K = (dewpoint_F + 459.67) \\times \\frac{5}{9}$ (use Python variable ```dewp_k```; **1 pt**)\n",
    "\n",
    "Place your code below:"
   ]
  },
  {
   "cell_type": "code",
   "execution_count": null,
   "id": "d23fe09a-d3ff-445c-bf1f-d552f7e43575",
   "metadata": {},
   "outputs": [],
   "source": []
  },
  {
   "cell_type": "markdown",
   "id": "10125c04-de63-4242-b697-89af1164b4be",
   "metadata": {},
   "source": [
    "### Task 4 (2.5 points)\n",
    "\n",
    "Calculate the *partial pressure of water vapor* ($e_p$) and *saturation vapor pressure* ($e_s$) based on the following equations using the constants, temperature, and dewpoint. You must use the variables you defined or calculated in Task 1 - 3. I should be able to simply change the values for your variable definitions and get the correct answer.\n",
    "\n",
    "> $e_p = e_0 \\cdot e^{\\frac{L}{R_v} \\left( \\frac{1}{T_0} - \\frac{1}{D_F} \\right)}$ (use Python variable ```ep```; **1.25 pts**)\n",
    "\n",
    "> $e_s = e_0 \\cdot e^{\\frac{L}{R_v} \\left( \\frac{1}{T_0} - \\frac{1}{T_F} \\right)}$ (use Python variable ```es```; **1.25 pts**)\n",
    "\n",
    "Place your code below:"
   ]
  },
  {
   "cell_type": "code",
   "execution_count": null,
   "id": "cc38807f-1fda-4fab-bbb8-dacdf91c46b2",
   "metadata": {},
   "outputs": [],
   "source": []
  },
  {
   "cell_type": "markdown",
   "id": "3e52e5af-6e4e-4ab7-946e-c9f194a1849e",
   "metadata": {},
   "source": [
    "### Task 5 (1.5 points)\n",
    "\n",
    "Calculate relative humidity by *translating* the definition of relative humidity found on wikipedia to Python code using variables from Task 4: https://en.m.wikipedia.org/wiki/Humidity#Relative_humidity (**1.5 pts**).\n",
    "\n",
    "To test your code, these are a few answers you should get (approximately) if you have certain temperature and dewpoint values. Be sure to change your temperature and dewpoint values to one of these examples, see what your code outputs as relative humidity, and then try another example.\n",
    "\n",
    "|temperature|dewpoint|relative humidity|\n",
    "|----|----|----|\n",
    "|33|20|58.45|\n",
    "|40|40|100.00|\n",
    "|10|0|63.63|\n",
    "|20|25|123.36|\n",
    "\n",
    "Place your code below:"
   ]
  },
  {
   "cell_type": "code",
   "execution_count": null,
   "id": "bbf35d99-caed-485c-af5b-6af1aa52bcec",
   "metadata": {},
   "outputs": [],
   "source": []
  },
  {
   "cell_type": "markdown",
   "id": "82aabaa9-a0cb-4a41-9507-b8757700eaca",
   "metadata": {},
   "source": [
    "### Task 6 (1.5 points)\n",
    "\n",
    "Format your printed answers as shown in the ```output``` column using the example temperature and dewpoint data in Task 5 to test your formatting.\n",
    "\n",
    "All spaces and formatting are required (**1 pt**). If the relative humidity is higher than 100%, you need to add this message: ```\"Error! > 100\"``` to the end of your string. You must use an ```if else``` statement to do this (HINT: what are the two cases we need to test for? **0.5 pts**). Note that depending on the size of your screen, the messages might be \"squished\" to the next line. You are not required to deal with this issue. \n",
    "\n",
    "**Again, I only want you to print out a message that matches the formatting from the ```output``` column examples.** When I grade, I will just change your dewpoint and temperature values and see if your message is formatted correctly.\n",
    "\n",
    "|temperature|dewpoint|relative humidity|output|\n",
    "|----|----|----|----|\n",
    "|33|20|58.45|```T = 33 Td = 20 and your answer is 58.45 %```|\n",
    "|40|40|100.00|```T = 40 Td = 40 and your answer is 100.00 %```|\n",
    "|10|0|63.63|```T = 10 Td = 0 and your answer is 63.63 %```|\n",
    "|20|25|123.36|```T = 20 Td = 25 and your answer is 123.36 % (Error! > 100)```|\n",
    "\n",
    "Place your code below:"
   ]
  },
  {
   "cell_type": "code",
   "execution_count": null,
   "id": "0c5f692f-d344-4552-a622-89f5e236379e",
   "metadata": {},
   "outputs": [],
   "source": []
  }
 ],
 "metadata": {
  "kernelspec": {
   "display_name": "Python 3 (ipykernel)",
   "language": "python",
   "name": "python3"
  },
  "language_info": {
   "codemirror_mode": {
    "name": "ipython",
    "version": 3
   },
   "file_extension": ".py",
   "mimetype": "text/x-python",
   "name": "python",
   "nbconvert_exporter": "python",
   "pygments_lexer": "ipython3",
   "version": "3.12.11"
  }
 },
 "nbformat": 4,
 "nbformat_minor": 5
}
